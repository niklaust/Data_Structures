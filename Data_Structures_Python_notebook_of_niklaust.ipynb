{
  "nbformat": 4,
  "nbformat_minor": 0,
  "metadata": {
    "colab": {
      "provenance": [],
      "collapsed_sections": [],
      "authorship_tag": "ABX9TyNeNY8n70CLjjO/T+VOJ55i",
      "include_colab_link": true
    },
    "kernelspec": {
      "name": "python3",
      "display_name": "Python 3"
    },
    "language_info": {
      "name": "python"
    }
  },
  "cells": [
    {
      "cell_type": "markdown",
      "metadata": {
        "id": "view-in-github",
        "colab_type": "text"
      },
      "source": [
        "<a href=\"https://colab.research.google.com/github/niklaust/Data_Structures/blob/main/Data_Structures_Python_notebook_of_niklaust.ipynb\" target=\"_parent\"><img src=\"https://colab.research.google.com/assets/colab-badge.svg\" alt=\"Open In Colab\"/></a>"
      ]
    },
    {
      "cell_type": "markdown",
      "source": [
        "<h1><center><b>Data Structures by Python</b></center></h1>"
      ],
      "metadata": {
        "id": "n6tTy51XUqaO"
      }
    },
    {
      "cell_type": "markdown",
      "source": [
        "github:niklaust"
      ],
      "metadata": {
        "id": "_b2Kb6qUTg63"
      }
    },
    {
      "cell_type": "markdown",
      "source": [
        "#<center><b>Data Structures</b></center>"
      ],
      "metadata": {
        "id": "7ITF-BatTPUv"
      }
    },
    {
      "cell_type": "markdown",
      "source": [
        "**Python Data Structures**\n",
        "\n",
        "Almost every program uses **data**\n",
        "\n",
        "Organizing, managing and storing data is important as it enables easier access and efficient modifications.\n",
        "\n",
        "**Data Structures** allow you to store and manage your data.\n",
        "\n",
        "Python has a number of **built-in** data structures:\n",
        "\n",
        "- Strings\n",
        "- Lists\n",
        "- Dictionaries\n",
        "- Tuples\n",
        "- Sets\n",
        "\n",
        "\n",
        "During this course, we will learn about these data structures, use them to store data and see their real-life applications.\n",
        "\n",
        "\n"
      ],
      "metadata": {
        "id": "4zML-UhYcjcp"
      }
    },
    {
      "cell_type": "markdown",
      "source": [
        "In addition to the built-in data structures, Python allows you to create your own data structures, enabling you to have full control over their functionality.\n",
        "\n",
        "The most prominent data structures are:\n",
        "\n",
        "- Stacks\n",
        "- Queues\n",
        "- Trees\n",
        "- Linked Lists\n",
        "\n",
        "These data structures have many uses in popular algorithms. "
      ],
      "metadata": {
        "id": "b_8tqtNnclTT"
      }
    },
    {
      "cell_type": "markdown",
      "source": [
        "#<center><b>Built-in data structures</b></center>"
      ],
      "metadata": {
        "id": "7kezA6ZGL00a"
      }
    },
    {
      "cell_type": "markdown",
      "source": [
        "##<center><b>Strings</b></center>"
      ],
      "metadata": {
        "id": "jARthC82cwb0"
      }
    },
    {
      "cell_type": "markdown",
      "source": [
        "**Strings**\n",
        "\n",
        "**Strings** are used to store text, and are one of the simplest and most used data structures.\n",
        "\n",
        "Any text between two single, ' or double ,\" quotation marks is a string. \n",
        "\n",
        "**For example:**\n",
        "\n",
        "> x = \"hello world\"\n",
        "\n",
        "> print(x)\n",
        "\n",
        "The variable **x** now represents a string."
      ],
      "metadata": {
        "id": "OvGYDx04czdE"
      }
    },
    {
      "cell_type": "code",
      "source": [
        "x = \"Hello world\"\n",
        "\n",
        "print(x)"
      ],
      "metadata": {
        "colab": {
          "base_uri": "https://localhost:8080/"
        },
        "id": "iGAGnV74c-aZ",
        "outputId": "9ee09f32-ddb1-4309-ebc0-d0f63b97939e"
      },
      "execution_count": null,
      "outputs": [
        {
          "output_type": "stream",
          "name": "stdout",
          "text": [
            "Hello world\n"
          ]
        }
      ]
    },
    {
      "cell_type": "markdown",
      "source": [
        "**Special Characters**\n",
        "\n",
        "There are a number of special characters that can be used in strings. \\n represents a new line:\n",
        "\n",
        "> print('One \\nTwo \\nThree')\n",
        "\n",
        "Similarly, \\t represents a tab.\n",
        "\n",
        "If you want to include a single quote in a single-quoted string (or a double quote in a double-quoted string), you need to escape it using a **backslash:**\n",
        "\n",
        "\n",
        "> print(\"Brian\\'s mother: He\\'s not an angel. He\\'s a very naughty boy!\")\n",
        "\n",
        "\n",
        "The backslash is also called the escape character."
      ],
      "metadata": {
        "id": "xRIHCVIQdNk9"
      }
    },
    {
      "cell_type": "code",
      "source": [
        "print('Brian \\'s mother: He\\'s not an angel. He\\'s a very naughty boy!')"
      ],
      "metadata": {
        "colab": {
          "base_uri": "https://localhost:8080/"
        },
        "id": "2fzD72bhdPnF",
        "outputId": "7e7cc3c5-8fe5-4fd8-bcbd-6d8cf2bea8df"
      },
      "execution_count": null,
      "outputs": [
        {
          "output_type": "stream",
          "name": "stdout",
          "text": [
            "Brian 's mother: He's not an angel. He's a very naughty boy!\n"
          ]
        }
      ]
    },
    {
      "cell_type": "code",
      "source": [
        "print(\"1\\n2\\n345\\n6\")"
      ],
      "metadata": {
        "colab": {
          "base_uri": "https://localhost:8080/"
        },
        "id": "-UPKa4fndSQO",
        "outputId": "04a15b08-9aea-4a26-c497-fbdf9afc8592"
      },
      "execution_count": null,
      "outputs": [
        {
          "output_type": "stream",
          "name": "stdout",
          "text": [
            "1\n",
            "2\n",
            "345\n",
            "6\n"
          ]
        }
      ]
    },
    {
      "cell_type": "code",
      "source": [
        "print(\"Planets:\\n\\t-Mercury\\n\\t-Venus\\n\\t-Earth\\n\\t-Mar\\n\\t-etc.\")"
      ],
      "metadata": {
        "colab": {
          "base_uri": "https://localhost:8080/"
        },
        "id": "AUDKDFjfdfPN",
        "outputId": "52223c32-5b81-4339-cd8f-c4fc7fe7c7e0"
      },
      "execution_count": null,
      "outputs": [
        {
          "output_type": "stream",
          "name": "stdout",
          "text": [
            "Planets:\n",
            "\t-Mercury\n",
            "\t-Venus\n",
            "\t-Earth\n",
            "\t-Mar\n",
            "\t-etc.\n"
          ]
        }
      ]
    },
    {
      "cell_type": "markdown",
      "source": [
        "**Accessing Strings**\n",
        "\n",
        "Strings can be thought of as a sequence of characters. Each character in the string has its unique position (or **index**).\n",
        "\n",
        "You can access a character of a string using its index:\n",
        "\n",
        "> x = \"Hello\"\n",
        "\n",
        "> print(x[2])\n",
        "\n",
        "The code above accesses the 3rd character of the string.\n",
        "\n",
        "\n",
        "**The index starts from 0**, meaning that the first character has the index 0."
      ],
      "metadata": {
        "id": "_7w9R6EYdeEO"
      }
    },
    {
      "cell_type": "code",
      "source": [
        "x = \"Hello\"\n",
        "print(x[-1])"
      ],
      "metadata": {
        "colab": {
          "base_uri": "https://localhost:8080/"
        },
        "id": "YWPSb1h1eByl",
        "outputId": "52b4ac22-11b9-4eaf-cc44-1bd42901b772"
      },
      "execution_count": null,
      "outputs": [
        {
          "output_type": "stream",
          "name": "stdout",
          "text": [
            "o\n"
          ]
        }
      ]
    },
    {
      "cell_type": "code",
      "source": [
        "x = \"awesome\"\n",
        "print(x[-2])"
      ],
      "metadata": {
        "colab": {
          "base_uri": "https://localhost:8080/"
        },
        "id": "n2Z6YBwkeEVE",
        "outputId": "daed98cd-d37f-4824-8783-406efcced562"
      },
      "execution_count": null,
      "outputs": [
        {
          "output_type": "stream",
          "name": "stdout",
          "text": [
            "m\n"
          ]
        }
      ]
    },
    {
      "cell_type": "markdown",
      "source": [
        "**Accessing Strings**\n",
        "\n",
        "You can loop through the characters in a string using a **for** loop:\n",
        "\n",
        "> x = \"Hello\"\n",
        "\n",
        "> for c in x:\n",
        "\n",
        ">> print(c)\n",
        "\n",
        "During each iteration, the variable **c** will represent the current character of the string."
      ],
      "metadata": {
        "id": "2aG8sYGbeJXh"
      }
    },
    {
      "cell_type": "code",
      "source": [
        "x = \"Hello\"\n",
        "for c in x:\n",
        "  print(c)"
      ],
      "metadata": {
        "colab": {
          "base_uri": "https://localhost:8080/"
        },
        "id": "wwzqFoi1eLBk",
        "outputId": "6f24fd93-414f-4f39-9f02-60a10ce81bdc"
      },
      "execution_count": null,
      "outputs": [
        {
          "output_type": "stream",
          "name": "stdout",
          "text": [
            "H\n",
            "e\n",
            "l\n",
            "l\n",
            "o\n"
          ]
        }
      ]
    },
    {
      "cell_type": "markdown",
      "source": [
        "**Problem**\n",
        "\n",
        "**Accessign Strings**\n",
        "\n",
        "You need to make a program that counts the number of vowels in a given text.\n",
        "\n",
        "The vowels are a, e, i, o, and u.\n",
        "\n",
        "Take a string as input and output the number of vowels.\n",
        "\n",
        "**Sample Input:**\n",
        "\n",
        "This is great\n",
        "\n",
        "\n",
        "**Sample Output:**\n",
        "\n",
        "4\n",
        "\n",
        "\n",
        "There are 4 vowels in the given text."
      ],
      "metadata": {
        "id": "soykk-YQeUa1"
      }
    },
    {
      "cell_type": "code",
      "source": [
        "def count_vowel(text):\n",
        "  c = 0\n",
        "  for i in text:\n",
        "    if i in 'aeiou':\n",
        "      c += 1\n",
        "  print(c)\n",
        "\n",
        "text = input(\"Enter your text : \")\n",
        "count_vowel(text)"
      ],
      "metadata": {
        "colab": {
          "base_uri": "https://localhost:8080/"
        },
        "id": "3J0wYoc6enal",
        "outputId": "4cf0be9e-8ed0-4699-f880-3eddd120ea1f"
      },
      "execution_count": null,
      "outputs": [
        {
          "output_type": "stream",
          "name": "stdout",
          "text": [
            "Enter your text : This is great\n",
            "4\n"
          ]
        }
      ]
    },
    {
      "cell_type": "code",
      "source": [
        "text = input(\"Enter your text : \")\n",
        "\n",
        "count = sum([1 if i in 'aeiou' else 0 for i in text]) # return 1 if there is vowel else 0 then sum all\n",
        "print(count)"
      ],
      "metadata": {
        "colab": {
          "base_uri": "https://localhost:8080/"
        },
        "id": "PFeANrvefaP0",
        "outputId": "e563abb5-73a1-4caf-deb2-d516e43054e3"
      },
      "execution_count": null,
      "outputs": [
        {
          "output_type": "stream",
          "name": "stdout",
          "text": [
            "Enter your text : This is great\n",
            "4\n"
          ]
        }
      ]
    },
    {
      "cell_type": "code",
      "source": [
        "text = input(\"Enter your text : \")\n",
        "\n",
        "count_vol = len([i for i in text if i in 'aeiou']) # return only vowel letter that match then count\n",
        "print(count_vol)"
      ],
      "metadata": {
        "colab": {
          "base_uri": "https://localhost:8080/"
        },
        "id": "qhmSmdMamDwJ",
        "outputId": "023083d1-fd3c-4b52-c8ad-6484cd5e6cc7"
      },
      "execution_count": null,
      "outputs": [
        {
          "output_type": "stream",
          "name": "stdout",
          "text": [
            "Enter your text : This is great\n",
            "4\n"
          ]
        }
      ]
    },
    {
      "cell_type": "code",
      "source": [
        "text = input(\"Enter your text : \")\n",
        "\n",
        "def count_vol(text):\n",
        "  c = 0\n",
        "  for i in 'aeiou':\n",
        "    c += text.count(i)\n",
        "\n",
        "  return c\n",
        "\n",
        "\n",
        "print(count_vol(text))"
      ],
      "metadata": {
        "colab": {
          "base_uri": "https://localhost:8080/"
        },
        "id": "L2VF6xdGosaC",
        "outputId": "13c5f6fe-22fb-4a45-8925-43d3964ba311"
      },
      "execution_count": null,
      "outputs": [
        {
          "output_type": "stream",
          "name": "stdout",
          "text": [
            "Enter your text : This is great\n",
            "4\n"
          ]
        }
      ]
    },
    {
      "cell_type": "code",
      "source": [
        "text = \"some text goes here\"\n",
        "for x in text:\n",
        "  print(x)"
      ],
      "metadata": {
        "colab": {
          "base_uri": "https://localhost:8080/"
        },
        "id": "GY0O48qOm02L",
        "outputId": "3d06c9b2-3a6a-473c-b9da-04eed03fa891"
      },
      "execution_count": null,
      "outputs": [
        {
          "output_type": "stream",
          "name": "stdout",
          "text": [
            "s\n",
            "o\n",
            "m\n",
            "e\n",
            " \n",
            "t\n",
            "e\n",
            "x\n",
            "t\n",
            " \n",
            "g\n",
            "o\n",
            "e\n",
            "s\n",
            " \n",
            "h\n",
            "e\n",
            "r\n",
            "e\n"
          ]
        }
      ]
    },
    {
      "cell_type": "markdown",
      "source": [
        "**String Operations**\n",
        "\n",
        "The **in** operator can be used to check if a string is part of another string.\n",
        "\n",
        "**For example:**\n",
        "\n",
        "> x = \"I love Python\"\n",
        "\n",
        "> if \"love\" in x:\n",
        "\n",
        ">> print(\"Yes\")\n",
        "\n",
        "The **not in** operator can be used to check if a string is not part of another string."
      ],
      "metadata": {
        "id": "z-WekMLVnAl6"
      }
    },
    {
      "cell_type": "code",
      "source": [
        "x = \"I love Python\"\n",
        "\n",
        "if \"love\" in x:\n",
        "  print(\"Yes\")"
      ],
      "metadata": {
        "colab": {
          "base_uri": "https://localhost:8080/"
        },
        "id": "ChKY0TIPnBZR",
        "outputId": "212443a5-0724-4c6a-c988-bfe843bcf047"
      },
      "execution_count": null,
      "outputs": [
        {
          "output_type": "stream",
          "name": "stdout",
          "text": [
            "Yes\n"
          ]
        }
      ]
    },
    {
      "cell_type": "code",
      "source": [
        "res = 0\n",
        "s = 'xyz'\n",
        "\n",
        "if 'x' in s:\n",
        "  res += 1\n",
        "elif 'a' in s:\n",
        "  res += 1\n",
        "\n",
        "print(res)"
      ],
      "metadata": {
        "colab": {
          "base_uri": "https://localhost:8080/"
        },
        "id": "KcxP0cbjnMGR",
        "outputId": "a02dbbe8-ffcc-4e3b-f90a-e7529d251f29"
      },
      "execution_count": null,
      "outputs": [
        {
          "output_type": "stream",
          "name": "stdout",
          "text": [
            "1\n"
          ]
        }
      ]
    },
    {
      "cell_type": "markdown",
      "source": [
        "**String Operations**\n",
        "\n",
        "Strings can be added together (also called **concatenation**):\n",
        "\n",
        "> print(\"Spam\" + 'eggs')\n",
        "\n",
        "Strings can also be **multiplied** by **integers.** This produces a repeated version of the original string.\n",
        "\n",
        "> print(\"spam\" * 3)\n",
        "\n",
        "> print( 4 * '2')\n",
        "\n",
        "Strings can't be multipled by other strings. Strings also can't be multiplied by floats, even if the floats are whole numbers."
      ],
      "metadata": {
        "id": "l-pgpFEXoVo6"
      }
    },
    {
      "cell_type": "code",
      "source": [
        "# concatenation\n",
        "print(\"Spam\" + 'eggs') \n",
        "\n",
        "# multiplied by integers\n",
        "print(\"spam\" * 3)\n",
        "print(4 * '2')\n",
        "\n",
        "# print(\"Error\" * 4.0) # error"
      ],
      "metadata": {
        "colab": {
          "base_uri": "https://localhost:8080/"
        },
        "id": "BhpQjBagoa0-",
        "outputId": "26e7e2a4-052d-4635-e2cd-5c9531c75343"
      },
      "execution_count": null,
      "outputs": [
        {
          "output_type": "stream",
          "name": "stdout",
          "text": [
            "Spameggs\n",
            "spamspamspam\n",
            "2222\n"
          ]
        }
      ]
    },
    {
      "cell_type": "code",
      "source": [
        "a = \"abra\"\n",
        "b = \"cad\"\n",
        "x = a + b + a\n",
        "print(x)"
      ],
      "metadata": {
        "colab": {
          "base_uri": "https://localhost:8080/"
        },
        "id": "QBOrvJxRohII",
        "outputId": "e0294494-f92d-4bae-b482-3f529cfe91bf"
      },
      "execution_count": null,
      "outputs": [
        {
          "output_type": "stream",
          "name": "stdout",
          "text": [
            "abracadabra\n"
          ]
        }
      ]
    },
    {
      "cell_type": "markdown",
      "source": [
        "**String Functions**\n",
        "\n",
        "String have many useful functions:\n",
        "\n",
        "- **count(str)** returns how many times the **str** substring appears in the given string.\n",
        "- **upper()** converts the string to uppercase.\n",
        "- **lower()** converst the string to lowercase.\n",
        "- **replace(old, new)** replaces all occurences of **old** with **new.**\n",
        "- **len(str)** return the length of the string(number of characters).\n",
        "\n",
        "Take a look at this code for examples:\n",
        "\n",
        "> x = \"This is some text\"\n",
        "\n",
        "> print(x.count(\"s\"))\n",
        "\n",
        "> print(x.upper())\n",
        "\n",
        "> print(x.lower())\n",
        "\n",
        "> pritn(x.replace(\"some text\", \"awesome\"))\n",
        "\n",
        "> print(len(x))\n",
        "\n",
        "\n",
        "Note, That these functions return a new string with the corresponding manipulation.\n"
      ],
      "metadata": {
        "id": "x5fY_4bNqKSI"
      }
    },
    {
      "cell_type": "code",
      "source": [
        "x = \"This is some text\"\n",
        "\n",
        "print(x.count(\"s\"))\n",
        "print(x.upper())\n",
        "print(x.lower())\n",
        "print(x.replace(\"some text\", \"awesome\"))\n",
        "print(len(x))"
      ],
      "metadata": {
        "colab": {
          "base_uri": "https://localhost:8080/"
        },
        "id": "MWU56_PMqN8C",
        "outputId": "c0e557b4-efc6-49a8-fcc9-d165b857bcbe"
      },
      "execution_count": null,
      "outputs": [
        {
          "output_type": "stream",
          "name": "stdout",
          "text": [
            "3\n",
            "THIS IS SOME TEXT\n",
            "this is some text\n",
            "This is awesome\n",
            "17\n"
          ]
        }
      ]
    },
    {
      "cell_type": "code",
      "source": [
        "x = 'abc'\n",
        "x = x*len(x)\n",
        "print(x.count('a'))"
      ],
      "metadata": {
        "colab": {
          "base_uri": "https://localhost:8080/"
        },
        "id": "Tv47vpWqqYz5",
        "outputId": "37675f63-68ce-421d-be91-9a5920b4f4da"
      },
      "execution_count": null,
      "outputs": [
        {
          "output_type": "stream",
          "name": "stdout",
          "text": [
            "3\n"
          ]
        }
      ]
    },
    {
      "cell_type": "code",
      "source": [
        "print('I \\'m learning!')"
      ],
      "metadata": {
        "colab": {
          "base_uri": "https://localhost:8080/"
        },
        "id": "HCUpwqKwqa8H",
        "outputId": "eb9f535a-6a57-4069-f145-f34b470ea5e3"
      },
      "execution_count": null,
      "outputs": [
        {
          "output_type": "stream",
          "name": "stdout",
          "text": [
            "I 'm learning!\n"
          ]
        }
      ]
    },
    {
      "cell_type": "code",
      "source": [
        "print(\"Hello world\")\n",
        "print('one \\'two \\'three')\n",
        "print(\"some \\n text \\n goes here\")\n",
        "print(\"Hello \\n world\")"
      ],
      "metadata": {
        "colab": {
          "base_uri": "https://localhost:8080/"
        },
        "id": "jvrqa-KFqeLw",
        "outputId": "def32b9f-2e4b-44ca-fd89-8c28371335ca"
      },
      "execution_count": null,
      "outputs": [
        {
          "output_type": "stream",
          "name": "stdout",
          "text": [
            "Hello world\n",
            "one 'two 'three\n",
            "some \n",
            " text \n",
            " goes here\n",
            "Hello \n",
            " world\n"
          ]
        }
      ]
    },
    {
      "cell_type": "code",
      "source": [
        "print(3 * '7')"
      ],
      "metadata": {
        "colab": {
          "base_uri": "https://localhost:8080/"
        },
        "id": "QZNawoWAqkKn",
        "outputId": "627f8c93-e335-4a9b-e953-29f32d5410b8"
      },
      "execution_count": null,
      "outputs": [
        {
          "output_type": "stream",
          "name": "stdout",
          "text": [
            "777\n"
          ]
        }
      ]
    },
    {
      "cell_type": "code",
      "source": [
        "text = \"python\"\n",
        "\n",
        "print(text.upper())"
      ],
      "metadata": {
        "colab": {
          "base_uri": "https://localhost:8080/"
        },
        "id": "mrsevDNMqmIP",
        "outputId": "db4147a2-e72b-42b5-9fd0-d55b9fb29f9b"
      },
      "execution_count": null,
      "outputs": [
        {
          "output_type": "stream",
          "name": "stdout",
          "text": [
            "PYTHON\n"
          ]
        }
      ]
    },
    {
      "cell_type": "markdown",
      "source": [
        "**Letter Frequency**\n",
        "\n",
        "You are making a program to analyze text.\n",
        "\n",
        "Take the text as the first input and a letter as the second input, and output the frequency of the letter in the text as a whole percentage.\n",
        "\n",
        "**Sample Input:**\n",
        "\n",
        "hello\n",
        "\n",
        "l\n",
        "\n",
        "**Sample Output:**\n",
        "\n",
        "40\n",
        "\n",
        "The letter l appears 2 times in the text **hello** which has 5 letters. So the frequency would be (2 / 5) * 100 = 40.\n",
        "\n",
        "\n",
        "Division result is a float. Use the int() function to convert the result to an integer."
      ],
      "metadata": {
        "id": "bv4HMcmdq5dU"
      }
    },
    {
      "cell_type": "code",
      "source": [
        "def letter_percent(text, letter):\n",
        "  per =  int((len([i for i in text if i in letter]) / len(text)) * 100)\n",
        "  print(per)\n",
        "\n",
        "txt = input(\"Enter your text : \")\n",
        "let = input(\"Enter your letter :\")\n",
        "\n",
        "letter_percent(txt, let)"
      ],
      "metadata": {
        "colab": {
          "base_uri": "https://localhost:8080/"
        },
        "id": "JujqRRUsrRv5",
        "outputId": "9ef6d738-0db5-4016-9376-d65380dadb46"
      },
      "execution_count": null,
      "outputs": [
        {
          "output_type": "stream",
          "name": "stdout",
          "text": [
            "Enter your text : hello\n",
            "Enter your letter :l\n",
            "40\n"
          ]
        }
      ]
    },
    {
      "cell_type": "markdown",
      "source": [
        "##<center><b>Lists</b></center>"
      ],
      "metadata": {
        "id": "p8nP8EMP6U6Y"
      }
    },
    {
      "cell_type": "markdown",
      "source": [
        "**Lists**\n",
        "\n",
        "Lists are used to store multiple elements, each corresponding to an index.\n",
        "\n",
        "They are created using square brackets.\n",
        "\n",
        "**For example:**\n",
        "\n",
        "> names = [\"James\", \"Tom\", \"Amy\"]\n",
        "\n",
        "The names list contains strings. Each element of the list can be accessed using its index:\n",
        "\n",
        "> print(names[1])\n",
        "\n",
        "This will output the 2nd element of the list\n",
        "\n",
        "**The first list item's index is 0.**"
      ],
      "metadata": {
        "id": "Roq9v5ih6baw"
      }
    },
    {
      "cell_type": "code",
      "source": [
        "items = [11, 22, 33, 44, 55]\n",
        "\n",
        "print(items[2])"
      ],
      "metadata": {
        "colab": {
          "base_uri": "https://localhost:8080/"
        },
        "id": "s090TXA06o4_",
        "outputId": "1f0c579c-f6b0-4d86-9791-076000c1fdc7"
      },
      "execution_count": null,
      "outputs": [
        {
          "output_type": "stream",
          "name": "stdout",
          "text": [
            "33\n"
          ]
        }
      ]
    },
    {
      "cell_type": "markdown",
      "source": [
        "**Lists**\n",
        "\n",
        "Lists can be used to represnet a collection of data, for example ages of people, monthly growth rates of stocks, etc.\n",
        "\n",
        "\n",
        "Lists can also be nested to represent 2D grids, such as metrices:\n",
        "\n",
        "> m = [\n",
        "\n",
        ">     [1, 2, 3],\n",
        "\n",
        ">     [4, 5, 6],\n",
        "\n",
        ">     ]\n",
        "\n",
        "\n",
        "> print(m[1][2])\n",
        "\n",
        "The code above outputs the 3rd item of the 2nd row.\n",
        "\n",
        "A matrix-like structure can be used in cases where you need to store data in row-column format.\n"
      ],
      "metadata": {
        "id": "vVIyl2G664z_"
      }
    },
    {
      "cell_type": "code",
      "source": [
        "m = [\n",
        "     [1, 2, 3],\n",
        "     [4, 5, 6],\n",
        "     ]\n",
        "print(m[1][2])"
      ],
      "metadata": {
        "colab": {
          "base_uri": "https://localhost:8080/"
        },
        "id": "PEXiewpm68KQ",
        "outputId": "2527be52-84de-41b4-8251-a03eae286baf"
      },
      "execution_count": null,
      "outputs": [
        {
          "output_type": "stream",
          "name": "stdout",
          "text": [
            "6\n"
          ]
        }
      ]
    },
    {
      "cell_type": "code",
      "source": [
        "x = [\n",
        "     [2, 4, 6],\n",
        "     [8, 6, 4],\n",
        "    ]\n",
        "\n",
        "print(x[0][2] + x[1][2])  # 6 + 4"
      ],
      "metadata": {
        "colab": {
          "base_uri": "https://localhost:8080/"
        },
        "id": "GP0b2voP7EOv",
        "outputId": "ae820c53-a3a5-4529-bda2-44dd2e8b1adf"
      },
      "execution_count": null,
      "outputs": [
        {
          "output_type": "stream",
          "name": "stdout",
          "text": [
            "10\n"
          ]
        }
      ]
    },
    {
      "cell_type": "markdown",
      "source": [
        "**List Operations**\n",
        "\n",
        "Similar to strings, we can use the **in** and **not in** operators to check if an element is part of the list:\n",
        "\n",
        "\n",
        "> words = [\"spam\", \"egg\", \"spam\", \"sausage\"]\n",
        "\n",
        "> print(\"spam\" in words)\n",
        "\n",
        "> print(\"egg\" in words)\n",
        "\n",
        "> print(\"tomato\" in words)\n",
        "\n",
        "The len() function can be used to return the number of elements in a list"
      ],
      "metadata": {
        "id": "1EC2C6s37O4p"
      }
    },
    {
      "cell_type": "code",
      "source": [
        "words = [\"spam\", \"egg\", \"spam\", \"sausage\"]\n",
        "\n",
        "print(\"spam\" in words)\n",
        "print(\"egg\" in words)\n",
        "print(\"tomato\" in words)"
      ],
      "metadata": {
        "colab": {
          "base_uri": "https://localhost:8080/"
        },
        "id": "G3LgcCJo7Qip",
        "outputId": "8a967fb3-916b-43d1-fc98-045f053fca21"
      },
      "execution_count": null,
      "outputs": [
        {
          "output_type": "stream",
          "name": "stdout",
          "text": [
            "True\n",
            "True\n",
            "False\n"
          ]
        }
      ]
    },
    {
      "cell_type": "code",
      "source": [
        "name = input('Search for someone: ')\n",
        "\n",
        "contacts = [\"Adam\", \"Jason\", \"Tom\"]\n",
        "\n",
        "if name in contacts:\n",
        "  print(\"Found\")\n",
        "else:\n",
        "  print(\"Not found\")"
      ],
      "metadata": {
        "colab": {
          "base_uri": "https://localhost:8080/"
        },
        "id": "CniAwsfk7Xlv",
        "outputId": "c3ed9b72-b484-4445-a36a-895950a93f04"
      },
      "execution_count": null,
      "outputs": [
        {
          "output_type": "stream",
          "name": "stdout",
          "text": [
            "Search for someone: John\n",
            "Not found\n"
          ]
        }
      ]
    },
    {
      "cell_type": "markdown",
      "source": [
        "**Loops**\n",
        "\n",
        "Similar to strings, we can loop through the elements of a list using a loop:\n",
        "\n",
        "> x = [2, 4, 6, 8]\n",
        "\n",
        "> for n in x:\n",
        "\n",
        ">> print(n)\n",
        "\n",
        "\n",
        "n will represent the current list item during each iteration.\n",
        "\n"
      ],
      "metadata": {
        "id": "yEOsdGqG71TB"
      }
    },
    {
      "cell_type": "code",
      "source": [
        "x = [2, 4, 6, 8]\n",
        "\n",
        "for n in x:\n",
        "  print(n)"
      ],
      "metadata": {
        "colab": {
          "base_uri": "https://localhost:8080/"
        },
        "id": "r-dc8V8Z727n",
        "outputId": "14af62ef-f01c-4920-d35b-5c910210954c"
      },
      "execution_count": null,
      "outputs": [
        {
          "output_type": "stream",
          "name": "stdout",
          "text": [
            "2\n",
            "4\n",
            "6\n",
            "8\n"
          ]
        }
      ]
    },
    {
      "cell_type": "code",
      "source": [
        "x = [2, 5, 7, 3, 1]\n",
        "res = 1\n",
        "\n",
        "for n in x:\n",
        "  res *= n\n",
        "print(res)"
      ],
      "metadata": {
        "colab": {
          "base_uri": "https://localhost:8080/"
        },
        "id": "Ib-RCEO374d_",
        "outputId": "fb1d8504-60db-438e-b3de-822d2edd3601"
      },
      "execution_count": null,
      "outputs": [
        {
          "output_type": "stream",
          "name": "stdout",
          "text": [
            "210\n"
          ]
        }
      ]
    },
    {
      "cell_type": "markdown",
      "source": [
        "**List Functions**\n",
        "\n",
        "Lists support the following fuctions:\n",
        "\n",
        "- **append**(item) adds an item to the end of the list.\n",
        "- **insert**(index, item) adds an item at the given index in the list.\n",
        "- **remove**(item) removes an item from the list.\n",
        "- **pop**(index) removes the item at the given index.\n",
        "- **count**(item) returns a count of how many times an item occurs in the list.\n",
        "\n",
        "**Some examples:**\n",
        "\n",
        "> x = [2, 4, 6]\n",
        "\n",
        "> x.append(8)\n",
        "\n",
        "> x.remove(4)\n",
        "\n",
        "> x.insert(0, 8)\n",
        "\n",
        "> print(x)\n",
        "\n",
        "> print(x.count(8)\n",
        "\n",
        "Elements that are after the inserted item are shifted to the right.\n"
      ],
      "metadata": {
        "id": "8z1qa-tn8VV_"
      }
    },
    {
      "cell_type": "code",
      "source": [
        "x = [2, 4, 6]\n",
        "\n",
        "x.append(8)\n",
        "x.remove(4)\n",
        "x.insert(0,8)\n",
        "\n",
        "print(x)\n",
        "print(x.count(8))"
      ],
      "metadata": {
        "colab": {
          "base_uri": "https://localhost:8080/"
        },
        "id": "K44QY97U8XzP",
        "outputId": "f02dc6ee-35c8-4c99-b394-1745b58d8cac"
      },
      "execution_count": null,
      "outputs": [
        {
          "output_type": "stream",
          "name": "stdout",
          "text": [
            "[8, 2, 6, 8]\n",
            "2\n"
          ]
        }
      ]
    },
    {
      "cell_type": "code",
      "source": [
        "x = [3, 1, 2, 5, 3, 1]\n",
        "\n",
        "x.append(8)\n",
        "x.insert(2, 6)\n",
        "x.remove(2)\n",
        "\n",
        "print(x)\n",
        "print(len(x))"
      ],
      "metadata": {
        "colab": {
          "base_uri": "https://localhost:8080/"
        },
        "id": "iThlJv-v8hpu",
        "outputId": "ada1b3f7-3ce3-4dfc-be02-b666747d657e"
      },
      "execution_count": null,
      "outputs": [
        {
          "output_type": "stream",
          "name": "stdout",
          "text": [
            "[3, 1, 6, 5, 3, 1, 8]\n",
            "7\n"
          ]
        }
      ]
    },
    {
      "cell_type": "markdown",
      "source": [
        "**List Functions**\n",
        "\n",
        "- **reverse()** reverse items in the list.\n",
        "- **sort()** sorts the list. By default, the list is sorted ascending. You can specify **reverse=True** as the parameter, to sort desending.\n",
        "- **max**(list) returns the maximum value.\n",
        "- **min**(list) returns the minimum value.\n",
        "\n",
        "**Some examples:**\n",
        "\n",
        "> x = [2, 4, 6, 8]\n",
        "\n",
        "> x.reverse()\n",
        "\n",
        "> print(x)\n",
        "\n",
        "> x.sort()\n",
        "\n",
        "> print(x)\n",
        "\n",
        "> print(min(x))\n",
        "\n",
        "> print(max(x))\n",
        "\n",
        "Note, that the **reverse**() and **sort**() functions chage the list they are called on"
      ],
      "metadata": {
        "id": "Uu82Na-a8x8n"
      }
    },
    {
      "cell_type": "code",
      "source": [
        "x = [8, 2, 0, 10, 6, 4]\n",
        "\n",
        "x.reverse()\n",
        "print(x)\n",
        "\n",
        "x.sort()\n",
        "print(x)\n",
        "\n",
        "print(min(x))\n",
        "print(max(x))\n",
        "print(x)  # list was changed due to the reverse() and sort() functions"
      ],
      "metadata": {
        "colab": {
          "base_uri": "https://localhost:8080/"
        },
        "id": "iE1dle9l80E3",
        "outputId": "16af596b-68f2-4607-ba23-b0cd665e52b5"
      },
      "execution_count": null,
      "outputs": [
        {
          "output_type": "stream",
          "name": "stdout",
          "text": [
            "[4, 6, 10, 0, 2, 8]\n",
            "[0, 2, 4, 6, 8, 10]\n",
            "0\n",
            "10\n",
            "[0, 2, 4, 6, 8, 10]\n"
          ]
        }
      ]
    },
    {
      "cell_type": "code",
      "source": [
        "x = [8, 5, 42, 11, 20, 4]\n",
        "\n",
        "x.sort()\n",
        "\n",
        "print(max(x) - min(x) + x[2])  # 42 - 4 + 8"
      ],
      "metadata": {
        "colab": {
          "base_uri": "https://localhost:8080/"
        },
        "id": "WXhl8I8s917-",
        "outputId": "ee538184-8213-4b1a-e748-3d9ebd9bbfb7"
      },
      "execution_count": null,
      "outputs": [
        {
          "output_type": "stream",
          "name": "stdout",
          "text": [
            "46\n"
          ]
        }
      ]
    },
    {
      "cell_type": "markdown",
      "source": [
        "**List Comprehensions**\n",
        "\n",
        "**List comprehensions** are a useful way of quickly creating lists whose contents obey a rule.\n",
        "\n",
        "For example, we can do the following:\n",
        "\n",
        "> \\# a listcomprehension\n",
        "\n",
        "> cubes = [i\\*\\*3 for i in range(5)]\n",
        "\n",
        "> print(cubes)\n",
        "\n",
        "List comprehensions are inspired by set-builder notation in mathematics."
      ],
      "metadata": {
        "id": "RY4JZx-e-Gzm"
      }
    },
    {
      "cell_type": "code",
      "source": [
        "cubes = [i**3 for i in range(10)]\n",
        "\n",
        "for i in enumerate(cubes):\n",
        "  print('%d three times equals %d'  %(i[0], i[1]))\n"
      ],
      "metadata": {
        "colab": {
          "base_uri": "https://localhost:8080/"
        },
        "id": "vucWaRMz-JBG",
        "outputId": "af30ffcf-2ad3-4045-f217-72d209ad5fa1"
      },
      "execution_count": null,
      "outputs": [
        {
          "output_type": "stream",
          "name": "stdout",
          "text": [
            "0 three times equals 0\n",
            "1 three times equals 1\n",
            "2 three times equals 8\n",
            "3 three times equals 27\n",
            "4 three times equals 64\n",
            "5 three times equals 125\n",
            "6 three times equals 216\n",
            "7 three times equals 343\n",
            "8 three times equals 512\n",
            "9 three times equals 729\n"
          ]
        }
      ]
    },
    {
      "cell_type": "code",
      "source": [
        "cubes = [(i, i**3) for i in range(5)]\n",
        "\n",
        "\n",
        "for i,j  in cubes:\n",
        "  print(f'{i} three times equals {j}')"
      ],
      "metadata": {
        "colab": {
          "base_uri": "https://localhost:8080/"
        },
        "id": "hOaS7yPQ_dh2",
        "outputId": "d2aaf9cd-c0db-4298-bf40-1b616637e5f9"
      },
      "execution_count": null,
      "outputs": [
        {
          "output_type": "stream",
          "name": "stdout",
          "text": [
            "0 three times equals 0\n",
            "1 three times equals 1\n",
            "2 three times equals 8\n",
            "3 three times equals 27\n",
            "4 three times equals 64\n"
          ]
        }
      ]
    },
    {
      "cell_type": "code",
      "source": [
        "nums = [i**2 for i in range(10)]\n",
        "\n",
        "\n",
        "for i in enumerate(nums):\n",
        "  print('{0} squared equals {1}'.format(i[0], i[1]))"
      ],
      "metadata": {
        "colab": {
          "base_uri": "https://localhost:8080/"
        },
        "id": "i0diw2UY_1MF",
        "outputId": "f4ccc62c-0f18-441f-e710-d5f1f9e55756"
      },
      "execution_count": null,
      "outputs": [
        {
          "output_type": "stream",
          "name": "stdout",
          "text": [
            "0 squared equals 0\n",
            "1 squared equals 1\n",
            "2 squared equals 4\n",
            "3 squared equals 9\n",
            "4 squared equals 16\n",
            "5 squared equals 25\n",
            "6 squared equals 36\n",
            "7 squared equals 49\n",
            "8 squared equals 64\n",
            "9 squared equals 81\n"
          ]
        }
      ]
    },
    {
      "cell_type": "code",
      "source": [
        "nums = [i for i in enumerate(range(10))]\n",
        "print(nums)"
      ],
      "metadata": {
        "colab": {
          "base_uri": "https://localhost:8080/"
        },
        "id": "bxD1VyZ-A72g",
        "outputId": "2e7e7e23-df63-40d8-dc91-1e6313a7439b"
      },
      "execution_count": null,
      "outputs": [
        {
          "output_type": "stream",
          "name": "stdout",
          "text": [
            "[(0, 0), (1, 1), (2, 2), (3, 3), (4, 4), (5, 5), (6, 6), (7, 7), (8, 8), (9, 9)]\n"
          ]
        }
      ]
    },
    {
      "cell_type": "code",
      "source": [
        "name = [\"Adam\", \"Jason\", \"Tom\"]\n",
        "\n",
        "[print(n) for n in enumerate(name)]"
      ],
      "metadata": {
        "colab": {
          "base_uri": "https://localhost:8080/"
        },
        "id": "fdS0mdsbBE-9",
        "outputId": "821a76a4-e543-4b25-95d7-95f71a4c3dc8"
      },
      "execution_count": null,
      "outputs": [
        {
          "output_type": "stream",
          "name": "stdout",
          "text": [
            "(0, 'Adam')\n",
            "(1, 'Jason')\n",
            "(2, 'Tom')\n"
          ]
        },
        {
          "output_type": "execute_result",
          "data": {
            "text/plain": [
              "[None, None, None]"
            ]
          },
          "metadata": {},
          "execution_count": 39
        }
      ]
    },
    {
      "cell_type": "markdown",
      "source": [
        "**List Comprehensions**\n",
        "\n",
        "A list comprehension can also contain an **if** statement to enforce a condition on values in the list.\n",
        "\n",
        "**Example:**\n",
        "\n",
        "> evens = [i\\*\\*2 for i in range(10) if i\\*\\*2 \\% 2 == 0]\n",
        "\n",
        "> print(evens)\n",
        "\n"
      ],
      "metadata": {
        "id": "A_QYDTnmBUUm"
      }
    },
    {
      "cell_type": "code",
      "source": [
        "evens = [i**2 for i in range(10) if i**2 % 2 == 0]  # squared then return only even number\n",
        "\n",
        "print(evens)"
      ],
      "metadata": {
        "colab": {
          "base_uri": "https://localhost:8080/"
        },
        "id": "_pPHv1nBBe-t",
        "outputId": "5cfa840b-2847-4ac0-8528-fab0be474238"
      },
      "execution_count": null,
      "outputs": [
        {
          "output_type": "stream",
          "name": "stdout",
          "text": [
            "[0, 4, 16, 36, 64]\n"
          ]
        }
      ]
    },
    {
      "cell_type": "code",
      "source": [
        "a = [ i for i in range(20) if i % 3 == 0] \n",
        "print(a)"
      ],
      "metadata": {
        "colab": {
          "base_uri": "https://localhost:8080/"
        },
        "id": "cHz0wKZ9B1bX",
        "outputId": "bfd83bbb-edf4-4fda-fbf1-ab00906a1515"
      },
      "execution_count": null,
      "outputs": [
        {
          "output_type": "stream",
          "name": "stdout",
          "text": [
            "[0, 3, 6, 9, 12, 15, 18]\n"
          ]
        }
      ]
    },
    {
      "cell_type": "code",
      "source": [
        "nums = [10, 9, 8, 7, 6, 5]\n",
        "\n",
        "nums[0] = nums[1] - 5 # 4 (9-5) then reassigns the first position of the list\n",
        "\n",
        "if 4 in nums:\n",
        "  print(nums[3])\n",
        "else:\n",
        "  print(nums[4])"
      ],
      "metadata": {
        "colab": {
          "base_uri": "https://localhost:8080/"
        },
        "id": "P_-hAmxiB3T_",
        "outputId": "f56a328b-0bb5-4812-d3b9-899da1a0487a"
      },
      "execution_count": null,
      "outputs": [
        {
          "output_type": "stream",
          "name": "stdout",
          "text": [
            "7\n"
          ]
        }
      ]
    },
    {
      "cell_type": "code",
      "source": [
        "list = [1, 2, 3]\n",
        "\n",
        "for var in list:\n",
        "  print(var)"
      ],
      "metadata": {
        "colab": {
          "base_uri": "https://localhost:8080/"
        },
        "id": "qDRs-ppxCfEl",
        "outputId": "fe61a0e7-70d7-4921-8c16-d46100a53213"
      },
      "execution_count": null,
      "outputs": [
        {
          "output_type": "stream",
          "name": "stdout",
          "text": [
            "1\n",
            "2\n",
            "3\n"
          ]
        }
      ]
    },
    {
      "cell_type": "code",
      "source": [
        "list = ['w', 'x', 'y']\n",
        "\n",
        "list.append('z')\n",
        "print(len(list))"
      ],
      "metadata": {
        "colab": {
          "base_uri": "https://localhost:8080/"
        },
        "id": "DET99fz4ChL1",
        "outputId": "443d1a30-dca3-4b05-e347-9b6bbe414d80"
      },
      "execution_count": null,
      "outputs": [
        {
          "output_type": "stream",
          "name": "stdout",
          "text": [
            "4\n"
          ]
        }
      ]
    },
    {
      "cell_type": "code",
      "source": [
        "letters = [\"a\", \"b\", \"c\"]\n",
        "letters.insert(0, \"d\")\n",
        "[print(var) for var in enumerate(letters)]"
      ],
      "metadata": {
        "colab": {
          "base_uri": "https://localhost:8080/"
        },
        "id": "G_2Pbjz7CuG1",
        "outputId": "b01edc2c-6ece-4fd2-e16b-f3cbeafac218"
      },
      "execution_count": null,
      "outputs": [
        {
          "output_type": "stream",
          "name": "stdout",
          "text": [
            "(0, 'd')\n",
            "(1, 'a')\n",
            "(2, 'b')\n",
            "(3, 'c')\n"
          ]
        },
        {
          "output_type": "execute_result",
          "data": {
            "text/plain": [
              "[None, None, None, None]"
            ]
          },
          "metadata": {},
          "execution_count": 46
        }
      ]
    },
    {
      "cell_type": "code",
      "source": [
        "a = [x*10 for x in range(5, 9)]\n",
        "print(a)"
      ],
      "metadata": {
        "colab": {
          "base_uri": "https://localhost:8080/"
        },
        "id": "OvKpESSPCw0V",
        "outputId": "8a6f1c9b-c6bf-46a4-dd10-38697dead464"
      },
      "execution_count": null,
      "outputs": [
        {
          "output_type": "stream",
          "name": "stdout",
          "text": [
            "[50, 60, 70, 80]\n"
          ]
        }
      ]
    },
    {
      "cell_type": "code",
      "source": [
        "nums = (55, 44, 33, 22)\n",
        "print(max(min(nums[:2]),abs(-42)))"
      ],
      "metadata": {
        "colab": {
          "base_uri": "https://localhost:8080/"
        },
        "id": "d3gVOE8-C0xN",
        "outputId": "b69ccda6-c96a-4cbe-a755-d5f210e6edd1"
      },
      "execution_count": null,
      "outputs": [
        {
          "output_type": "stream",
          "name": "stdout",
          "text": [
            "44\n"
          ]
        }
      ]
    },
    {
      "cell_type": "markdown",
      "source": [
        "**Problem**\n",
        "\n",
        "**Average Word Length**\n",
        "\n",
        "Given a sentence as input, calculate and output the average word length of the sentence. To calculate the average word length, you need to divide the sum of all word lengths by the number of words in the sentence.\n",
        "\n",
        "**Sample Input:**\n",
        "\n",
        "This is some text\n",
        "\n",
        "**Sample Output:**\n",
        "\n",
        "3.5\n",
        "\n",
        "**Explanation:**\n",
        "\n",
        "There are 4 words in the given input, with a total of 14 letters, so the average length will be: 14/4 = 3.5\n",
        "\n",
        "\n",
        "Strings have a split() method, which returns the string split into a list, with the given separator. By default, the separator is a space, so calling **split()** will return a list containing the words of the string as items"
      ],
      "metadata": {
        "id": "1wrFQMsyC3iW"
      }
    },
    {
      "cell_type": "code",
      "source": [
        "def avg(sen):\n",
        "  sum_let = 0\n",
        "  for i in sen:\n",
        "    if i.isalpha():\n",
        "      sum_let += 1\n",
        "  print(sum_let/len(sen.split()))\n",
        "     \n",
        "sentence = input()\n",
        "avg(sentence)"
      ],
      "metadata": {
        "colab": {
          "base_uri": "https://localhost:8080/"
        },
        "id": "2CLda8gqVoeJ",
        "outputId": "9bd1cb98-2c53-4440-9f9f-f4c1271cdc7e"
      },
      "execution_count": null,
      "outputs": [
        {
          "output_type": "stream",
          "name": "stdout",
          "text": [
            "This is some text\n",
            "3.5\n"
          ]
        }
      ]
    },
    {
      "cell_type": "code",
      "source": [
        "sentence = input()\n",
        "\n",
        "print(sum([len(n) for n in sentence.split()])/len(sentence.split()))"
      ],
      "metadata": {
        "colab": {
          "base_uri": "https://localhost:8080/"
        },
        "id": "zlYjmpd4Vqyg",
        "outputId": "4c0a0eed-8889-4e26-f4a4-2017e729c255"
      },
      "execution_count": null,
      "outputs": [
        {
          "output_type": "stream",
          "name": "stdout",
          "text": [
            "This is some text\n",
            "3.5\n"
          ]
        }
      ]
    },
    {
      "cell_type": "markdown",
      "source": [
        "##<center><b>Dictionaries</b></center>"
      ],
      "metadata": {
        "id": "yrHEh-myW5D_"
      }
    },
    {
      "cell_type": "markdown",
      "source": [
        "**Dictionaries**\n",
        "\n",
        "We saw how **lists** allow to store elements with their corresponding indices. The indices in a list are automatically set. But what if we need to set our own index?\n",
        "\n",
        "**Dictionaries** are another collection type and allow us to map arbitrary **keys** to **vales.**\n",
        "\n",
        "Dictionaries can be indexed in the same way as lists, **square brackets** containing keys.\n",
        "\n",
        "**Example:**\n",
        "\n",
        "> ages = {\n",
        "\n",
        ">> \"Dave\": 24,\n",
        "\n",
        ">> \"Mary\": 42, \n",
        "\n",
        ">> \"John\": 58\n",
        "\n",
        "> }\n",
        "\n",
        "> print(ages[\"Dave\"])\n",
        "\n",
        "> print(ages[\"Mary\"])\n",
        "\n",
        "Each element in a dictionary is represented by a **key:value** pair."
      ],
      "metadata": {
        "id": "pq0fgWa60c-S"
      }
    },
    {
      "cell_type": "code",
      "source": [
        "ages = {\n",
        "    \"Jason\": 185,\n",
        "    \"John\":  190,\n",
        "    \"Anna\":  165,\n",
        "    \"Chris\":  170\n",
        "}\n",
        "\n",
        "print(ages[\"Jason\"])\n",
        "print(ages[\"Chris\"])"
      ],
      "metadata": {
        "colab": {
          "base_uri": "https://localhost:8080/"
        },
        "id": "CubnIvMT0g56",
        "outputId": "81d7db8e-c5fd-4679-a823-cc03913050cd"
      },
      "execution_count": null,
      "outputs": [
        {
          "output_type": "stream",
          "name": "stdout",
          "text": [
            "185\n",
            "170\n"
          ]
        }
      ]
    },
    {
      "cell_type": "code",
      "source": [
        "european_cars = {\n",
        "    \"BMW\": \"Germany\",\n",
        "    \"Audi\": \"Germany\",\n",
        "    \"Volkawagen\": \"Germany\",\n",
        "    \"Porsche\": \"Gemany\",\n",
        "    \"Mercedes-Benz\": \"Germany\",\n",
        "    \"Volvo\": \"Sweden\",\n",
        "    \"Fiat\": \"Italy\",\n",
        "    \"alfa Romeo\": \"Italy\"\n",
        "}\n",
        "\n",
        "\n",
        "print(european_cars[\"BMW\"])"
      ],
      "metadata": {
        "colab": {
          "base_uri": "https://localhost:8080/"
        },
        "id": "GaeaIlxF03aD",
        "outputId": "d1051579-2aa3-476c-961d-f04404e21e2e"
      },
      "execution_count": null,
      "outputs": [
        {
          "output_type": "stream",
          "name": "stdout",
          "text": [
            "Germany\n"
          ]
        }
      ]
    },
    {
      "cell_type": "markdown",
      "source": [
        "**Dictionaries**\n",
        "\n",
        "You can use strings, integers, booleans, and any other **immutable** type as dictionary keys.\n",
        "\n",
        "This means that you cannot use lists or dictionairies as keys:\n",
        "\n",
        "> bad_dict = {\n",
        "\n",
        ">> [1, 2, 3]: \"one two three\",\n",
        "\n",
        "> }\n",
        "\n",
        "The code above will generate an error, as it tries to use a list as the key."
      ],
      "metadata": {
        "id": "7hWC9hLg2CNq"
      }
    },
    {
      "cell_type": "code",
      "source": [
        "bad_dict = {\n",
        "   # [1, 2, 3]: \"one two three\", # TypeError unhashable type: 'list'\n",
        "}\n",
        "\n",
        "# print(bad_dict[1, 2, 3])"
      ],
      "metadata": {
        "id": "ZgbhBs8Y2IWD"
      },
      "execution_count": null,
      "outputs": []
    },
    {
      "cell_type": "markdown",
      "source": [
        "**Dictionaries**\n",
        "\n",
        "To determine whether a key is in a dictionary, you can use **in** and **not in**, just as you can for a list.\n",
        "\n",
        "**Example:**\n",
        "\n",
        "> nums = {\n",
        "\n",
        ">> 1: \"one\",\n",
        "\n",
        ">> 2: \"two\",\n",
        "\n",
        ">> 3\" \"three\",\n",
        "\n",
        ">}\n",
        "\n",
        "> print(1 in nums)\n",
        "\n",
        "> print(\"three\" in nums)\n",
        "\n",
        "> print(4 not in nums)\n",
        "\n"
      ],
      "metadata": {
        "id": "uRpqUc882WJT"
      }
    },
    {
      "cell_type": "code",
      "source": [
        "nums = {\n",
        "    1: \"one\",\n",
        "    2: \"two\",\n",
        "    3: \"three\",\n",
        "}\n",
        "\n",
        "print(1 in nums)\n",
        "print(\"tree\" in nums)\n",
        "print(4 not in nums)"
      ],
      "metadata": {
        "colab": {
          "base_uri": "https://localhost:8080/"
        },
        "id": "DYZxUuuV2YmT",
        "outputId": "e9deb1c9-97ec-489a-8795-797ceb0dd73e"
      },
      "execution_count": null,
      "outputs": [
        {
          "output_type": "stream",
          "name": "stdout",
          "text": [
            "True\n",
            "False\n",
            "True\n"
          ]
        }
      ]
    },
    {
      "cell_type": "code",
      "source": [
        "pairs = {11: \"eleven\", 22: \"twenty-two\", 33 : \"thirty-three\"}\n",
        "\n",
        "if 13 in pairs:\n",
        "  print(\"Yes\")\n",
        "else:\n",
        "  print(\"No\")"
      ],
      "metadata": {
        "colab": {
          "base_uri": "https://localhost:8080/"
        },
        "id": "rh1yb_162eH7",
        "outputId": "0e464b2c-13e5-416b-e89e-282053638748"
      },
      "execution_count": null,
      "outputs": [
        {
          "output_type": "stream",
          "name": "stdout",
          "text": [
            "No\n"
          ]
        }
      ]
    },
    {
      "cell_type": "markdown",
      "source": [
        "**Dictionaries**\n",
        "\n",
        "A useful dictionary function is **get().** It does the sam thing as indexing, but if the key is not found in the dictionary it returns another specified value instead.\n",
        "\n",
        "**Example:**\n",
        "\n",
        "> pairs = {\n",
        "\n",
        ">> 1: \"apple,\n",
        "\n",
        ">> \"orange\": [2, 3, 4],\n",
        "\n",
        ">> True: False,\n",
        "\n",
        ">> 12: \"True\",\n",
        "\n",
        "> }\n",
        "\n",
        "> print(pairs.get(\"orange\"))\n",
        "\n",
        "> print(pairs.get(7, 42))\n",
        "\n",
        "> print(pairs.get(12345, \"not found\"))\n",
        "\n",
        "To determine how many times a dictionary has, use the **len()** function."
      ],
      "metadata": {
        "id": "jHqb3cA_2roi"
      }
    },
    {
      "cell_type": "code",
      "source": [
        "pairs ={\n",
        "    1: \"apple\",\n",
        "    \"orange\": [2, 3, 4],\n",
        "    True: False,\n",
        "    12: \"True\",\n",
        "}\n",
        "\n",
        "print(pairs.get(\"orange\"))\n",
        "print(pairs.get(7, 42))\n",
        "print(pairs.get(12345, \"not found\"))"
      ],
      "metadata": {
        "colab": {
          "base_uri": "https://localhost:8080/"
        },
        "id": "yJ8LBzfJ2t6a",
        "outputId": "d7971db8-1a7a-4681-87a4-191b2610a187"
      },
      "execution_count": null,
      "outputs": [
        {
          "output_type": "stream",
          "name": "stdout",
          "text": [
            "[2, 3, 4]\n",
            "42\n",
            "not found\n"
          ]
        }
      ]
    },
    {
      "cell_type": "code",
      "source": [
        "fib = {1: 1, 2: 1, 3: 2, 4: 3}\n",
        "\n",
        "print(fib.get(4,0) + fib.get(7, 5)) # there is 4 in dic then return 3 and there is no 7 then return 5, 8 ;3 + 5 "
      ],
      "metadata": {
        "colab": {
          "base_uri": "https://localhost:8080/"
        },
        "id": "aZFOmlWf3Mdr",
        "outputId": "175a5fa6-6f0c-4394-8c6c-78832843a87b"
      },
      "execution_count": null,
      "outputs": [
        {
          "output_type": "stream",
          "name": "stdout",
          "text": [
            "8\n"
          ]
        }
      ]
    },
    {
      "cell_type": "code",
      "source": [
        "potato = { \"italiano\": \"la patata\",\n",
        "          \"español\": \"la papa\",\n",
        "          \"deutsch\": \"die Kartoffel\",\n",
        "          \"nederlands\": \"de aardappel\",\n",
        "          \"svenska\": \"en patatis\"    \n",
        "}\n",
        "\n",
        "\n",
        "potato['svenska'] = \"patatisen\"\n",
        "for k, v in potato.items():\n",
        "  print(f\"potato in {k} is {v}\")\n",
        "\n"
      ],
      "metadata": {
        "colab": {
          "base_uri": "https://localhost:8080/"
        },
        "id": "os1QeqVC3aek",
        "outputId": "4e76850b-3fb6-4aef-e100-2c41850f6dff"
      },
      "execution_count": null,
      "outputs": [
        {
          "output_type": "stream",
          "name": "stdout",
          "text": [
            "potato in italiano is la patata\n",
            "potato in español is la papa\n",
            "potato in deutsch is die Kartoffel\n",
            "potato in nederlands is de aardappel\n",
            "potato in svenska is patatisen\n"
          ]
        }
      ]
    },
    {
      "cell_type": "code",
      "source": [
        "nouns = ['la farina','la harina','het meel','mjölet']\n",
        "Lang = ['italiano', 'español', 'nederlands', 'svenska']\n",
        "\n",
        "\n",
        "flour = {k:v for k,v in zip(nouns, Lang)}\n",
        "\n",
        "\n",
        "# update to update dictionary \n",
        "ger = {'das Mehl': 'deutsch'}\n",
        "\n",
        "flour.update(ger)\n",
        "\n",
        "sort_flour = {k: v for k, v in sorted(flour.items(), key = lambda item: item[0])} # item[0]: keys; item[1]: values\n",
        "\n",
        "print(sort_flour)"
      ],
      "metadata": {
        "colab": {
          "base_uri": "https://localhost:8080/"
        },
        "id": "sP9SgIbU6moM",
        "outputId": "3d23f966-483f-4c54-b6ac-ea3127373570"
      },
      "execution_count": null,
      "outputs": [
        {
          "output_type": "stream",
          "name": "stdout",
          "text": [
            "{'das Mehl': 'deutsch', 'het meel': 'nederlands', 'la farina': 'italiano', 'la harina': 'español', 'mjölet': 'svenska'}\n"
          ]
        }
      ]
    },
    {
      "cell_type": "code",
      "source": [
        "keys = ['das Wasser', 'l\\'acqua', 'el aqua', 'het water', 'vattnet']\n",
        "value = 'water'\n",
        "\n",
        "water = {}.fromkeys(keys, value) # or dict.fromkeys(keys, value)\n",
        "\n",
        "print(water)"
      ],
      "metadata": {
        "colab": {
          "base_uri": "https://localhost:8080/"
        },
        "id": "ZfmBu-aXACkS",
        "outputId": "b320835e-6a4b-466e-a33a-0c89266a9e01"
      },
      "execution_count": null,
      "outputs": [
        {
          "output_type": "stream",
          "name": "stdout",
          "text": [
            "{'das Wasser': 'water', \"l'acqua\": 'water', 'el aqua': 'water', 'het water': 'water', 'vattnet': 'water'}\n"
          ]
        }
      ]
    },
    {
      "cell_type": "markdown",
      "source": [
        "##<center><b>Tuples</b></center>"
      ],
      "metadata": {
        "id": "emOCu6w93S9K"
      }
    },
    {
      "cell_type": "markdown",
      "source": [
        "**Tuples**\n",
        "\n",
        "**Tuples** are very similar to lists, except that they are **immutable** (they cannot be changed).\n",
        "\n",
        "Also, they are created using **parentheses**, rather than square brackets.\n",
        "\n",
        "**Example:**\n",
        "\n",
        "> words = (\"spam\", \"eggs\", \"sausages\")\n",
        "\n",
        "You can access the values in the tuple with their index, just as you did with lists:\n",
        "\n",
        "> print(words[0])\n",
        "\n",
        "**Trying to reassign a value in a tuple causes an error.**\n",
        "\n",
        "> words[1] = \"cheesse\"\n",
        "\n",
        "Like lists and dictionaries, tuples can be nested within each other."
      ],
      "metadata": {
        "id": "X1joYgOLBmAa"
      }
    },
    {
      "cell_type": "code",
      "source": [
        "words = (\"spam\", \"eggs\", \"sausages\")\n",
        "\n",
        "print(words[0])\n",
        "\n",
        "# words[1] = \"cheese\" # TypeError: 'tuple' object does not support item assignment"
      ],
      "metadata": {
        "colab": {
          "base_uri": "https://localhost:8080/"
        },
        "id": "bedPG52GBp3S",
        "outputId": "62121c04-226c-4606-dd29-8adf1e92c484"
      },
      "execution_count": null,
      "outputs": [
        {
          "output_type": "stream",
          "name": "stdout",
          "text": [
            "spam\n"
          ]
        }
      ]
    },
    {
      "cell_type": "code",
      "source": [
        "# list\n",
        "list = [\"one\", \"two\"]\n",
        "print(list[1])\n",
        "\n",
        "# dictionary\n",
        "dict = {1: \"one\", 2: \"two\"}\n",
        "print(dict[1])\n",
        "\n",
        "# tuple\n",
        "tp = (\"one\", \"two\")\n",
        "print(tp[1])"
      ],
      "metadata": {
        "colab": {
          "base_uri": "https://localhost:8080/"
        },
        "id": "uezWmbxuBuuZ",
        "outputId": "eb6bf2dc-e283-40f1-b470-59a00ffb09f5"
      },
      "execution_count": null,
      "outputs": [
        {
          "output_type": "stream",
          "name": "stdout",
          "text": [
            "two\n",
            "one\n",
            "two\n"
          ]
        }
      ]
    },
    {
      "cell_type": "markdown",
      "source": [
        "**Tuples**\n",
        "\n",
        "An advantage of tuples over lists is that they can be used as keys for dictionaries(because they are immutable):\n",
        "\n",
        "> dict = {\n",
        "\n",
        ">> (\"David\", 42): \"red\",\n",
        "\n",
        ">> (\"Bob\", 24): \"green\n",
        "\n",
        "> }\n",
        "\n",
        "> print(dict[(\"Bob\", 24)])\n",
        "\n",
        "Tuples are faster than lists, but they cannot be changed"
      ],
      "metadata": {
        "id": "aIESlQZ6B8-C"
      }
    },
    {
      "cell_type": "code",
      "source": [
        "dict = {\n",
        "    (\"Jason\", \"blonde\"): \"Orange\",\n",
        "    (\"John\", \"salt and pepper\"): \"Blue\",\n",
        "    (\"Chris\", 'jet black'): \"White\",\n",
        "    (\"Anna\", \"brunette\"): \"Pink\"\n",
        "}\n",
        "\n",
        "print(dict[(\"John\", 'salt and pepper')])"
      ],
      "metadata": {
        "colab": {
          "base_uri": "https://localhost:8080/"
        },
        "id": "DTi87Db7B_Aq",
        "outputId": "7334a9e5-2d0d-4e46-ee60-f34eec6e0fdb"
      },
      "execution_count": null,
      "outputs": [
        {
          "output_type": "stream",
          "name": "stdout",
          "text": [
            "Blue\n"
          ]
        }
      ]
    },
    {
      "cell_type": "code",
      "source": [
        "tuple = (1, (1, 2, 3))\n",
        "\n",
        "print(tuple[0])\n",
        "print(tuple[1])\n",
        "print(tuple[1][0])"
      ],
      "metadata": {
        "colab": {
          "base_uri": "https://localhost:8080/"
        },
        "id": "7M_wluO8DhAa",
        "outputId": "e6f35086-db8b-4ac4-8bba-3777e519e606"
      },
      "execution_count": null,
      "outputs": [
        {
          "output_type": "stream",
          "name": "stdout",
          "text": [
            "1\n",
            "(1, 2, 3)\n",
            "1\n"
          ]
        }
      ]
    },
    {
      "cell_type": "markdown",
      "source": [
        "**Tuple Unpacking**\n",
        "\n",
        "**Tuple unpacking** allows you to assign each item in a collection to a variable.\n",
        "\n",
        "**Example:**\n",
        "\n",
        "> numbers = (1, 2, 3)\n",
        "\n",
        "> a, b, c = numbers\n",
        "\n",
        "> print(a)\n",
        "\n",
        "> print(b)\n",
        "\n",
        "> print(c)\n",
        "\n",
        "This can be also used to swap variables by doing **a**,**b** = **b**,**a** since **b**,**a** on the right hand side froms the tuple (b,a) which is them unpacked."
      ],
      "metadata": {
        "id": "IPL8PqXzDpfi"
      }
    },
    {
      "cell_type": "code",
      "source": [
        "numbers = (1, 2, 3)\n",
        "a, b, c = numbers\n",
        "\n",
        "print(a)\n",
        "print(b)\n",
        "print(c)"
      ],
      "metadata": {
        "colab": {
          "base_uri": "https://localhost:8080/"
        },
        "id": "mPWdIJ6tDrBa",
        "outputId": "13bcd46d-17c2-40ea-8a01-6e57bdc06ef9"
      },
      "execution_count": null,
      "outputs": [
        {
          "output_type": "stream",
          "name": "stdout",
          "text": [
            "1\n",
            "2\n",
            "3\n"
          ]
        }
      ]
    },
    {
      "cell_type": "code",
      "source": [
        "x, y = [1, 2]\n",
        "\n",
        "print(\"before swap\")\n",
        "print(\"x :\", x)\n",
        "print(\"y :\", y)\n",
        "\n",
        "x, y = y, x\n",
        "\n",
        "print(\"after swap\")\n",
        "print(\"x :\", x)\n",
        "print(\"y :\", y)"
      ],
      "metadata": {
        "colab": {
          "base_uri": "https://localhost:8080/"
        },
        "id": "sFEmms1UDvNp",
        "outputId": "d98e6065-b8ec-4aa2-c48c-c6df03bdb120"
      },
      "execution_count": null,
      "outputs": [
        {
          "output_type": "stream",
          "name": "stdout",
          "text": [
            "before swap\n",
            "x : 1\n",
            "y : 2\n",
            "after swap\n",
            "x : 2\n",
            "y : 1\n"
          ]
        }
      ]
    },
    {
      "cell_type": "markdown",
      "source": [
        "**Tuple Unpacking**\n",
        "\n",
        "A variable that is prefaced with an asterisk(*) takes all values from the collection that are left over from the other variables.\n",
        "\n",
        "**Example:**\n",
        "\n",
        "> a, b, *c, d = [1, 2, 3, 4, 5, 6, 7, 8, 9]\n",
        "\n",
        "> print(a)\n",
        "\n",
        "> print(b)\n",
        "\n",
        "> print(c)\n",
        "\n",
        "> print(d)\n",
        "\n",
        "c will get assigned the values 3 to 8."
      ],
      "metadata": {
        "id": "M9LH3J_SECSi"
      }
    },
    {
      "cell_type": "code",
      "source": [
        "a, b, *c, d = [1, 2, 3, 4, 5, 6, 7, 8, 9]\n",
        "\n",
        "print(a)\n",
        "print(b)\n",
        "print(c)\n",
        "print(d)"
      ],
      "metadata": {
        "colab": {
          "base_uri": "https://localhost:8080/"
        },
        "id": "ich8kB4aED0h",
        "outputId": "eedcbf47-8a30-447e-c917-35fc67b5d692"
      },
      "execution_count": null,
      "outputs": [
        {
          "output_type": "stream",
          "name": "stdout",
          "text": [
            "1\n",
            "2\n",
            "[3, 4, 5, 6, 7, 8]\n",
            "9\n"
          ]
        }
      ]
    },
    {
      "cell_type": "code",
      "source": [
        "a, b, c, d, *e, f, g = range(20)\n",
        "\n",
        "print(len(e))"
      ],
      "metadata": {
        "colab": {
          "base_uri": "https://localhost:8080/"
        },
        "id": "R45EsS2IEFlK",
        "outputId": "e12c991a-4cb5-436d-cf37-f6d24508bb29"
      },
      "execution_count": null,
      "outputs": [
        {
          "output_type": "stream",
          "name": "stdout",
          "text": [
            "14\n"
          ]
        }
      ]
    },
    {
      "cell_type": "code",
      "source": [
        "from math import pi \n",
        "\n",
        "cir_area = [(r+1, pi*(r+1)**2) for r in range(5)]\n",
        "\n",
        "for i in cir_area:\n",
        "  print(f\"r = {i[0]} area is {i[1]:.2f}\")"
      ],
      "metadata": {
        "colab": {
          "base_uri": "https://localhost:8080/"
        },
        "id": "0SzZ_0bVEaex",
        "outputId": "bee2bf7d-376e-423d-910a-87c20e592c29"
      },
      "execution_count": null,
      "outputs": [
        {
          "output_type": "stream",
          "name": "stdout",
          "text": [
            "r = 1 area is 3.14\n",
            "r = 2 area is 12.57\n",
            "r = 3 area is 28.27\n",
            "r = 4 area is 50.27\n",
            "r = 5 area is 78.54\n"
          ]
        }
      ]
    },
    {
      "cell_type": "markdown",
      "source": [
        "##<center><b>Sets</b></center>"
      ],
      "metadata": {
        "id": "nJOl3RJLWiXw"
      }
    },
    {
      "cell_type": "markdown",
      "source": [
        "**Sets**\n",
        "\n",
        "Sets are collections of **unordered items** that are **unique**\n",
        "\n",
        "They are created using curly braces, and, due to the way they're stored, it's **faster** to check whether an item is part of a set using the **in** operator, rather than part of a list.\n",
        "\n",
        "> num_set = {1, 2, 3, 4, 5}\n",
        "\n",
        "> print(3 in num_set)\n",
        "\n",
        "**Sets cannot contain duplicate elements.**"
      ],
      "metadata": {
        "id": "GO2gJLU6CddK"
      }
    },
    {
      "cell_type": "code",
      "source": [
        "num_set = {1, 2, 3, 4, 5}\n",
        "\n",
        "print(3 in num_set)"
      ],
      "metadata": {
        "colab": {
          "base_uri": "https://localhost:8080/"
        },
        "id": "V1o2M2HCChJ2",
        "outputId": "a0ebf629-b1a9-4779-89f3-64460209199d"
      },
      "execution_count": null,
      "outputs": [
        {
          "output_type": "stream",
          "name": "stdout",
          "text": [
            "True\n"
          ]
        }
      ]
    },
    {
      "cell_type": "code",
      "source": [
        "letters = {\"a\", \"b\", \"c\", \"d\"}\n",
        "if \"e\" not in letters:\n",
        "  print(1)\n",
        "else:\n",
        "  print(2)"
      ],
      "metadata": {
        "colab": {
          "base_uri": "https://localhost:8080/"
        },
        "id": "hXtn0hZ6CluE",
        "outputId": "d40970d4-8bd4-488c-8be2-55dbae5e90b8"
      },
      "execution_count": null,
      "outputs": [
        {
          "output_type": "stream",
          "name": "stdout",
          "text": [
            "1\n"
          ]
        }
      ]
    },
    {
      "cell_type": "markdown",
      "source": [
        "**Sets**\n",
        "\n",
        "You can use the add() function to add new items to the set, and **remove()** to delete a specific element:\n",
        "\n",
        "> nums = {1, 2, 1, 3, 1, 4, 5, 6}\n",
        "\n",
        "> print(nums)\n",
        "\n",
        "> nums.add(-7)\n",
        "\n",
        "> nums.remove(3)\n",
        "\n",
        "> print(nums)\n",
        "\n",
        "Duplicate elements will automatically get removed from the set."
      ],
      "metadata": {
        "id": "v00WZRUICt9r"
      }
    },
    {
      "cell_type": "code",
      "source": [
        "nums = {1, 2, 1, 3, 1, 4, 5, 6}\n",
        "\n",
        "print(nums)\n",
        "nums.add(-7)\n",
        "nums.remove(3)\n",
        "print(nums)"
      ],
      "metadata": {
        "colab": {
          "base_uri": "https://localhost:8080/"
        },
        "id": "wgf8jDP7CvqT",
        "outputId": "4d9650a4-09a0-480d-f7cc-66b52d9204b5"
      },
      "execution_count": null,
      "outputs": [
        {
          "output_type": "stream",
          "name": "stdout",
          "text": [
            "{1, 2, 3, 4, 5, 6}\n",
            "{1, 2, 4, 5, 6, -7}\n"
          ]
        }
      ]
    },
    {
      "cell_type": "code",
      "source": [
        "nums = {\"a\", \"b\", \"c\", \"d\"}\n",
        "\n",
        "nums.add(\"z\")\n",
        "\n",
        "print(len(nums))"
      ],
      "metadata": {
        "colab": {
          "base_uri": "https://localhost:8080/"
        },
        "id": "epeZnduPC0cz",
        "outputId": "57f94127-f371-49ba-cd72-6a5e1f69ba5a"
      },
      "execution_count": null,
      "outputs": [
        {
          "output_type": "stream",
          "name": "stdout",
          "text": [
            "5\n"
          ]
        }
      ]
    },
    {
      "cell_type": "markdown",
      "source": [
        "**Sets**\n",
        "\n",
        "Sets can be combined using mathematical operations.\n",
        "\n",
        "The **union** operator | combines two sets to form a new one containing items in either.\n",
        "\n",
        "The **intersection** operator & gets items only in both.\n",
        "\n",
        "The **difference** operator - gets items in the first set but not in the second.\n",
        "\n",
        "The **symmetric difference** operator ^ gets items in either set, but not both.\n",
        "\n",
        "\n",
        "> first = {1, 2, 3, 4, 5, 6}\n",
        "\n",
        "> second = {4, 5, 6, 7, 8, 9}\n",
        "\n",
        "> print(first | second)\n",
        "\n",
        "> print(first & second)\n",
        "\n",
        "> print(first - second)\n",
        "\n",
        "> print(second - first)\n",
        "\n",
        "> print(first ^ second)"
      ],
      "metadata": {
        "id": "xm5bk0A-DGV8"
      }
    },
    {
      "cell_type": "code",
      "source": [
        "first = {1, 2, 3, 4, 5, 6}\n",
        "second = {4, 5, 6, 7, 8, 9}\n",
        "\n",
        "print(f\"first union second {first | second}\")\n",
        "print(f\"first intersection second {first & second}\")\n",
        "print(f\"frist not in second {first - second}\")\n",
        "print(f\"second not in first {second - first}\")\n",
        "print(f\"either first or second {first ^ second}\")\n",
        "\n",
        "a = first | second \n",
        "b = first & second \n",
        "c = a - b\n",
        "d = first ^ second \n",
        "\n",
        "if c == d:\n",
        "  print(\"equal\")\n",
        "else:\n",
        "  print(\"not equal\")"
      ],
      "metadata": {
        "colab": {
          "base_uri": "https://localhost:8080/"
        },
        "id": "t3eQ4gSTDDRU",
        "outputId": "d4a8f3b7-5170-4a8a-a59c-9eaed9e5665d"
      },
      "execution_count": null,
      "outputs": [
        {
          "output_type": "stream",
          "name": "stdout",
          "text": [
            "first union second {1, 2, 3, 4, 5, 6, 7, 8, 9}\n",
            "first intersection second {4, 5, 6}\n",
            "frist not in second {1, 2, 3}\n",
            "second not in first {8, 9, 7}\n",
            "either first or second {1, 2, 3, 7, 8, 9}\n"
          ]
        }
      ]
    },
    {
      "cell_type": "code",
      "source": [
        "first = {1, 2, 3, 4, 5, 6}\n",
        "second = {4, 5, 6, 7, 8, 9}\n",
        "\n",
        "a = first | second \n",
        "b = first & second \n",
        "c = a - b\n",
        "d = first ^ second \n",
        "\n",
        "if c == d:\n",
        "  print(\"equal\")      \n",
        "else:\n",
        "  print(\"not equal\")"
      ],
      "metadata": {
        "colab": {
          "base_uri": "https://localhost:8080/"
        },
        "id": "dqIcD2yMEjgl",
        "outputId": "9de3d5e4-ba83-4981-caaa-f043af777cbe"
      },
      "execution_count": null,
      "outputs": [
        {
          "output_type": "stream",
          "name": "stdout",
          "text": [
            "equal\n"
          ]
        }
      ]
    },
    {
      "cell_type": "code",
      "source": [
        "a = {1, 2, 3}\n",
        "b = {0, 3, 4, 5}\n",
        "\n",
        "print(a&b)"
      ],
      "metadata": {
        "colab": {
          "base_uri": "https://localhost:8080/"
        },
        "id": "SSM1Cok1Exb8",
        "outputId": "be88b82d-44db-499d-bc10-160bba6b8c05"
      },
      "execution_count": null,
      "outputs": [
        {
          "output_type": "stream",
          "name": "stdout",
          "text": [
            "{3}\n"
          ]
        }
      ]
    },
    {
      "cell_type": "code",
      "source": [
        "eggs = ['l\\'uovo','egg', 'das Ei','egg','el huevo','egg','het ei','egg','ägget', ]\n",
        "\n",
        "eggs.append('egg')\n",
        "print(eggs.count('egg'))\n",
        "print(eggs)\n",
        "\n",
        "eggs = set(eggs)\n",
        "\n",
        "print(eggs)"
      ],
      "metadata": {
        "colab": {
          "base_uri": "https://localhost:8080/"
        },
        "id": "Pun57XjIWvUA",
        "outputId": "57928f0e-1b00-47a0-9e6d-b86643d3ca80"
      },
      "execution_count": null,
      "outputs": [
        {
          "output_type": "stream",
          "name": "stdout",
          "text": [
            "5\n",
            "[\"l'uovo\", 'egg', 'das Ei', 'egg', 'el huevo', 'egg', 'het ei', 'egg', 'ägget', 'egg']\n",
            "{'el huevo', 'ägget', \"l'uovo\", 'das Ei', 'egg', 'het ei'}\n"
          ]
        }
      ]
    },
    {
      "cell_type": "markdown",
      "source": [
        "**Summary**\n",
        "\n",
        "**Data Structures**\n",
        "\n",
        "As we have seen in the previous lessons, Python supports the following collection types: **Lists**, **Dictionaries**, **Tuples**, **Sets**.\n",
        "\n",
        "Here are some general guidelines for choosing the correct data structure:\n",
        "\n",
        "- Use a **dictionary**, when you need a logical association between a **key**:**value**\n",
        "- Use **list** if you have a collection of data that does not need random access.\n",
        "\n",
        "Try to choose lists when you need a simple, iterable collection that is modified frequently.\n",
        "\n",
        "- Use a **set** if you need uniqueness for the elements.\n",
        "- Use **tuples** when your data cannot/ should not change.\n",
        "\n",
        "Many times, a **tuple** is used in combination wiht a **dictionary**, for example, a **tuple** can represent a key, because it's immutable."
      ],
      "metadata": {
        "id": "titj2IxaF5_s"
      }
    },
    {
      "cell_type": "markdown",
      "source": [
        "**Problem**\n",
        "\n",
        "**Ticket Office**\n",
        "\n",
        "You are analyzing sales data from a ticket office. The ticket for an adult is \\$20, while the ticket for a child under 18 is \\$5. The data you are given is in a dictionary format, where the keys are the sold ticket numbers, and the values are the customer ages. For example, \"123-08\": 24 means that the ticket was bought a 24 year old.\n",
        "\n",
        "Your goal is to calculate how much more money the office would make if it would change the ticket discount age to the given input. So, your program needs to take an integer as input and output the percentage of revenue growth, if the discount was given to people under that age.\n",
        "\n",
        "\n",
        "For exmaple, if the office made \\$15000 with the original discount age, and would make \\$18000 with 14 as the discount age, then the growth would be ((18000-15000)*100 = 20%\n",
        "\n",
        "So, for the input 14, your program should output 20. The output should be an integer (use int() to convert the result).\n",
        "\n",
        "\n",
        "To iterate over the values of a dictionary, you can use the  .values() function: for value in data.values()"
      ],
      "metadata": {
        "id": "8j7MCOT5LMJs"
      }
    },
    {
      "cell_type": "code",
      "source": [
        "data = {\n",
        "    \"100-90\": 25, \"42-01\": 48, \"55-09\": 12, \n",
        "    \"128-64\": 71, \"002-22\": 18, \"321-54\": 19, \n",
        "    \"097-32\": 33, \"065-135\": 64, \"99-043\": 80, \n",
        "    \"111-99\": 11, \"123-019\": 5, \"109-890\": 72, \n",
        "    \"132-123\": 27, \"32-908\": 27, \"008-09\": 25, \n",
        "    \"055-967\": 35, \"897-99\": 44, \"890-98\": 56, \n",
        "    \"344-32\": 65, \"43-955\": 59, \"001-233\": 9, \n",
        "    \"089-111\": 15, \"090-090\": 17, \"56-777\": 23, \n",
        "    \"44-909\": 27, \"13-111\": 21, \"87-432\": 15, \n",
        "    \"87-433\": 14, \"87-434\": 23, \"87-435\": 11, \n",
        "    \"87-436\": 12, \"87-437\": 16, \"94-121\": 15, \n",
        "    \"94-122\": 35, \"80-089\": 10, \"87-456\": 8, \n",
        "    \"87-430\": 40\n",
        "}\n",
        "\n",
        "age = int(input())\n",
        "\n",
        "net = 0\n",
        "dis_count = 0\n",
        "\n",
        "\n",
        "# before discount\n",
        "for value in data.values():\n",
        "  if value >= 18:\n",
        "    net += 20\n",
        "  else:\n",
        "    net += 5\n",
        "\n",
        "# after discount\n",
        "for value in data.values():\n",
        "  if value >= age:\n",
        "    dis_count += 20\n",
        "  else:\n",
        "    dis_count += 5\n",
        "\n",
        "print(int(((dis_count - net)/ net) * 100))"
      ],
      "metadata": {
        "colab": {
          "base_uri": "https://localhost:8080/"
        },
        "id": "jKilEKkfLOBV",
        "outputId": "4a07edc1-02bd-4fa0-dba3-0230275ac0f6"
      },
      "execution_count": null,
      "outputs": [
        {
          "output_type": "stream",
          "name": "stdout",
          "text": [
            "18\n",
            "0\n"
          ]
        }
      ]
    },
    {
      "cell_type": "code",
      "source": [
        "data = {\n",
        "    \"100-90\": 25, \"42-01\": 48, \"55-09\": 12, \n",
        "    \"128-64\": 71, \"002-22\": 18, \"321-54\": 19, \n",
        "    \"097-32\": 33, \"065-135\": 64, \"99-043\": 80, \n",
        "    \"111-99\": 11, \"123-019\": 5, \"109-890\": 72, \n",
        "    \"132-123\": 27, \"32-908\": 27, \"008-09\": 25, \n",
        "    \"055-967\": 35, \"897-99\": 44, \"890-98\": 56, \n",
        "    \"344-32\": 65, \"43-955\": 59, \"001-233\": 9, \n",
        "    \"089-111\": 15, \"090-090\": 17, \"56-777\": 23, \n",
        "    \"44-909\": 27, \"13-111\": 21, \"87-432\": 15, \n",
        "    \"87-433\": 14, \"87-434\": 23, \"87-435\": 11, \n",
        "    \"87-436\": 12, \"87-437\": 16, \"94-121\": 15, \n",
        "    \"94-122\": 35, \"80-089\": 10, \"87-456\": 8, \n",
        "    \"87-430\": 40\n",
        "}\n",
        "\n",
        "age = int(input())\n",
        "\n",
        "net = sum([20 if value >= 18 else 5 for value in data.values()])\n",
        "dis_count = sum([20 if value >= age else 5 for value in data.values()])\n",
        "\n",
        "print(int(((dis_count - net)/ net)* 100))"
      ],
      "metadata": {
        "colab": {
          "base_uri": "https://localhost:8080/"
        },
        "id": "gqjCv_-kLRvc",
        "outputId": "9dfd6259-a92f-4edf-be3e-aa6f6fa8bbf3"
      },
      "execution_count": null,
      "outputs": [
        {
          "output_type": "stream",
          "name": "stdout",
          "text": [
            "18\n",
            "0\n"
          ]
        }
      ]
    },
    {
      "cell_type": "markdown",
      "source": [
        "#<center><b>User-Defined Data Structures</b></center>"
      ],
      "metadata": {
        "id": "NLFz2WszLrYk"
      }
    },
    {
      "cell_type": "markdown",
      "source": [
        "**User-Defined Data Structures**\n",
        "\n",
        "In the previous modules we have seen the built-in data structures in Python, which include **Lists**, **Dictionaries**, **Tuples** and **Sets**.\n",
        "\n",
        "\n",
        "Some applications require additional functionality when working with data, for example, word processors have an undo-redo function, task schedulers need queuing mechanisms, maps need to find the shortest path, etc. \n",
        "\n",
        "In these cases we need to define our own data structures that provide the required functionality."
      ],
      "metadata": {
        "id": "8u0Dy2s4nybW"
      }
    },
    {
      "cell_type": "markdown",
      "source": [
        "A **linear data structure** is a structure in which **the elements are stored sequentially**, and the elements are connect to the previous and the next element. As the elements are stored sequentially, so they can be traversed or accessed in a single run.\n",
        "\n",
        "- array  \n",
        "- queues \n",
        "- stacks \n",
        "- link lists \n",
        "\n",
        "A **non-linear data structure** is also another type of data structure in which **the data elements are not arranged in contiguous manner**. As the arrangement is nonsequential, so the data elements cannot be traversed or accessed a single run.\n",
        "\n",
        "- trees \n",
        "- graphs\n",
        "\n"
      ],
      "metadata": {
        "id": "B3EVkYPtmJSK"
      }
    },
    {
      "cell_type": "markdown",
      "source": [
        "##<center><b>Array</b></center>"
      ],
      "metadata": {
        "id": "5dVrlhP1n2vO"
      }
    },
    {
      "cell_type": "markdown",
      "source": [
        "An **array** is **a collection of items stored at contiguous memory locations**. \n",
        "\n",
        "The idea is to store multiple items of the same type together. This makes it easier to calculate the position of each element by simple adding an offset to a base value, i.e., the momory locaiton of the first element of the array (generally denoted by the name of the array).\n",
        "\n",
        "\n",
        "<table>\n",
        "  <tr>\n",
        "    <td><center>200</center></td>\n",
        "    <td><center>201</center></td>\n",
        "    <td><center>202</center></td>\n",
        "    <td><center>203</center></td>\n",
        "    <td><center>204</center></td>\n",
        "    <td><center>205</center></td>\n",
        "    <td><center>206</center></td>\n",
        "    <td><center>.</center></td>\n",
        "    <td><center>.</center></td>\n",
        "    <td><center>.</center></td>\n",
        "    <td><------- Memory Location</td>\n",
        "  </tr>\n",
        "  <tr>\n",
        "    <th><center>U</center></th>\n",
        "    <th><center>B</center></th>\n",
        "    <th><center>F</center></th>\n",
        "    <th><center>D</center></th>\n",
        "    <th><center>A</center></th>\n",
        "    <th><center>B</center></th>\n",
        "    <th><center>E</center></th>\n",
        "    <th><center>.</center></th>\n",
        "    <th><center>.</center></th>\n",
        "    <th><center>.</center></th>\n",
        "    <td><-------  Element</center></td>\n",
        "  </tr>\n",
        "    <tr>\n",
        "    <td><center>0</center></td>\n",
        "    <td><center>1</center></td>\n",
        "    <td><center>2</center></td>\n",
        "    <td><center>3</center></td>\n",
        "    <td><center>4</center></td>\n",
        "    <td><center>5</center></td>\n",
        "    <td><center>6</center></td>\n",
        "    <td><center>.</center></td>\n",
        "    <td><center>.</center></td>\n",
        "    <td><center>.</center></td>\n",
        "    <td><-------Memory Location</td>\n",
        "  </tr>\n",
        "</table>\n",
        "\n",
        "The above image can be looked as a top-level view of a staircase whre you are at the base of the staircase. Each element can be uniquely identified by their index in the array (in a similar way as you could identify yoour friends by the step on which they were on in the above example)."
      ],
      "metadata": {
        "id": "dMY-2nbUn-Xe"
      }
    },
    {
      "cell_type": "markdown",
      "source": [
        "**Array** is a container which can hold a fix number of items and these items **should be of the same type.** Most of the data structures make use of arrays to implement their algorithms. Following are the important terms to understand the concept of Array are as follows\n",
        "\n",
        "- **Element** - Each items stored in an array is called an element.\n",
        "- **Index** - Each location of an elemnt in an array has a numerical index, which is used to identify the element."
      ],
      "metadata": {
        "id": "Q0Y0oZHcA6_U"
      }
    },
    {
      "cell_type": "markdown",
      "source": [
        "**Basic Operations**\n",
        "\n",
        "The basic operations supported by an array are as stated below\n",
        "\n",
        "- **Traverse** - Print all the array elements one by one.\n",
        "- **Insertion** - Adds an element at the given index.\n",
        "- **Deletion** - Deletes an element at the given index.\n",
        "- **Search** - Searches an element using the given index or by the value.\n",
        "- **Update** - Updates an element at the given index.\n",
        "\n",
        "Array is created in Python by importing an array mudule to the pythong program. Then, the array is declared as shown below\n",
        "\n",
        "> from array import*\n",
        "\n",
        "> arrayName = array(typecode, [initializers])\n",
        "\n"
      ],
      "metadata": {
        "id": "iKjTMGzbC-z8"
      }
    },
    {
      "cell_type": "markdown",
      "source": [
        "**Typecode** are the codes that are used to **define the type of value the array will hold**.\n",
        "\n",
        "\n",
        "<table>\n",
        "  <tr>\n",
        "    <th>Typecod</th>\n",
        "    <th>Value</th>\n",
        "  </tr>\n",
        "  <tr>\n",
        "    <td><center><b>b</b></center></td>\n",
        "    <td>Represents signed integer of size 1 byte</td>\n",
        "  </tr>\n",
        "   <tr>\n",
        "    <td><center><b>B</b></center></td>\n",
        "    <td>Represents unsigned integer of size 1 byte</td>\n",
        "  </tr>\n",
        "   <tr>\n",
        "    <td><center><b>c</b></center></td>\n",
        "    <td>Represents character of size 1 byte</td>\n",
        "  </tr>\n",
        "   <tr>\n",
        "    <td><center><b>i</b></center></td>\n",
        "    <td>Represents signed integer of size 2 bytes</td>\n",
        "  </tr> \n",
        "   <tr>\n",
        "    <td><center><b>I</b></center></td>\n",
        "    <td>Represents unsigned integer of size 2 bytes</td>\n",
        "  </tr>\n",
        "   <tr>\n",
        "    <td><center><b>f</b></center></td>\n",
        "    <td>Represents floating point of size 4 bytes</td>\n",
        "  </tr> \n",
        "   <tr>\n",
        "    <td><center><b>d</b></center></td>\n",
        "    <td>Represents floating point of size 8 byte</td>\n",
        "  </tr>     \n",
        "</table> "
      ],
      "metadata": {
        "id": "6Lstc6K3DhCE"
      }
    },
    {
      "cell_type": "code",
      "source": [
        "from array import array\n",
        "\n",
        "arr = array('i', [9, 7, 1, 2, 6])\n",
        "\n",
        "for x in arr:\n",
        "  print(x)"
      ],
      "metadata": {
        "colab": {
          "base_uri": "https://localhost:8080/"
        },
        "id": "m3cU7ppYFf0U",
        "outputId": "62465651-85cc-4170-c4bb-50413cdb49f7"
      },
      "execution_count": null,
      "outputs": [
        {
          "output_type": "stream",
          "name": "stdout",
          "text": [
            "9\n",
            "7\n",
            "1\n",
            "2\n",
            "6\n"
          ]
        }
      ]
    },
    {
      "cell_type": "markdown",
      "source": [
        "**Accessing Array Element**\n",
        "\n",
        "We can access each element of an array using the index of the element."
      ],
      "metadata": {
        "id": "WRntADmmF6WU"
      }
    },
    {
      "cell_type": "code",
      "source": [
        "from array import array\n",
        "\n",
        "arr = array('i', [9, 7, 1, 2, 6])\n",
        "\n",
        "print(arr[0])\n",
        "print(arr[2])\n",
        "print(arr[-1])"
      ],
      "metadata": {
        "colab": {
          "base_uri": "https://localhost:8080/"
        },
        "id": "ayARcLLMF4d8",
        "outputId": "76d04119-2a03-4bbf-c161-5f4aa349d49b"
      },
      "execution_count": null,
      "outputs": [
        {
          "output_type": "stream",
          "name": "stdout",
          "text": [
            "9\n",
            "1\n",
            "6\n"
          ]
        }
      ]
    },
    {
      "cell_type": "markdown",
      "source": [
        "**Append Operation**\n",
        "\n",
        "Append operation is to add an element to the last positon of the array"
      ],
      "metadata": {
        "id": "oHw7JavpLswO"
      }
    },
    {
      "cell_type": "code",
      "source": [
        "from array import array\n",
        "\n",
        "arr = array('i', [9, 7, 1, 2, 6])\n",
        "\n",
        "arr.append(8)\n",
        "\n",
        "for i in arr:\n",
        "  print(i)"
      ],
      "metadata": {
        "colab": {
          "base_uri": "https://localhost:8080/"
        },
        "id": "twEvy2a9LxS8",
        "outputId": "393061ee-80d8-4215-c86a-9b1d95f3c8f5"
      },
      "execution_count": null,
      "outputs": [
        {
          "output_type": "stream",
          "name": "stdout",
          "text": [
            "9\n",
            "7\n",
            "1\n",
            "2\n",
            "6\n",
            "8\n"
          ]
        }
      ]
    },
    {
      "cell_type": "markdown",
      "source": [
        "**Insertion Operation**\n",
        "\n",
        "Insert operation is to insert one or more data elements into an array. Based on the requirement, a new element can be added at the beginning, end, or any given index of array."
      ],
      "metadata": {
        "id": "N5rjt_vPGr8E"
      }
    },
    {
      "cell_type": "code",
      "source": [
        "from array import array\n",
        "\n",
        "arr = array('i', [9, 7, 1, 2, 6])\n",
        "\n",
        "arr.insert(1, 8)   # (position, number) \n",
        "\n",
        "for x in arr:\n",
        "  print(x)"
      ],
      "metadata": {
        "colab": {
          "base_uri": "https://localhost:8080/"
        },
        "id": "rSrWwZ6dGrYO",
        "outputId": "a545c061-fb5e-4ee2-c8d2-163e5f37a5cc"
      },
      "execution_count": null,
      "outputs": [
        {
          "output_type": "stream",
          "name": "stdout",
          "text": [
            "9\n",
            "8\n",
            "7\n",
            "1\n",
            "2\n",
            "6\n"
          ]
        }
      ]
    },
    {
      "cell_type": "markdown",
      "source": [
        "**Deletion Operation**\n",
        "\n",
        "Deletion refers to removing an existing element from the array and re-organizing all elements of an array."
      ],
      "metadata": {
        "id": "ciddUsxwHgRk"
      }
    },
    {
      "cell_type": "code",
      "source": [
        "from array import array\n",
        "\n",
        "arr = array('i', [9, 7, 1, 2, 6])\n",
        "\n",
        "arr.remove(9)\n",
        "\n",
        "for x in arr:\n",
        "  print(x)\n",
        "\n",
        "\n",
        "print('\\nadd an exit number to the last position then remove it')\n",
        "arr.insert(-1, 7)\n",
        "arr.remove(7)  # find the first exit element then remove \n",
        "\n",
        "for x in arr:\n",
        "  print(x)"
      ],
      "metadata": {
        "colab": {
          "base_uri": "https://localhost:8080/"
        },
        "id": "moNCnAOsHrDP",
        "outputId": "2a564547-4ab2-4216-f97e-21914b538830"
      },
      "execution_count": null,
      "outputs": [
        {
          "output_type": "stream",
          "name": "stdout",
          "text": [
            "7\n",
            "1\n",
            "2\n",
            "6\n",
            "\n",
            "add an exit number to the last position then remove it\n",
            "1\n",
            "2\n",
            "7\n",
            "6\n"
          ]
        }
      ]
    },
    {
      "cell_type": "markdown",
      "source": [
        "**Search Operation**\n",
        "\n",
        "You can perform a search for an array element based on its value or tis index"
      ],
      "metadata": {
        "id": "6DUjS-p4JD1k"
      }
    },
    {
      "cell_type": "code",
      "source": [
        "from array import array\n",
        "\n",
        "arr = array('i', [9, 7, 1, 2, 6])\n",
        "\n",
        "print(arr.index(6))\n",
        "# print(arr.index(5))  Error if an element isn't found"
      ],
      "metadata": {
        "colab": {
          "base_uri": "https://localhost:8080/"
        },
        "id": "FEVEVNXEJLpN",
        "outputId": "3cc15e94-6243-4ca9-e65e-9e476656865a"
      },
      "execution_count": null,
      "outputs": [
        {
          "output_type": "stream",
          "name": "stdout",
          "text": [
            "4\n"
          ]
        }
      ]
    },
    {
      "cell_type": "markdown",
      "source": [
        "**Update Opreation**\n",
        "\n",
        "Update operation refers to updating an existing element from the array at a given index"
      ],
      "metadata": {
        "id": "oYFC8pZlJmNU"
      }
    },
    {
      "cell_type": "code",
      "source": [
        "from array import array\n",
        "\n",
        "arr = array('i', [9, 7, 1, 2, 6])\n",
        "\n",
        "arr[2] = 8\n",
        "\n",
        "for x in arr:\n",
        "  print(x)"
      ],
      "metadata": {
        "colab": {
          "base_uri": "https://localhost:8080/"
        },
        "id": "k4C8xXvNJlvd",
        "outputId": "43ea41c4-e398-40b9-f5cf-5b96116f4503"
      },
      "execution_count": null,
      "outputs": [
        {
          "output_type": "stream",
          "name": "stdout",
          "text": [
            "9\n",
            "7\n",
            "8\n",
            "2\n",
            "6\n"
          ]
        }
      ]
    },
    {
      "cell_type": "markdown",
      "source": [
        "**Count Operation**\n",
        "\n",
        "Count the number of an exit elements from the array"
      ],
      "metadata": {
        "id": "pAenfkQsKVwe"
      }
    },
    {
      "cell_type": "code",
      "source": [
        "from array import array\n",
        "\n",
        "arr = array('i', [9, 7, 1, 2, 6])\n",
        "\n",
        "arr.append(2)\n",
        "arr.insert(2, 2)\n",
        "\n",
        "n = arr.count(2)\n",
        "print(f\"There are {n} 2's in the array\")"
      ],
      "metadata": {
        "colab": {
          "base_uri": "https://localhost:8080/"
        },
        "id": "VvXF7GMZKopN",
        "outputId": "2d50cf81-1c60-4374-c4bc-8f77c9771d69"
      },
      "execution_count": null,
      "outputs": [
        {
          "output_type": "stream",
          "name": "stdout",
          "text": [
            "There are 3 2's in the array\n"
          ]
        }
      ]
    },
    {
      "cell_type": "code",
      "source": [
        "# importing \"array\" for array operations\n",
        "import array \n",
        "\n",
        "\n",
        "# initializing array wiht array values\n",
        "# initializes array with signed integers\n",
        "arr = array.array('u', 'ABd')  # u; unicode character\n",
        "\n",
        "# printing original array\n",
        "print(\"The new created array is : \",end=\" \")\n",
        "for i in range(0, 3):\n",
        "  print(arr[i], end=\" \")\n",
        "\n",
        "print(\"\\r\")  \n",
        "\n",
        "# using append() to insert new value at end\n",
        "arr.append('e');  # add at the last position\n",
        "\n",
        "# printing appended array\n",
        "print(\"The array after appending is : \", end=\" \")\n",
        "for i in range(0, 4):\n",
        "  print(arr[i], end=\" \")\n",
        "\n",
        "# using insert() to insert value at speecific position \n",
        "# inserts C at 2nd position\n",
        "arr.insert(2, 'C') # can be add anywhere \n",
        "\n",
        "print(\"\\r\")\n",
        "\n",
        "# printing array after insertion \n",
        "print(\"The array after insertion is: \", end=\" \")\n",
        "for i in range(0, 5):\n",
        "  print(arr[i], end=\" \")\n",
        "\n",
        "# using pop() to  remove element at 3rd position\n",
        "arr.pop(3) # position that you one to remove\n",
        "\n",
        "print(\"\\r\")\n",
        "\n",
        "# printing array after popping\n",
        "print(\"The array after poping is : \", end=\" \")\n",
        "for i in range(0, 4):\n",
        "  print(arr[i], end=\" \")\n",
        "\n",
        "# using remove() to remove 'e'  \n",
        "arr.remove('e') # is an first element found in the array that you want to remove \n",
        "\n",
        "print(\"\\r\")\n",
        "\n",
        "# printing array after removing\n",
        "print(\"The array after removing is : \", end=\" \")\n",
        "for i in range(0, 3):\n",
        "  print(arr[i], end=\" \")\n",
        "\n",
        "print(\"\\r\")  \n",
        "\n",
        "# using index() to print index of 1st occurrence of B is :\n",
        "print(\"The index of 1st occurrence of B is : \", end= \" \")\n",
        "print(arr.index('B'))\n",
        "\n",
        "# using reverse() to reverse the array\n",
        "arr.reverse()\n",
        "\n",
        "# priting array after reversing\n",
        "print(\"The array after reversing is : \", end=\" \")\n",
        "for i in range(0, 3):\n",
        "  print(arr[i], end=\" \")"
      ],
      "metadata": {
        "colab": {
          "base_uri": "https://localhost:8080/"
        },
        "id": "Sh2NNZuLrYy1",
        "outputId": "00c04e04-ccaa-4ba5-a209-7c5e84622757"
      },
      "execution_count": null,
      "outputs": [
        {
          "output_type": "stream",
          "name": "stdout",
          "text": [
            "The new created array is :  A B d \r\n",
            "The array after appending is :  A B d e \r\n",
            "The array after insertion is:  A B C d e \r\n",
            "The array after poping is :  A B C e \r\n",
            "The array after removing is :  A B C \r\n",
            "The index of 1st occurrence of B is :  1\n",
            "The array after reversing is :  C B A "
          ]
        }
      ]
    },
    {
      "cell_type": "markdown",
      "source": [
        "\n",
        "##<center><b>Stack</b></center>\n",
        "\n"
      ],
      "metadata": {
        "id": "iugufeKdmrlJ"
      }
    },
    {
      "cell_type": "markdown",
      "source": [
        "**Stack**\n",
        "\n",
        "A **Stack** is a simple data structure that adds and removes elements in a particular order.\n",
        "\n",
        "Every time an element is added, it goes on the \"top\" of the stack. Only an element at the top of the stack can be removed, just like a stack of plates. This behavior is called **LIFO** (Last In, First Out).\n",
        "\n",
        "\n",
        "**Terminology**\n",
        "\n",
        "- Adding a new element onto the stack is called **push**.\n",
        "- Removeing an element form the stack is called **pop**.\n",
        "\n",
        "**Applications**\n",
        "\n",
        "Stacks can be used to create undo-redo functionalities, parsing expressions (infix to postfix/ prefix conversion), and much more.\n",
        "\n",
        "\n",
        "A stack can be implemented using a **list** in Python. \n"
      ],
      "metadata": {
        "id": "7QEotJXTnCzx"
      }
    },
    {
      "cell_type": "markdown",
      "source": [
        "**Stack in Python**\n",
        "\n",
        "Let's define and implement the **Stack** class with its corresponding **push**, **pop**, **is_empty** and **print_stack** methods.\n",
        "\n",
        "We will use a **list** to store the data.\n",
        "\n",
        "\n",
        "> class Stack:\n",
        "\n",
        ">> def \\_\\_init\\_\\_(self):\n",
        "\n",
        ">>> self.items = []\n",
        "\n",
        ">> def is_empty(self):\n",
        "\n",
        ">>> return self.items == []\n",
        "\n",
        ">> def push(self, item):\n",
        "\n",
        ">>> self.items.insert(0, item)\n",
        "\n",
        ">> def pop(self):\n",
        "\n",
        ">>> return self.items.pop(0)\n",
        "\n",
        ">> def print_stack(self):\n",
        "\n",
        ">>> print(self.items)\n",
        "\n",
        "\n",
        "As you can see, it's easy to create a stack using a list.\n",
        "\n",
        "We use a list called **items** to store our elements.\n",
        "\n",
        "The **push** method adds an elements at the beginning of the list, while the **pop** method removes the first element of the list."
      ],
      "metadata": {
        "id": "aQvilDk6nglx"
      }
    },
    {
      "cell_type": "code",
      "source": [
        "# using class to creat Stack class\n",
        "\n",
        "class Stack:\n",
        "  def __init__(self):\n",
        "    self.items = []\n",
        "  def is_empty(self):\n",
        "    return self.items == []\n",
        "  def push(self, item):         # push method to add an elements at the beginning\n",
        "    self.items.insert(0, item)\n",
        "  def pop(self):                # pop method to remove the first element \n",
        "    return self.items.pop(0)\n",
        "  def print_stack(self):\n",
        "    print(self.items)\n",
        "\n",
        "s = Stack()\n",
        "s.push('a')\n",
        "s.push('b')\n",
        "s.push('c')        # 'C' is the last element that have just been in the list --\"LI\"\n",
        "s.print_stack()\n",
        "\n",
        "s.pop()            # 'C' is the first element to be removed --\"FO\"\n",
        "s.print_stack()"
      ],
      "metadata": {
        "colab": {
          "base_uri": "https://localhost:8080/"
        },
        "id": "l9-FkYfon69j",
        "outputId": "62094a6c-52b3-4c0b-b814-c1dc5987e82d"
      },
      "execution_count": null,
      "outputs": [
        {
          "output_type": "stream",
          "name": "stdout",
          "text": [
            "['c', 'b', 'a']\n",
            "['b', 'a']\n"
          ]
        }
      ]
    },
    {
      "cell_type": "markdown",
      "source": [
        "**Stack** is a linear data structure which follows a particular order in which the operations are performed. \n",
        "\n",
        "The order may be:\n",
        "- **LIFO** (Last In Frist Out) \n",
        "- **FILO** (First in Last Out)\n",
        "\n",
        "\n",
        "<table>\n",
        "  <tr>\n",
        "    <td rowspan=\"7\"><center><b>Stack</b></br>Insertion and Deletion</br>happen on same end</center></td>\n",
        "  </tr>\n",
        "  <tr>\n",
        "    <th rowspan=\"7\"><center>0030</center></th>\n",
        "    <th rowspan=\"7\"><center>0031</center></th>\n",
        "    <th rowspan=\"7\"><center>0032</center></th>\n",
        "    <th rowspan=\"7\" bgcolor=\"#F0FFFF\"><center>0033</center></th>\n",
        "  </tr>\n",
        "  <tr>\n",
        "    <td rowspan=\"7\"><center>Last In</br>First Out</center></td>\n",
        "  </tr>\n",
        "</table>\n",
        "\n",
        "\n",
        "There are many **real-life examples** of a stack.\n",
        "\n",
        "- Consider an example of **plates stacked** over one another **in the canteen.** The plate which is at the top is the first one to be removed, i.e. the plate which has been placed at the bottommost position remains in the stack for the longest period of time. So, it can be simply seen to follow LIFO (Last In Frist Out)/ FILO (First in Last Out) order.\n"
      ],
      "metadata": {
        "id": "EVRorztSpSmx"
      }
    },
    {
      "cell_type": "code",
      "source": [
        "# stack implementation by using collections.deque\n",
        "\n",
        "\n",
        "from collections import deque\n",
        "\n",
        "stack = deque()\n",
        "\n",
        "# append() to push an element in the stack\n",
        "stack.append('0030')\n",
        "stack.append('0031')\n",
        "stack.append('0032')\n",
        "stack.append('0033')\n",
        "\n",
        "print('Initial stack:')\n",
        "print(stack)\n",
        "\n",
        "\n",
        "# pop() to pop an element from stack in LIFO order\n",
        "print('\\nElements popped from stack:')\n",
        "print(stack.pop())\n",
        "print(stack.pop())\n",
        "print(stack.pop())\n",
        "print(stack.pop())\n",
        "\n",
        "\n",
        "print('\\nStack after all elements are popped:')\n",
        "print(stack)"
      ],
      "metadata": {
        "colab": {
          "base_uri": "https://localhost:8080/"
        },
        "id": "U0OnDy2TszEZ",
        "outputId": "703ce95e-4b76-49b6-ed1e-e9ff3b47994a"
      },
      "execution_count": null,
      "outputs": [
        {
          "output_type": "stream",
          "name": "stdout",
          "text": [
            "Initial stack:\n",
            "deque(['0030', '0031', '0032', '0033'])\n",
            "\n",
            "Elements popped from stack:\n",
            "0033\n",
            "0032\n",
            "0031\n",
            "0030\n",
            "\n",
            "Stack after all elements are popped:\n",
            "deque([])\n"
          ]
        }
      ]
    },
    {
      "cell_type": "code",
      "source": [
        "# stack implementation by using queue module\n",
        "\n",
        "\n",
        "from queue import LifoQueue\n",
        "\n",
        "\n",
        "# Initializing a stack\n",
        "stack = LifoQueue(maxsize=4)\n",
        "\n",
        "\n",
        "# qsize() show the number of elements in the stack\n",
        "print(stack.qsize())\n",
        "\n",
        "\n",
        "# put() to push element in the stack\n",
        "stack.put('0030')\n",
        "stack.put('0031')\n",
        "stack.put('0032')\n",
        "stack.put('0033')\n",
        "\n",
        "print(\"Full: \", stack.full())\n",
        "print(\"Size: \", stack.qsize())\n",
        "\n",
        "# get() to pop element from the stack in LIFO order\n",
        "print(\"\\nElements popped from the stack\")\n",
        "print(stack.get())\n",
        "print(stack.get())\n",
        "print(stack.get())\n",
        "print(stack.get())\n",
        "\n",
        "print(\"\\nEmpty: \", stack.empty())"
      ],
      "metadata": {
        "colab": {
          "base_uri": "https://localhost:8080/"
        },
        "id": "M98vE4FMubzv",
        "outputId": "99eca9e4-3cfa-4645-a9a2-aa6875546af7"
      },
      "execution_count": null,
      "outputs": [
        {
          "output_type": "stream",
          "name": "stdout",
          "text": [
            "0\n",
            "Full:  True\n",
            "Size:  4\n",
            "\n",
            "Elements popped from the stack\n",
            "0033\n",
            "0032\n",
            "0031\n",
            "0030\n",
            "\n",
            "Empty:  True\n"
          ]
        }
      ]
    },
    {
      "cell_type": "code",
      "source": [
        "# stack implementation using a linked list. node class\n",
        "\n",
        "\n",
        "class Node:\n",
        "  def __init__(self, value):\n",
        "    self.value = value\n",
        "    self.next = None\n",
        "\n",
        "class Stack:\n",
        "\n",
        "  # Initializing a stack. Using a dummy node, which is easier for handling edge cases.\n",
        "  def __init__(self):\n",
        "    self.head = Node(\"head\")\n",
        "    self.size = 0\n",
        "\n",
        "  # String representation of the stack\n",
        "  def __str__(self):\n",
        "    cur = self.head.next\n",
        "    out = \"\"\n",
        "    while cur:\n",
        "      out += str(cur.value) + \"->\"\n",
        "      cur = cur.next\n",
        "    return out[:-3]\n",
        "\n",
        "  # Get the current size of the stack\n",
        "  def getSize(self):\n",
        "    return self.size\n",
        "\n",
        "  # Check if the stack is empty\n",
        "  def isEmpty(self):\n",
        "    return self.size == 0\n",
        "\n",
        "  # Get the top item of the stack\n",
        "  def peek(self):\n",
        "\n",
        "    # Sanitary check to see if we are peeking an empty stack.\n",
        "    if self.isEmpty():\n",
        "      raise Exception(\"Peeking from an empty stack\")\n",
        "    return self.head.next.value\n",
        "  \n",
        "  # Push a value into the stack.\n",
        "  def push(self, value):\n",
        "    node = Node(value)\n",
        "    node.next = self.head.next\n",
        "    self.head.next = node\n",
        "    self.size += 1\n",
        "\n",
        "  # Remove a value from the stack and return\n",
        "  def pop(self):\n",
        "    if self.isEmpty():\n",
        "      raise Exception(\"Popping from an empty stack\")\n",
        "    remove = self.head.next\n",
        "    self.head.next = self.head.next.next\n",
        "    self.size -= 1\n",
        "    return remove.value\n",
        "\n",
        "# Driver code\n",
        "if __name__ == \"__main__\":\n",
        "  stack = Stack()\n",
        "  for i in range(1, 11):\n",
        "    stack.push(i)\n",
        "  print(f\"Stack: {stack}\")\n",
        "\n",
        "  for _ in range(1, 6):\n",
        "    remove = stack.pop()\n",
        "    print(f\"Pop: {remove}\")\n",
        "\n",
        "  print(f\"Stack: {stack}\")"
      ],
      "metadata": {
        "colab": {
          "base_uri": "https://localhost:8080/"
        },
        "id": "OGTWR1_bv83v",
        "outputId": "afb0da47-6f2d-43a8-cbc3-01b3c7567058"
      },
      "execution_count": null,
      "outputs": [
        {
          "output_type": "stream",
          "name": "stdout",
          "text": [
            "Stack: 10->9->8->7->6->5->4->3->2->\n",
            "Pop: 10\n",
            "Pop: 9\n",
            "Pop: 8\n",
            "Pop: 7\n",
            "Pop: 6\n",
            "Stack: 5->4->3->2->\n"
          ]
        }
      ]
    },
    {
      "cell_type": "markdown",
      "source": [
        "##<center><b>Queue</b></center>"
      ],
      "metadata": {
        "id": "eucO-Wj7AqzN"
      }
    },
    {
      "cell_type": "markdown",
      "source": [
        "**Queue**\n",
        "\n",
        "A **queue** is similar to a stack, but defines a different way to add and remover elements.\n",
        "\n",
        "The elements are inserted from one end, called the **rear**, and deleted form the other end, called the **front**.\n",
        "\n",
        "This behavior is called **FIFO** (First in First Out).\n",
        "\n",
        "**Terminology**\n",
        "\n",
        "- The process of **adding** new elements into the queue is called **enqueue**.\n",
        "- The process of **removal** of an element form the queue is called **dequeue**.\n",
        "\n",
        "**Applications**\n",
        "\n",
        "Queues are used whenever we need to manage objects in order starting with the first one in.\n",
        "\n",
        "Scenarios include \n",
        "- printing documents on a printer\n",
        "- call center systems answering people on hold, and so on.\n",
        "\n",
        "Python **lists** are the easiest way to implement a queue functionality.\n",
        "\n"
      ],
      "metadata": {
        "id": "IeJX6H7dpUa1"
      }
    },
    {
      "cell_type": "markdown",
      "source": [
        "**Queue in Python**\n",
        "\n",
        "Let's implement the **Queue** class with it's corresponding **enqueue**, **dequeue**, **is_empty** and **print** methods.\n",
        "\n",
        "We will use a **list** to store the elements.\n",
        "\n",
        "> class Queue:\n",
        "\n",
        ">> def \\_\\_init\\_\\_(self):\n",
        "\n",
        ">>> self.items = []\n",
        "\n",
        ">> def is_empty(self):\n",
        "\n",
        ">>> return self.items == []\n",
        "\n",
        ">> def enqueue(self, item):\n",
        "\n",
        ">>> self.items.insert(0, item)\n",
        "\n",
        ">> def dequeue(self):\n",
        "\n",
        ">>> return self.items.pop()\n",
        "\n",
        ">> def print_queue(self):\n",
        "\n",
        ">>> print(self.items)\n",
        "\n",
        "\n",
        "The **enqueue** method adds an element at the beginning of the list, while the **dequeue** method removes the last element.\n",
        "\n"
      ],
      "metadata": {
        "id": "_rYJNr9PpoLF"
      }
    },
    {
      "cell_type": "code",
      "source": [
        "class Queue:\n",
        "  def __init__(self):\n",
        "    self.items = []\n",
        "  def is_empty(self):\n",
        "    return self.items == []\n",
        "  def enqueue(self, item):      # add an element at the beginning of the list\n",
        "    self.items.insert(0, item)\n",
        "  def dequeue(self):            # remove the last element\n",
        "    return self.items.pop()\n",
        "  def print_queue(self):\n",
        "    print(self.items)\n",
        "\n",
        "q = Queue()\n",
        "q.enqueue('a')\n",
        "q.enqueue('b')\n",
        "q.enqueue('42')\n",
        "q.print_queue()\n",
        "\n",
        "q.dequeue()\n",
        "q.print_queue()"
      ],
      "metadata": {
        "colab": {
          "base_uri": "https://localhost:8080/"
        },
        "id": "dtOWuFizp7F1",
        "outputId": "f35d14e6-69f9-4c45-fc53-0e8045df34f8"
      },
      "execution_count": null,
      "outputs": [
        {
          "output_type": "stream",
          "name": "stdout",
          "text": [
            "['42', 'b', 'a']\n",
            "['42', 'b']\n"
          ]
        }
      ]
    },
    {
      "cell_type": "markdown",
      "source": [
        "a **Queue** is a linear structure which **follows a particular order** in which the operations are performed. \n",
        "\n",
        "The order is **First In First Out** (FIFO). A good example of a eueue is any queue of consumers for a resource where the consumer that **came first is served first**. \n",
        "\n",
        "The **difference** between **stacks** and **queues** is in **removing**.\n",
        "\n",
        "- In a **stack** we remove the item **the most recently added**. \n",
        "- In a **queue**, we remove the item **the least recently added**.\n",
        "\n",
        "<table>\n",
        "  <tr>\n",
        "    <td rowspan=\"7\"><center><b>Queue</b></br>Insertion and Deletion</br>happen on different ends</center></td>\n",
        "  </tr>\n",
        "  <tr>\n",
        "    <td rowspan=\"7\"><center>First in,</br>First Out</center></td>\n",
        "  </tr>\n",
        "  <tr>\n",
        "    <th rowspan=\"7\" bgcolor=\"#F0FFFF\"><center>0030</center></th>\n",
        "    <th rowspan=\"7\"><center>0031</center></th>\n",
        "    <th rowspan=\"7\"><center>0032</center></th>\n",
        "    <th rowspan=\"7\"><center>0033</center></th>\n",
        "  </tr>\n",
        "</table>"
      ],
      "metadata": {
        "id": "KR3IXYZ7qKpe"
      }
    },
    {
      "cell_type": "markdown",
      "source": [
        "**Queue**\n",
        "\n",
        "Like stack, queue is a linear data structure that stores items in First In First Out (FIFO) manner. With a queue the least recently added item is removed first. A good example of queue is any queue of consumers for a resource where the consumer that came first is served first."
      ],
      "metadata": {
        "id": "rxes9K3msBNl"
      }
    },
    {
      "cell_type": "code",
      "source": [
        "# implementation using list\n",
        "\n",
        "\n",
        "queue = []\n",
        "\n",
        "queue.append('0030')\n",
        "queue.append('0031')\n",
        "queue.append('0032')\n",
        "\n",
        "print(\"Initial queue\")\n",
        "print(queue)\n",
        "\n",
        "# removing elements from the queue\n",
        "print(\"\\nElements dequeued from queue\")\n",
        "print(queue.pop(0))\n",
        "print(queue.pop(0))\n",
        "print(queue.pop(0))\n",
        "\n",
        "print(\"\\nQueue after removing elements\")\n",
        "print(queue)\n",
        "\n",
        "# Uncommening print(queue.pop(0)) will raise an IndexError as the queue is now empty"
      ],
      "metadata": {
        "colab": {
          "base_uri": "https://localhost:8080/"
        },
        "id": "nr7pLUxDtDte",
        "outputId": "d6ce0eab-aee2-49d1-81b6-a0303427187f"
      },
      "execution_count": null,
      "outputs": [
        {
          "output_type": "stream",
          "name": "stdout",
          "text": [
            "Initial queue\n",
            "['0030', '0031', '0032']\n",
            "\n",
            "Elements dequeued from queue\n",
            "0030\n",
            "0031\n",
            "0032\n",
            "\n",
            "Queue after removing elements\n",
            "[]\n"
          ]
        }
      ]
    },
    {
      "cell_type": "code",
      "source": [
        "# implementation usin collection.dequeue\n",
        "\n",
        "\n",
        "from collections import deque\n",
        "\n",
        "# Initializing a queue\n",
        "queue = deque()\n",
        "\n",
        "# adding elements to a queue\n",
        "queue.append('0030')\n",
        "queue.append('0031')\n",
        "queue.append('0032')\n",
        "\n",
        "print(\"Initial queue\")\n",
        "print(queue)\n",
        "\n",
        "# removing elements from a queue\n",
        "print(\"\\nElements dequeued from the queue\")\n",
        "print(queue.popleft())\n",
        "print(queue.popleft())\n",
        "print(queue.popleft())\n",
        "\n",
        "print(\"\\nQueue after removing elements\")\n",
        "print(queue)\n",
        "\n",
        "# Uncommenting q.popleft() will raise an IndexError as queue is now empty"
      ],
      "metadata": {
        "colab": {
          "base_uri": "https://localhost:8080/"
        },
        "id": "_9mmv-nwt73e",
        "outputId": "cfb1d44b-ef3e-4346-ba1c-63fd1a85163e"
      },
      "execution_count": null,
      "outputs": [
        {
          "output_type": "stream",
          "name": "stdout",
          "text": [
            "Initial queue\n",
            "deque(['0030', '0031', '0032'])\n",
            "\n",
            "Elements dequeued from the queue\n",
            "0030\n",
            "0031\n",
            "0032\n",
            "\n",
            "Queue after removing elements\n",
            "deque([])\n"
          ]
        }
      ]
    },
    {
      "cell_type": "code",
      "source": [
        "# implementation of queue using queue module\n",
        "\n",
        "\n",
        "from queue import Queue\n",
        "\n",
        "queue = Queue(maxsize  = 3)\n",
        "\n",
        "\n",
        "# qsize() gives the maxsize of the queue\n",
        "print(queue.qsize())\n",
        "\n",
        "# adding of element to queue\n",
        "queue.put('0030')\n",
        "queue.put('0031')\n",
        "queue.put('0032')\n",
        "\n",
        "# return boolean for full queue\n",
        "print(\"\\nFull: \", queue.full())\n",
        "\n",
        "# removing element from queue\n",
        "print(\"\\nElements dequeued from the queue\")\n",
        "print(queue.get())\n",
        "print(queue.get())\n",
        "print(queue.get())\n",
        "\n",
        "# return boolean for empty queue\n",
        "print(\"\\nEmpty: \", queue.empty())\n",
        "\n",
        "queue.put('0033')\n",
        "print(\"\\nEmpty: \", queue.empty())\n",
        "print(\"Full: \", queue.full())\n",
        "\n",
        "# This would result into Infinite Loop as the queue is empty print(queue.get())"
      ],
      "metadata": {
        "colab": {
          "base_uri": "https://localhost:8080/"
        },
        "id": "KI_nftFBu9vG",
        "outputId": "9e1c7f91-23f8-4f27-b656-3ee5161dbceb"
      },
      "execution_count": null,
      "outputs": [
        {
          "output_type": "stream",
          "name": "stdout",
          "text": [
            "0\n",
            "\n",
            "Full:  True\n",
            "\n",
            "Elements dequeued from the queue\n",
            "0030\n",
            "0031\n",
            "0032\n",
            "\n",
            "Empty:  True\n",
            "\n",
            "Empty:  False\n",
            "Full:  False\n"
          ]
        }
      ]
    },
    {
      "cell_type": "markdown",
      "source": [
        "##<center><b>Linked List</b></center>"
      ],
      "metadata": {
        "id": "x0ByVOPnxfQW"
      }
    },
    {
      "cell_type": "markdown",
      "source": [
        "**Linked List**\n",
        "\n",
        "A **linked list** is a sequence of nodes where each node stores its own data and a link to the next node.\n",
        "\n",
        "One node links to another forming what can be thought of as a linked chain:\n",
        "\n",
        "The first node is called the **head**, and it's used as the starting point for any iteration through the list. The last node must have its link pointing to **None** to determine the end of the list.\n",
        "\n",
        "Unlike stacks and queues, you can insert and remove nodes in any position of the linked list(similar to a standard list).\n",
        "\n",
        "**Applications**\n",
        "\n",
        "Linked lists are useful when your data is linked. For example when you need undo/redo funcionality, the nodes can represent the state with links to the previous and next states. \n",
        "\n",
        "Another example would be a playlist of music, where each clip is linked with the next one.\n",
        "\n",
        "\n",
        "Linked lists can also be used to create other data structures, such as **stack**, **queues** and **graphs**."
      ],
      "metadata": {
        "id": "sguIk-QjxyRF"
      }
    },
    {
      "cell_type": "markdown",
      "source": [
        "**Linked List in Python**\n",
        "\n",
        "Each node will include **data** and the **link** to the next node.\n",
        "\n",
        "Let's start by crating the **Node** class:\n",
        "\n",
        "> class Node:\n",
        "\n",
        ">> def \\_\\_init\\_\\_(self, data, next):\n",
        "\n",
        ">>> self.data = data\n",
        "\n",
        ">>> self.next = next\n",
        "\n",
        "Now we can crate the **LinkedList** class with the corresponding methods:\n",
        "\n",
        "> class LinkedList:\n",
        "\n",
        ">> def \\_\\_init\\_\\_(self):\n",
        "\n",
        ">>> self.head = None\n",
        "\n",
        ">> def add_at_front(self, data):\n",
        "\n",
        ">>> self.head = Node(data, self.head)\n",
        "\n",
        ">> def add_at_end(self, data):\n",
        "\n",
        ">>> if not self.head:\n",
        "\n",
        ">>>> self.head = Node(data, None)\n",
        "\n",
        ">>>> return \n",
        "\n",
        ">>> curr = self.head\n",
        "\n",
        ">>> while curr.next:\n",
        "\n",
        ">>>> curr = curr.next\n",
        "\n",
        ">>> curr.next = Node(data, None)\n",
        "\n",
        ">> def get_last_node(self):\n",
        "\n",
        ">>> n = self.head\n",
        "\n",
        ">>> while(n.next != None):\n",
        "\n",
        ">>>> n = n.next\n",
        "\n",
        ">>> return n.data\n",
        "\n",
        "\n",
        ">> def print_list(self):\n",
        "\n",
        ">>> n = self.head\n",
        "\n",
        ">>> while n != None:\n",
        "\n",
        ">>>> print(n.data, end = \" => \")\n",
        "\n",
        ">>>> n = n.next\n",
        "\n",
        ">>> print()\n",
        "\n",
        "\n",
        "The **add_at_front()** method adds a new Node as the head of the list and links the previous head to it.\n",
        "\n",
        "\n",
        "The **add_at_end()** method iterates to the end of the list usign a while loop and adds the new node as the link of the last node."
      ],
      "metadata": {
        "id": "24BAYDDeskHX"
      }
    },
    {
      "cell_type": "code",
      "source": [
        "# create none that consist of two part, first to store data and second to link to the next node \n",
        "class Node:\n",
        "  def __init__(self, data, next):\n",
        "    self.data = data\n",
        "    self.next = next\n",
        "\n",
        "\n",
        "class LinkedList:\n",
        "  def __init__(self):\n",
        "    self.head = None\n",
        "\n",
        "  # add a new Node as the head of the list and link to the previous head to it\n",
        "  def add_at_front(self, data):       \n",
        "    self.head = Node(data, self.head)\n",
        "\n",
        "  # iterates to the end of the list and adds the new node as the link of the last node\n",
        "  def add_at_end(self, data):          \n",
        "    if not self.head:\n",
        "      self.head = Node(data, None)\n",
        "      return \n",
        "    curr = self.head\n",
        "    while curr.next:\n",
        "      curr = curr.next\n",
        "    curr.next = Node(data, None)\n",
        "  \n",
        "  def get_last_node(self):\n",
        "    n = self.head\n",
        "    while(n.next != None):\n",
        "      n = n.next\n",
        "    return n.data\n",
        "  \n",
        "  def print_list(self):\n",
        "    n = self.head\n",
        "    while n != None:\n",
        "      print(n.data, end = \" => \")\n",
        "      n = n.next\n",
        "    print()\n",
        "\n",
        "\n",
        "s = LinkedList()\n",
        "s.add_at_front(5)\n",
        "s.add_at_end(8)\n",
        "s.add_at_front(9)\n",
        "\n",
        "s.print_list()\n",
        "print(s.get_last_node())"
      ],
      "metadata": {
        "colab": {
          "base_uri": "https://localhost:8080/"
        },
        "id": "NlEh82BTtAFR",
        "outputId": "ca126060-4b86-4a01-ec0c-b476a57b153f"
      },
      "execution_count": null,
      "outputs": [
        {
          "output_type": "stream",
          "name": "stdout",
          "text": [
            "9 => 5 => 8 => \n",
            "8\n"
          ]
        }
      ]
    },
    {
      "cell_type": "markdown",
      "source": [
        "A **linked list** is a linear data structure, in which the **elements are not stored at contiguous memory locations**. The elements in a linked list are linked using pointers as shown in the below image:\n",
        "\n",
        "<table>\n",
        "  <tr>\n",
        "    <td><center><b>Head</b></center></td>\n",
        "  </tr>\n",
        "  <tr>\n",
        "    <th bgcolor=\"#F0FFF0\"><center>065</center></th>\n",
        "    <th bgcolor=\"#FAF0E6\"><center></center></th>\n",
        "    <th>---></th>\n",
        "    <th bgcolor=\"#F0FFF0\"><center>066</center></th>\n",
        "    <th bgcolor=\"#FAF0E6\"><center></center></th>\n",
        "    <th>---></th>\n",
        "    <th bgcolor=\"#F0FFF0\"><center>067</center></th>\n",
        "    <th bgcolor=\"#FAF0E6\"><center></center></th>\n",
        "    <th>---></th>\n",
        "    <th bgcolor=\"#F0FFF0\"><center>068</center></th>\n",
        "    <th bgcolor=\"#FAF0E6\"><center></center></th>\n",
        "    <th>---></th>\n",
        "    <th>NULL</th>\n",
        "  </tr>\n",
        "</table>\n",
        "\n",
        "\n",
        "In simple words, a linked list consists of nodes where each node contains a data field (light green) and a reference(link) (light brown) to the next node in the list.\n",
        "\n"
      ],
      "metadata": {
        "id": "ORaK-Fqsuf5n"
      }
    },
    {
      "cell_type": "markdown",
      "source": [
        "Like arrays, **linked list** is a linear data structure. Unlike arrays, linked list elements are not stored at a contiguous location; the elements are linked using pointers. They includes a series of connected nodes. Here, each node stores the data and the address of the next node."
      ],
      "metadata": {
        "id": "zjvD7rLU1PSY"
      }
    },
    {
      "cell_type": "markdown",
      "source": [
        "**Why linked list**\n",
        "\n",
        "Arrays can be used to store linear data of similar types, but arrays have the following limitations.\n",
        "\n",
        "- **The size of the arrays is fixed:** So we must know the upper limit on the number of elements in advance. Also, generally, the allocated memory is equal to the upper limit irrespective of the usage.\n",
        "\n",
        "- **Insertion of a new element/Deletion of a existing element in an array of elemnts is expensive:** The room has to be created for the new elements and to create room existing elemnts have to be shifted but in **Linked list** if we have the head node then we **can traverse to any node** through it and insert new node at the required position.\n",
        "\n",
        "\n"
      ],
      "metadata": {
        "id": "mH0foC411xmf"
      }
    },
    {
      "cell_type": "markdown",
      "source": [
        "**For example**\n",
        "\n",
        "in a system, if we maintain a sorted list of IDs in an array id[].\n",
        "\n",
        "> id[] = [097, 099, 100, 101, 102]\n",
        "\n",
        "and if we want to insert a new ID 098, then to maintain the sorted order, we have to move all the elemnts after 097(excluding 097)\n",
        "\n",
        "Deletion is also expensive with arrays until unless some special techniques are used. For example, to delete 099 in id[], everything after 099 has to be moved due to this so much work is being done which affects the efficiency of the code.\n",
        "\n"
      ],
      "metadata": {
        "id": "YQaXqx_W409G"
      }
    },
    {
      "cell_type": "markdown",
      "source": [
        "**Drawbacks:**\n",
        "\n",
        "1. **Random access is not allowed**. We have to access elements sequentially starting from the firs node(head node). So we cannot do binary search with linked lists efficiently with its default implementation.\n",
        "2. **Extra memory space for a pointer** is required with each elemment of the list.\n",
        "3. **Not cache friendly**. Since array elemnets are contiguous locations, there is locality of reference which is not there in case of liked lists."
      ],
      "metadata": {
        "id": "ZXBOTAA94xF4"
      }
    },
    {
      "cell_type": "code",
      "source": [
        "# Node class\n",
        "class Node:\n",
        "\n",
        "  # Funcion to initialize the node object\n",
        "  def __init__(self, data):\n",
        "    self.data = data        # assign data\n",
        "    self.next = None        # Initialize next as null\n",
        "\n",
        "\n",
        "# Linked list class\n",
        "class LinkedList:\n",
        "\n",
        "  # Function to initialize the linked list object\n",
        "  def __init__(self):\n",
        "    self.head = None  "
      ],
      "metadata": {
        "id": "f2dlAG5n55h3"
      },
      "execution_count": null,
      "outputs": []
    },
    {
      "cell_type": "code",
      "source": [
        "# Node class\n",
        "class Node:\n",
        "\n",
        "  # Function to initialze the node object\n",
        "  def __init__(self, data):\n",
        "    self.data = data        # assign data\n",
        "    self.next = None        # Initialize next as null\n",
        "\n",
        "\n",
        "# Linked list class contains a node object\n",
        "class LinkedList:\n",
        "\n",
        "  # Function to initialize head\n",
        "  def __init__(self):\n",
        "    self.head = None\n",
        "\n",
        "\n",
        "# code execution starts here\n",
        "if __name__ == '__main__':\n",
        "\n",
        "  # Start with the empty list\n",
        "  llist = LinkedList()\n",
        "\n",
        "  llist.head = Node('065')\n",
        "  second = Node('066')\n",
        "  third = Node('067')\n",
        "\n",
        "\"\"\"\n",
        "Three nodes have been created. We have references to these three blocks as head, second and third\n",
        "\n",
        " llist.head              second               third\n",
        "      |                    |                    |\n",
        "      |                    |                    |\n",
        "+-----+-------+      +-----+-------+      +-----+-------+\n",
        "|'065'|  None |      |'066'|  None |      |'067'|  None |\n",
        "+-----+-------+      +-----+-------+      +-----+-------+\n",
        "\"\"\"\n",
        "\n",
        "llist.head.next = second; # Link first node with second\n",
        "\n",
        "\"\"\"\n",
        "Now next of first Node refers to second. So they both are linked.\n",
        "\n",
        " llist.head              second               third\n",
        "      |                    |                    |\n",
        "      |                    |                    |\n",
        "+-----+-------+      +-----+-------+      +-----+-------+\n",
        "|'065'|  o---------->|'066'|  null |      |'067'|  None |\n",
        "+-----+-------+      +-----+-------+      +-----+-------+\n",
        "\"\"\"\n",
        "\n",
        "second.next = third; # Link second node with the third node\n",
        "\n",
        "\"\"\"\n",
        "Now next of second Node refers to third. So they all three nodes are linked.\n",
        "\n",
        " llist.head              second               third\n",
        "      |                    |                    |\n",
        "      |                    |                    |\n",
        "+-----+-------+      +-----+-------+      +-----+-------+\n",
        "|'065'|  o---------->|'066'|  o---------->|'067'|  null |\n",
        "+-----+-------+      +-----+-------+      +-----+-------+\n",
        "\"\"\"\n",
        "\n"
      ],
      "metadata": {
        "colab": {
          "base_uri": "https://localhost:8080/",
          "height": 87
        },
        "id": "nTYZO-DL6j5v",
        "outputId": "e6c4242e-b562-457d-ffc9-45bedc54f661"
      },
      "execution_count": null,
      "outputs": [
        {
          "output_type": "execute_result",
          "data": {
            "text/plain": [
              "\"\\nNow next of second Node refers to third. So they all three nodes are linked.\\n\\n llist.head              second               third\\n      |                    |                    |\\n      |                    |                    |\\n+-----+-------+      +-----+-------+      +-----+-------+\\n|'065'|  o---------->|'066'|  o---------->|'067'|  null |\\n+-----+-------+      +-----+-------+      +-----+-------+\\n\""
            ],
            "application/vnd.google.colaboratory.intrinsic+json": {
              "type": "string"
            }
          },
          "metadata": {},
          "execution_count": 5
        }
      ]
    },
    {
      "cell_type": "code",
      "source": [
        "# Node class\n",
        "class Node:\n",
        "\n",
        "  # function to initialize the node object \n",
        "  def __init__(self, data):\n",
        "    self.data = data              # assign data\n",
        "    self.next = None              # initialize next as null\n",
        "\n",
        "\n",
        "# linked list class contains a node object\n",
        "class LinkedList:\n",
        "\n",
        "  # Function ot initialize head\n",
        "  def __init__(self):\n",
        "    self.head = None\n",
        "\n",
        "  # This function prints contents of linked list starting from head\n",
        "  def printList(self):\n",
        "    temp = self.head\n",
        "    while(temp):\n",
        "      print(temp.data, end=\" \")\n",
        "      temp = temp.next\n",
        "\n",
        "\n",
        "# code execution starts here\n",
        "if __name__ == '__main__':\n",
        "\n",
        "  # start with the empty list\n",
        "  llist = LinkedList()\n",
        "\n",
        "  llist.head = Node('065')\n",
        "  second = Node('066')\n",
        "  third = Node('067')\n",
        "\n",
        "  llist.head.next = second;  # link first node with second\n",
        "  second.next = third;       # link second node with the third node\n",
        "\n",
        "  llist.printList()\n"
      ],
      "metadata": {
        "colab": {
          "base_uri": "https://localhost:8080/"
        },
        "id": "rxh1FFcv-5j3",
        "outputId": "940c9384-d09a-4343-f4ae-c950c066da8f"
      },
      "execution_count": null,
      "outputs": [
        {
          "output_type": "stream",
          "name": "stdout",
          "text": [
            "065 066 067 "
          ]
        }
      ]
    },
    {
      "cell_type": "markdown",
      "source": [
        "##<center><b>Trees</b></center>"
      ],
      "metadata": {
        "id": "mRfbiJCdCY0u"
      }
    },
    {
      "cell_type": "markdown",
      "source": [
        "###**Binary Tree Data Structure**"
      ],
      "metadata": {
        "id": "JWjh9RDdY_aO"
      }
    },
    {
      "cell_type": "markdown",
      "source": [
        "\n",
        "A tree whose elements have at **most 2 children is called a binary tree**. Since each element in a binary tree can have only 2 children, we typically name them the left child and the right child. \n",
        "\n",
        "A Binary Treen node contains the following parts.\n",
        "\n",
        "1. Data\n",
        "2. Pointer to left child\n",
        "3. Pointer to right child"
      ],
      "metadata": {
        "id": "w9y6LJeJJYeo"
      }
    },
    {
      "cell_type": "markdown",
      "source": [
        "**Binary Tree**\n",
        "\n",
        "A tree is a popular data structure that is non-linear in nature. Unlike other data structures like array, stack, queue, and linked list which are linear in nature, a tree represents a hierarchical structure. The ordering information of a tree is not important. A tree contains nodes and 2 pointers. These two pointers are the left child and the right child of the parent node. Let us understand the terms of tree in detail.\n",
        "\n",
        "- **Root :** The root of a tree is the topmost node of the tree that has no parent node. There is only one root node in every tree.\n",
        "- **Edge :** Edge acts as a link between the parent node and the child node.\n",
        "- **Leaf :** A node that has no child is known as the leaf node. It is the last node of the tree. There can be multiple leaf nodes in a tree.\n",
        "- **Depth :** The depth of the node is the distance from the root node to that particular node.\n",
        "- **Height :** Th height of the node is the distance from that node to the deepest node of the tree.\n",
        "- **Height of tree :** The height of the tree is the maximum height of any node."
      ],
      "metadata": {
        "id": "hPhdmdznKPa5"
      }
    },
    {
      "cell_type": "code",
      "source": [
        "# Binary Tree\n",
        "\n",
        "\n",
        "\n",
        "#         R  <---------- Root\n",
        "#        / \\\n",
        "#      n1   n2     \n",
        "#     / \\   / \\\n",
        "#    l1 l2 l3 l4  <--- leaves   \n",
        "\n"
      ],
      "metadata": {
        "id": "LxnRARezLoPx"
      },
      "execution_count": null,
      "outputs": []
    },
    {
      "cell_type": "markdown",
      "source": [
        "**Why Use Trees?**\n",
        "\n",
        "1. One reason to use trees might be because you want to store imformation that naturally forms a hierarchy. For example, the file system on a computer:\n",
        "2. Trees (with some ordering e.g., BST) provide moderate access/search (quicker than Linked List and slower than arrays).\n",
        "3. Trees provide moderate insertion/deletion (quicker than Arrays and slower than Unordered Linked Lists).\n",
        "4. Like Linked Lists and unlike Arrays, Trees don't have an upper limit on the number of nodes as nodes are linked using pointers. "
      ],
      "metadata": {
        "id": "ThpHTVm56L7y"
      }
    },
    {
      "cell_type": "code",
      "source": [
        "# File system\n",
        "\n",
        "\n",
        "#        User  <---------- Root\n",
        "#        / \\\n",
        "#      ...   home     \n",
        "#           /    \\\n",
        "#       ugrad   course\n",
        "#         /    /   |   \\ \n",
        "#      ...  cs101 cs112 cs113\n",
        "      "
      ],
      "metadata": {
        "id": "YLDaRfoB6toa"
      },
      "execution_count": null,
      "outputs": []
    },
    {
      "cell_type": "markdown",
      "source": [
        "**Main applications of trees include:**\n",
        "1. Manipulate hierarchical data.\n",
        "2. Make information easy to search (see tree traversal).\n",
        "3. Manipulate sorted lists of data.\n",
        "4. As a workflow for compositing digital images for visual effects. \n",
        "5. Router algorithms\n",
        "6. Form of multi-stage decision-making (see business chess).\n",
        "\n"
      ],
      "metadata": {
        "id": "4HI6g5_G7rJq"
      }
    },
    {
      "cell_type": "markdown",
      "source": [
        "**Binary Tree:** A tree whose elements have at most 2 children is called a binary tree. Since each element in a binary tree can have only 2 children, we typically name them the left and riht child."
      ],
      "metadata": {
        "id": "m5WDdAw98szL"
      }
    },
    {
      "cell_type": "markdown",
      "source": [
        "**Binary Tree Representation:** A tree is represented by a pointer to the topmost node of the tree. If the tree is empty, then the value of the root is NULL.\n",
        "\n"
      ],
      "metadata": {
        "id": "DAbv3_Sl864S"
      }
    },
    {
      "cell_type": "markdown",
      "source": [
        "**A Tree node contains the following parts.**\n",
        "\n",
        "1. Data\n",
        "2. Pointer to the left child\n",
        "3. Pointer to hte right child \n"
      ],
      "metadata": {
        "id": "vsJFuGVk9UXy"
      }
    },
    {
      "cell_type": "code",
      "source": [
        "# A Python class that represents an idividual node in a Binary Tree\n",
        "\n",
        "class Node:\n",
        "  def __init__(self, key):\n",
        "    self.left = None\n",
        "    self.right = None\n",
        "    self.val = key"
      ],
      "metadata": {
        "id": "QH_OG6pc9V3c"
      },
      "execution_count": null,
      "outputs": []
    },
    {
      "cell_type": "markdown",
      "source": [
        "**Basic Operation on Binary Tree:**\n",
        "\n",
        "- Inserting an element.\n",
        "- Removing an element.\n",
        "- Searching for an element.\n",
        "- Traversing an element. There are three types of traversals in a binary tree whih will be discussed ahead.\n",
        "\n"
      ],
      "metadata": {
        "id": "hN8AdrTA9oQC"
      }
    },
    {
      "cell_type": "markdown",
      "source": [
        "**Auxiliary Operation on Binary Tree:**\n",
        "\n",
        "- Finding the height of the tree\n",
        "- Find the level of the tree\n",
        "- Finding the size of the entire tree."
      ],
      "metadata": {
        "id": "niqQKBRe99TL"
      }
    },
    {
      "cell_type": "markdown",
      "source": [
        "**Applications of Binary Tree:**\n",
        "\n",
        "- In compilers, Expression Trees are used which is an application of binary tree.\n",
        "- Huffman coding trees are used in data compression algorithms.\n",
        "- Priority Queue is another application of binay tree that is used for searching maximum of minimum in O(logN) time complexity.\n",
        "\n"
      ],
      "metadata": {
        "id": "xf9WG9To-Nhv"
      }
    },
    {
      "cell_type": "markdown",
      "source": [
        "**Binary Tree traversals:**\n",
        "- **PreOrder Traversal:** Here, the traversal is: root - left child - right child. It means that the root node is traversed first then its left child and finally the right child.\n",
        "- **InOrder Traversal:** Here, the traversal is: left child - root - right child. It means that the left child is traversed first then its root node and finally the right child.\n",
        "- **PostOrder:** Here, the traversal is: left child - right child - root. It means that the left hcild is traversed first then the right child and finally its root node."
      ],
      "metadata": {
        "id": "8f-p9ZvS-loK"
      }
    },
    {
      "cell_type": "code",
      "source": [
        "# Tree\n",
        "\n",
        "\n",
        "#          1  <---------- Root\n",
        "#        /   \\\n",
        "#       2     3     \n",
        "#      / \\   / \\\n",
        "#     4   5 6   7  <--- leaves   \n",
        "\n",
        "\n",
        "# PreOrder Traversal of the above tree  (root-left-right) : 1-2-4-5-3-6-7    \n",
        "# InOrder Traversal of the above tree   (left-root-right) : 4-2-5-1-6-3-7\n",
        "# PostOrder Traversal of the above tree (left-right-root) : 4-5-2-6-7-3-1"
      ],
      "metadata": {
        "id": "i0hiB8QC_hNi"
      },
      "execution_count": null,
      "outputs": []
    },
    {
      "cell_type": "code",
      "source": [
        "# A class that represents an individual node in a Binary Tree\n",
        "\n",
        "class Node:\n",
        "  def __init__(self, key):\n",
        "    self.left = None\n",
        "    self.right = None\n",
        "    self.val = key\n",
        "\n",
        "\n",
        "if __name__ == '__main__':\n",
        "  # Create root \n",
        "  root = Node(1)\n",
        "\n",
        "\n",
        "#      following is the tree after above statement\n",
        "#            1\n",
        "#          /   \\\n",
        "#        None None\n",
        " \n",
        "\n",
        "  root.left = Node(2)\n",
        "  root.right = Node(3)\n",
        "\n",
        "\n",
        "#      2 and 3 become left and right children of 1\n",
        "#              1\n",
        "#          /      \\\n",
        "#         2        3\n",
        "#       /   \\    /   \\\n",
        "#      None None None None  \n",
        "\n",
        "\n",
        "  root.left.left = Node(4)\n",
        "\n",
        "\n",
        "#      4 become left and right children of 1\n",
        "#             1\n",
        "#          /      \\\n",
        "#         2        3\n",
        "#       /   \\     /  \\\n",
        "#      4    None  None None  \n",
        "#     / \\ \n",
        "#   None None  \n",
        " \n",
        "\n"
      ],
      "metadata": {
        "id": "PE41xCamBUFa"
      },
      "execution_count": null,
      "outputs": []
    },
    {
      "cell_type": "markdown",
      "source": [
        "**Summary** \n",
        "\n",
        "Tree is a **hierarchical data structure**. Main uses of trees include maintaining hierarchical data, providing moderate a access and insert/delete operations.\n",
        "\n",
        "**Binary trees** are special cases of tree whree every node has at **most two children**."
      ],
      "metadata": {
        "id": "U3zSX-QiD1sT"
      }
    },
    {
      "cell_type": "markdown",
      "source": [
        "###**Binary Tree (Properties)**"
      ],
      "metadata": {
        "id": "F3w1Fv6dZCB2"
      }
    },
    {
      "cell_type": "markdown",
      "source": [
        "1. **The maximum number of nodes at level 'l' of a binary tree is 2<sup>l</sup>.** Here level is the number of nodes on the path from the root to the node (including root and node). \n",
        "\n",
        "> Level of the root is 0. \n",
        "\n",
        "> This can be proved by induction. For root, l = 0, number of nodes = 2<sup>0</sup> = 1\n",
        "\n",
        "Assume that the maximum number of nodes on level 'l' is 2<sup>l</sup> Since in Binary tree every node has at most 2 children, next level would have twice nodes, i.e. 2\\*2<sup>l</sup>\n",
        "\n",
        "2. **The maximum number of nodes in a binary ree of height 'h' is 2<sup>h</sup> -1.** Here the height of the tree is the maximum number of nodes on the root to leaf path. Height of a tree with a single node is considered as 1. This result can be derived from point 2 above. \n",
        "\n",
        "> A tree has maximum nodes if all levels have maximum nodes. So maximum number of nodes in a binary tree of height h is 1 + 2 + 4 +...+ 2<sup>h-1</sup>. This is a simple geometric series with h terms and sum of this series is 2<sup>h-1</sup>.  \n",
        "\n",
        "In some books, the height of the root is considered as 0. In this convention, the above formula becomes 2<sup>h-1</sup>-1\n",
        "\n",
        "3. **In a binary Tree with N nodes, minimum possible height or the minimum number of levels in Log<sub>2</sub>(N + 1).** There should be at least one element on each level, so the height cannot be more than N. A binary tree of height 'h' can have maximum 2<sup>h</sup> - 1 nodes (previous property). So the number of nodes will be less than or equal to this maximum value.\n",
        "\n",
        "> N  <= 2<sup>h</sup> - 1\n",
        "\n",
        "> 2<sup>h</sup> >= N + 1\n",
        "\n",
        "> log<sub>2</sub>(2<sup>h</sup>) >= log<sub>2</sub>(N + 1) (Taking log both sides)\n",
        "\n",
        "> hlog<sub>2</sub>2 >= log<sub>2</sub>(N + 1) (h is an integer)\n",
        "\n",
        "> h >= |log<sub>2</sub>(N+1)|\n",
        "\n",
        "So the minimum height possible is |log<sub>2</sub>(N+1)|\n",
        "\n",
        "4. **A Binary Tree with L leaves has at least |log<sub>2</sub>L| + 1 levels.** A Binary tree has the maximum number of leaves (and a minimum number of levels) when all levels are fully filled. Let all leaves be at level l, then below is true for the number of leaves L.\n",
        "\n",
        "\n",
        "> L <= 2<sup>l-1</sup>  (From point 1)\n",
        "\n",
        "> l = |log<sub>2</sub>L| + 1 ( where l is the minimum number of levels.)\n",
        "\n",
        "5. **In Binary tree where every node has 0 or 2 children, the number of leaf nodes is always one more than nodes with two children.**\n",
        "\n",
        "> L = T + 1 \n",
        "\n",
        "- L is number of leaf node\n",
        "- T is number of internal nodes with two children\n",
        "\n",
        "**Proof:**\n",
        "\n",
        "- No. of leaf nodes (L) i.e. total elemtns present at the bottom of 2<sup>h-1</sup> (h is height of tree)\n",
        "- No. of internal nodes = {total no. of nodes} - {leaf nodes}; {2<sup>h</sup>-1} - {2<sup>h-1</sup>} = 2<sup>h-1</sup>(2-1)-1 = 2<sup>h-1</sup> - 1. \n",
        "\n",
        "**So,**\n",
        "\n",
        "> L = 2<sup>h-1</sup>\n",
        "\n",
        "> T = 2<sup>h-1</sup> - 1\n",
        "\n",
        "\n",
        "**Therefore;** L = T + 1 \n",
        "\n",
        "6. **In a none empty binary tree, if n is the total number of nodes and e is the total number of edges, then e = n - 1.** Every node in a binary tree has exactly one parent with the exception of root node. So if n is the total number of nodes then n-1 nodes have exactly one parent. There is only one edge between any child and its parent. So the total number of edges is n-1.\n",
        "\n"
      ],
      "metadata": {
        "id": "W16b-YFbEmqE"
      }
    },
    {
      "cell_type": "markdown",
      "source": [
        "###**Binary Tree (Types of Binary Tree)**\n",
        "\n"
      ],
      "metadata": {
        "id": "vsDHrK5KeJo0"
      }
    },
    {
      "cell_type": "markdown",
      "source": [
        "- **Full Binary Tree:**\n",
        "\n",
        "A Binary Tree is a Full Binary Tree if **every node has 0 or 2 children**. \n",
        "\n",
        "The following are the examples of a full binary tree. We can also say a full binary tree is a binary tree in which **all nodes except leaf nodes have two children.**\n",
        "\n",
        "\n",
        "A full binary tree is a special type of binary tree in which every parent node/internal node has either two or no children. It is also known as a proper binary tree.\n",
        "\n",
        "\n",
        "\n"
      ],
      "metadata": {
        "id": "y2lrKlABed-0"
      }
    },
    {
      "cell_type": "code",
      "source": [
        "# Examples of Full Binary trees\n",
        "\n",
        "\n",
        "# Ex.1\n",
        "\n",
        "#                18\n",
        "#             /      \\\n",
        "#            15       30\n",
        "#           /  \\     /  \\ \n",
        "#         40   50  100   40\n",
        "\n",
        "\n",
        "# Ex.2\n",
        "\n",
        "#                18  \n",
        "#              /    \\  \n",
        "#             15    20\n",
        "#           /   \\\n",
        "#          40    50\n",
        "#        /   \\\n",
        "#      30    50\n",
        "\n",
        "\n",
        "# Ex.3    \n",
        "\n",
        "#                18\n",
        "#             /      \\\n",
        "#            40       30\n",
        "#                   /    \\\n",
        "#                 100     40"
      ],
      "metadata": {
        "id": "0SGh7gTafa1j"
      },
      "execution_count": null,
      "outputs": []
    },
    {
      "cell_type": "markdown",
      "source": [
        "- **Complete Binary Tree**\n",
        "\n",
        "A Binary Tree is a Complete Binary Tree if **all the levels are completely filled except possibly the last level** and the last level has all keys as left as possible.\n",
        "\n",
        "A complete binary tree is just like a full binary tree, but with **two major differences**:\n",
        "\n",
        "- **Every level** must be **completely filled**\n",
        "- All the leaf elements must **lean towards the left.**\n",
        "- The last leaf element might not have a right sibling i.e. a complete binary tree doesn't have to be a full binary tree. \n",
        "\n",
        "\n"
      ],
      "metadata": {
        "id": "IwmTYUh-hUYU"
      }
    },
    {
      "cell_type": "code",
      "source": [
        "# Examples of Complete Binary Trees\n",
        "\n",
        "\n",
        "# Ex.1\n",
        "\n",
        "#                18\n",
        "#             /      \\\n",
        "#            15       30\n",
        "#           /  \\     /  \\ \n",
        "#         40   50  100   40\n",
        "\n",
        "\n",
        "# Ex.2\n",
        "\n",
        "#               18  \n",
        "#            /       \\  \n",
        "#          15         30\n",
        "#        /    \\     /    \\\n",
        "#      40     50  100     50 \n",
        "#    /    \\\n",
        "#  30      50\n"
      ],
      "metadata": {
        "id": "sAqh7Lishw8k"
      },
      "execution_count": null,
      "outputs": []
    },
    {
      "cell_type": "markdown",
      "source": [
        "- **Perfect Binary Tree**\n",
        "\n",
        "A Binary Tree is a Perfect Binary Tree in which **all the internal nodes have two children** and **all leaf nodes are at the same level.**\n",
        "\n",
        "The following are  the examples of Perfect Binary Trees.\n",
        "\n",
        "A perfec binay tree is a type of binary tree in which every internal node has exactly tow child nodes and all the leaf nodes are at the same level.\n",
        "\n",
        "In a Perfect Binary Tree, the number of leaf nodes is the number of internal nodes plus 1\n",
        "\n",
        "> L = l + 1 \n",
        "\n",
        "- L Number of leaf nodes\n",
        "- l Number of internal nodes.\n",
        "\n",
        "\n",
        "A perfect Binary Tree of height h (where the height of the binary tree is the number of edges in the longest path from the root node to any leaf node in the tree, height of root node is 0) has 2<sup>h+1</sup> node.\n",
        "\n",
        "An Example of a Perfect binary tree is ancestors in the family. Keep a person at root, parents as children, parents of parents as their children."
      ],
      "metadata": {
        "id": "QUZ1uCAOjDy7"
      }
    },
    {
      "cell_type": "code",
      "source": [
        "# Examples of Perfect Binary Trees\n",
        "\n",
        "\n",
        "# Ex.1\n",
        "\n",
        "#                18\n",
        "#             /      \\\n",
        "#            15       30\n",
        "#           /  \\     /  \\ \n",
        "#         40   50  100   40\n",
        "\n",
        "\n",
        "# Ex.2\n",
        "\n",
        "#                18\n",
        "#             /      \\\n",
        "#           15        30\n"
      ],
      "metadata": {
        "id": "cbyRryU9jy_l"
      },
      "execution_count": null,
      "outputs": []
    },
    {
      "cell_type": "markdown",
      "source": [
        "- **Balanced Binary Tree**\n",
        "\n",
        "A Binary Tree is balanced if the height of the tree is O(Log n) where n is the number of nodes. For example, the AVL tree maintains O (Log n) height by making sure that the **difference between the heighs of the left and right subtrees is at most 1.** \n",
        "\n",
        "Red-Black trees maintain O(Log n) height by making sure that the number of BLack nodes on every root to leaf paths is the same and there are no adjacent red nodes. \n",
        "\n",
        "Balanced Binary Search trees are performance-wise good as they provide O(Long n) time for search, insert and delete. \n",
        "\n",
        "It is a type of binary tree in which the difference between the height of the left and the right subtree for each node is either 0 or 1."
      ],
      "metadata": {
        "id": "D-RerjWHk0tE"
      }
    },
    {
      "cell_type": "code",
      "source": [
        "# Examples of Balanced Binary Trees\n",
        " \n",
        "\n",
        "# - Balanced Binary Tree with depth at each level indicated\n",
        " \n",
        "#                0 (d=1)\n",
        "#            /       \\  \n",
        "#           1 (d=0)   2 (d=0)\n",
        "#        /    \\     \n",
        "#      3 (d=0)  4 (d=0) \n",
        "\n",
        "# Depth of a node = |height of left child - height of right child|\n",
        "#                 =  2 - 1\n",
        "#                 =  1 \n",
        "\n",
        "\n",
        "\n",
        "# - Unbalanced Binary Tree with depth at each level indicated\n",
        "\n",
        "#                 0 (d=2)\n",
        "#            /       \\  \n",
        "#           1 (d=1)   2 (d=0)\n",
        "#        /    \\     \n",
        "#      3 (d=1)  4 (d=0)\n",
        "#     / \n",
        "#    5 (d=0) \n",
        "\n",
        "# Depth of a node = |height of left child - height of right child|\n",
        "#                 =  3 - 1\n",
        "#                 =  2\n",
        "\n",
        "\n",
        "# the root node having  a value 0 is unbalanced with a depth of 2 units.                \n",
        "    "
      ],
      "metadata": {
        "id": "w9Mj0IzWlt1d"
      },
      "execution_count": null,
      "outputs": []
    },
    {
      "cell_type": "markdown",
      "source": [
        "- **A degenerate (or pathological) Tree**\n",
        "\n",
        "A Tree where **every internal node has one child**. Such trees are performance-wise same as linked list.\n",
        "\n",
        "A degenereate or pathological tree is the tree having **a single child either left or right.**"
      ],
      "metadata": {
        "id": "4abskdBEpYvm"
      }
    },
    {
      "cell_type": "code",
      "source": [
        "# An Example of A degenerate (or pathological) Tree\n",
        "\n",
        "\n",
        "#        10\n",
        "#       /\n",
        "#      20\n",
        "#        \\\n",
        "#         30\n",
        "#           \\\n",
        "#            40                 "
      ],
      "metadata": {
        "id": "KI7AkBb5psTN"
      },
      "execution_count": null,
      "outputs": []
    },
    {
      "cell_type": "markdown",
      "source": [
        "- **A Skewed Binary Tree**\n",
        "\n",
        "A skewed binary tree **is a pathological/degenerate tree** in which the tree is either **dominated by the left nodes or the right nodes.**  \n",
        "\n",
        "There are two types of skewed binary tree: \n",
        "- left-skewed binary tree \n",
        "- right-skewed binary tree.\n",
        "\n"
      ],
      "metadata": {
        "id": "El3kq73FqCiW"
      }
    },
    {
      "cell_type": "code",
      "source": [
        "# Examples of Skewed Binary Trees\n",
        "\n",
        "\n",
        "#  - Left-Skewed Binary Tree \n",
        "\n",
        "#          10\n",
        "#         /\n",
        "#       20\n",
        "#      /\n",
        "#    30\n",
        "#   / \n",
        "#  40 \n",
        "\n",
        "\n",
        "# - Right-Skewed Binary Tree\n",
        "\n",
        "#        10\n",
        "#          \\ \n",
        "#           20\n",
        "#             \\ \n",
        "#              30\n",
        "#                \\ \n",
        "#                 40"
      ],
      "metadata": {
        "id": "_q0fuLVuquAN"
      },
      "execution_count": null,
      "outputs": []
    },
    {
      "cell_type": "markdown",
      "source": [
        "###**Binary Search Tree**"
      ],
      "metadata": {
        "id": "NaN8rVMWZLgf"
      }
    },
    {
      "cell_type": "markdown",
      "source": [
        "**Binary Search Tree** is a node-based binary tree data structure which has the following properties:\n",
        "\n",
        "- The left subtree of a node contains only nodes with keys lesser than the node's key.\n",
        "- The right subtree of a node contains only nodes with keys greater than the node's key.\n",
        "- The left and right subtree each must also be a binary search tree."
      ],
      "metadata": {
        "id": "zygYnlaNaOFA"
      }
    },
    {
      "cell_type": "code",
      "source": [
        "# Binary Search Tree\n",
        "\n",
        "\n",
        "#                8\n",
        "#             /     \\ \n",
        "#            3       10\n",
        "#          /   \\       \\\n",
        "#         1     6      14\n",
        "#             /   \\    /  \n",
        "#            4     7  13\n",
        "\n",
        "\n",
        "# The above properties of Binary Search Tree provides an ordering among keys so that \n",
        "# the operations like search, minimum and maximum can be done fast. If there is no\n",
        "# ordring, than we may have to compare every key to search for a given key.            "
      ],
      "metadata": {
        "id": "seTzrB6ya6Wv"
      },
      "execution_count": null,
      "outputs": []
    },
    {
      "cell_type": "markdown",
      "source": [
        "**Binary Search Tree (Search and Insertion)**\n",
        "\n"
      ],
      "metadata": {
        "id": "663wL2RJbqkf"
      }
    },
    {
      "cell_type": "markdown",
      "source": [
        "**Searching a key**\n",
        "\n",
        "For searching a value, if we have a sorted array we could have performed a binary search. Let's say we want to search a number in the array. In binary search, we first define the complete list as our search space, the number can exist only within the search space. \n",
        "\n",
        "Now, we compare the number to be searched or the element to be search with the middle element(median) of the search space and if the record being searched is less than the middle element, we go searching in the left half, else we go searching in the right half, in case of equality we have found the element.\n",
        "\n",
        "In binary search we start with **'n'** elements in serach space and if the mid element is not the element that we are looking for, we reduce the search space to **'n/2'** we keep reducing the search space until we either find the record that we are looking for or we get to only one element in search space and be done with this whole reduction.\n",
        "\n",
        "Search operations in binary search tree will be very similar, Let's say we want to search for the number, we start at the root, and then we compare the value to be searched with the value of the root, if it's equal we are done with the serach if it's smaller we know that we need to go to the left subtree because in a bianry search tree all the elements in the left subtree are smaller and all the elements in the right subtree are larger. \n",
        "\n",
        "Searching an element in the binary search tree is basically this traversal, at each step we go either left or right and at each step we discard one of the sub-trees. If the tree is balanced (we call a tree balanced if for all nodes the difference between the heights of left and right subtrees is not greater than one) we start with a search space of **'n'** nodes and as we discard one of the sub-trees, we discard **'n/2'** nodes so our search space gets reduced to **'n/2'**. In the next step we reduce the search space to **'n/4'** and we repeat until we find the element or our serach space is reduced to only one node. The search here is also a binary search hence the name; Binary Search Tree."
      ],
      "metadata": {
        "id": "0iORvm3tcqwX"
      }
    },
    {
      "cell_type": "code",
      "source": [
        "# A function to search a given key in Binary Search tree\n",
        "\n",
        "def bst_search(root, key):\n",
        "\n",
        "  # Base Cases: root is null or key is present at root\n",
        "  if root is None or root.val == key:\n",
        "    return root\n",
        "\n",
        "\n",
        " # Key is greater than root's key\n",
        "  if root.val < key:\n",
        "   return bst_search(root.right, key)\n",
        "\n",
        " # Key is smaller than root's key\n",
        "  return bst_search(root.left. key) "
      ],
      "metadata": {
        "id": "BDLd6sh1hEtd"
      },
      "execution_count": null,
      "outputs": []
    },
    {
      "cell_type": "markdown",
      "source": [
        "**Illustration to search 6 in below tree**\n",
        "\n",
        "1. Start from the root.\n",
        "2. Compare the searching element with root, if less than root, then recursively call left subtree, else recursively call right subtree.\n",
        "3. If the element to search is found anywhere, return true, else return false."
      ],
      "metadata": {
        "id": "kcc6ymgDiSDg"
      }
    },
    {
      "cell_type": "code",
      "source": [
        "# search 6 in a Binary Tree\n",
        "\n",
        "\n",
        "#                8\n",
        "#             /     \\ \n",
        "#            3       10\n",
        "#          /   \\       \\\n",
        "#         1     6      14\n",
        "#             /   \\    /  \n",
        "#            4     7  13\n",
        "\n",
        "\n",
        "# -  Elements are in an ascending order from minimum to maximum\n",
        "# -  Starting from the root \n",
        "# -  Compare the element you want to search with node value\n",
        "# -  If the element you want to search is less than, go to the left, else go to the right\n",
        "# -  keep doing till the element is found         "
      ],
      "metadata": {
        "id": "6O8VASzuitK4"
      },
      "execution_count": null,
      "outputs": []
    },
    {
      "cell_type": "markdown",
      "source": [
        "**Insertion of a key**\n",
        "\n",
        "**A new key is always inserted at the leaf**. We start searching a key from the root until we hit a leaf node. Once a leaf node is found, the new node is added as a child of the leaf node."
      ],
      "metadata": {
        "id": "W4hTjyKtkQm4"
      }
    },
    {
      "cell_type": "code",
      "source": [
        "# Insertion of a key\n",
        "\n",
        "\n",
        "#              100                                 100\n",
        "#            /     \\       Insertion 40          /     \\ \n",
        "#          20      500    -------------->      20      500\n",
        "#         /  \\                                /  \\\n",
        "#       10    30                            10    30  \n",
        "#                                                   \\\n",
        "#                                                    40                                                                  "
      ],
      "metadata": {
        "id": "k0-RywdoknZ3"
      },
      "execution_count": null,
      "outputs": []
    },
    {
      "cell_type": "code",
      "source": [
        "# an Implementation of insertion in Binary Tree\n",
        "\n",
        "# a class for making binary tree\n",
        "class Node:\n",
        "  def __init__(self, key):\n",
        "    self.left = None\n",
        "    self.right = None\n",
        "    self.val = key\n",
        "\n",
        "\n",
        "def insert(root, key):\n",
        "  if root is None:\n",
        "    return Node(key)\n",
        "  else:\n",
        "    if root.val == key:\n",
        "      return root\n",
        "    elif root.val < key:\n",
        "      root.right = insert(root.right, key)\n",
        "    else:\n",
        "      root.left = insert(root.left, key)\n",
        "  return root\n",
        "\n",
        "\n",
        "# A utility function to do inorder tree traversal\n",
        "def inorder(root):\n",
        "  if root:\n",
        "    inorder(root.left)\n",
        "    print(root.val)\n",
        "    inorder(root.right)\n",
        "\n",
        "\n",
        "\n",
        "# Driver program to test the above functions \n",
        "# Let us create the following Binary Search Tree\n",
        "\n",
        "#        50\n",
        "#      /    \\\n",
        "#    30      70\n",
        "#   /  \\    /  \\\n",
        "# 20   40  60   80\n",
        "\n",
        "# (leftC-Node-rightC)\n",
        "\n",
        "\n",
        "r = Node(50)\n",
        "r = insert(r, 30)\n",
        "r = insert(r, 20)\n",
        "r = insert(r, 40)\n",
        "r = insert(r, 70)\n",
        "r = insert(r, 60)\n",
        "r = insert(r, 80)\n",
        "\n",
        "# Print inoder traversal of the BST\n",
        "inorder(r)"
      ],
      "metadata": {
        "colab": {
          "base_uri": "https://localhost:8080/"
        },
        "id": "DELR54j9loQR",
        "outputId": "145e81d5-b7f4-47ea-9fdc-5f12ce5b5fe0"
      },
      "execution_count": null,
      "outputs": [
        {
          "output_type": "stream",
          "name": "stdout",
          "text": [
            "20\n",
            "30\n",
            "40\n",
            "50\n",
            "60\n",
            "70\n",
            "80\n"
          ]
        }
      ]
    },
    {
      "cell_type": "markdown",
      "source": [
        "**Illustration to insert 2 in below tree**\n",
        "\n",
        "1. Start from the root.\n",
        "2. Compare the inserting element with root, if less than root, then recursively call left subtree, else recursively call right subtree.\n",
        "3. After reaching the end, just insert that node at left (if less than current) else right."
      ],
      "metadata": {
        "id": "1xP3APFMoI_R"
      }
    },
    {
      "cell_type": "code",
      "source": [
        "# Illustration to insert 2 in Binary tree\n",
        "\n",
        "\n",
        "#            8                                            8\n",
        "#        /       \\                                    /       \\\n",
        "#       3         10                                 3         10  \n",
        "#     /   \\         \\         Insertion 2          /   \\         \\  \n",
        "#    1     6         14     -------------->       1     6         14 \n",
        "#        /   \\      /                              \\  /   \\      /\n",
        "#       4     7    13                               2 4     7   13\n",
        "      "
      ],
      "metadata": {
        "id": "DZmkB2B-op9h"
      },
      "execution_count": null,
      "outputs": []
    },
    {
      "cell_type": "markdown",
      "source": [
        "**Time Complexity** \n",
        "\n",
        "The worst-case time complexity of search and insert operations is O(h) where h is the height of the Binary Search Tree. In the worst case, we may have to travel from root to the deepest leaf node. The height of a skewed tree may become n and the time complexity of search and insert operation may become O(n).\n",
        "\n"
      ],
      "metadata": {
        "id": "E-Q-3ts_q7zp"
      }
    },
    {
      "cell_type": "code",
      "source": [
        "class GFG:\n",
        "  @staticmethod\n",
        "  def main( args):\n",
        "    tree = BST()\n",
        "    tree.insert(30)\n",
        "    tree.insert(50)\n",
        "    tree.insert(15)\n",
        "    tree.insert(20)\n",
        "    tree.insert(10)\n",
        "    tree.insert(40)\n",
        "    tree.insert(60)\n",
        "    tree.inorder()\n",
        "\n",
        "\n",
        "class Node:\n",
        "  left = None\n",
        "  val = 0\n",
        "  right = None\n",
        "  def __init__(self, val):\n",
        "    self.val = val\n",
        "\n",
        "class BST:\n",
        "  root = None\n",
        "  def insert(self, key):\n",
        "    node = Node(key)\n",
        "    if (self.root == None):\n",
        "      self.root = node\n",
        "      return\n",
        "    prev = None\n",
        "    temp = self.root\n",
        "    while (temp != None):\n",
        "      if (temp.val > key):\n",
        "        prev = temp\n",
        "        temp = temp.left\n",
        "      elif (temp.val < key):\n",
        "        prev = temp\n",
        "        temp = temp.right\n",
        "    if (prev.val > key):\n",
        "      prev.left = node\n",
        "    else:\n",
        "      prev.right = node\n",
        "  def inorder(self):\n",
        "    temp = self.root\n",
        "    stack = []\n",
        "    while (temp != None or not (len(stack) == 0)):\n",
        "      if (temp != None):\n",
        "        stack.append(temp)\n",
        "        temp = temp.left\n",
        "      else:\n",
        "        temp = stack.pop()\n",
        "        print(str(temp.val) + \" \", end = \"\")\n",
        "        temp = temp.right\n",
        "\n",
        "\n",
        "if __name__ == \"__main__\" :\n",
        "  GFG.main([])\n",
        "    \n",
        "\n",
        "\n",
        "    "
      ],
      "metadata": {
        "colab": {
          "base_uri": "https://localhost:8080/"
        },
        "id": "vsGsX3FDrbnp",
        "outputId": "953cd5ee-1ad2-445a-e702-11c14d71200a"
      },
      "execution_count": null,
      "outputs": [
        {
          "output_type": "stream",
          "name": "stdout",
          "text": [
            "10 15 20 30 40 50 60 "
          ]
        }
      ]
    },
    {
      "cell_type": "markdown",
      "source": [
        "**Some interesting Facts**\n",
        "\n",
        "- Inorder traversal of Binary Search Tree always produces sorted output.\n",
        "- We can construct a Binary Search Tree with only Preorder or Postorder or Level Order traversal. Note! that we can always get inorder traversal by sorting the only given traversal."
      ],
      "metadata": {
        "id": "5onQnaC3udKv"
      }
    },
    {
      "cell_type": "markdown",
      "source": [
        "**Binary Search Tree (Delete)**"
      ],
      "metadata": {
        "id": "qnHq6pC8wOau"
      }
    },
    {
      "cell_type": "markdown",
      "source": [
        "1. **Node to be deleted is the leaf** Simply remove from the tree."
      ],
      "metadata": {
        "id": "FXeTdbXZx_iA"
      }
    },
    {
      "cell_type": "code",
      "source": [
        "# Node to be delted is the leaf\n",
        "\n",
        "\n",
        "#                   50                                        50\n",
        "#                /      \\            delete(20)            /      \\ \n",
        "#               30      70          ----------->          30      70\n",
        "#             /   \\    /   \\                            /   \\    /   \\\n",
        "#            20   40  60   80                          20   40  60   80"
      ],
      "metadata": {
        "id": "aslgZ1hFyizI"
      },
      "execution_count": null,
      "outputs": []
    },
    {
      "cell_type": "markdown",
      "source": [
        "2. **Node to be deleted has only one child** Copy the child to the node and delete the child."
      ],
      "metadata": {
        "id": "XG__se4qzfB3"
      }
    },
    {
      "cell_type": "code",
      "source": [
        "# Node to be deleted has only one child\n",
        "\n",
        "\n",
        "#                   50                                        50\n",
        "#                /      \\            delete(30)            /      \\ \n",
        "#               30      70          ----------->          40      70\n",
        "#                 \\    /   \\                                     /   \\\n",
        "#                 40  60   80                                   60   80\n"
      ],
      "metadata": {
        "id": "WX2hAJ3CzphX"
      },
      "execution_count": null,
      "outputs": []
    },
    {
      "cell_type": "markdown",
      "source": [
        "3.**Node to be deleted has two children** Find inorder successor of the node. Copy contents of the inorder successor to the node and delete the inorder successor. Note that inorder predecessor can also be used."
      ],
      "metadata": {
        "id": "Eq-nZUudz7wW"
      }
    },
    {
      "cell_type": "code",
      "source": [
        "# Node to be deleted has two children\n",
        "\n",
        "\n",
        "#                   50                                        50\n",
        "#                /      \\            delete(50)            /      \\ \n",
        "#               30      70          ----------->          40      70\n",
        "#                      /   \\                                        \\\n",
        "#                     60   80                                        80\n",
        "  "
      ],
      "metadata": {
        "id": "A9TpsTZ70XH2"
      },
      "execution_count": null,
      "outputs": []
    },
    {
      "cell_type": "markdown",
      "source": [
        "**Note!** The important thing to note is, inorder successor is needed only when the right child is not empty. In this particular case, inorder successor can be obtained by finding the minimum value in the right child of the node."
      ],
      "metadata": {
        "id": "jcpHZNox0whf"
      }
    },
    {
      "cell_type": "code",
      "source": [
        "# A Binary Tree Node\n",
        "\n",
        "# a class to make tree binary tree\n",
        "class Node:\n",
        "  def __init__(self, key):\n",
        "    self.key = key\n",
        "    self.left = None\n",
        "    self.right = None\n",
        "\n",
        "\n",
        "# a function to do inorder traversal of Binary Search Tree\n",
        "def inorder(root):\n",
        "  if root is not None:\n",
        "    inorder(root.left)\n",
        "    print(root.key, end=\" \")\n",
        "    inorder(root.right)\n",
        "\n",
        "\n",
        "# a function to insert a new node with given key in Binary Search Tree\n",
        "def insert(node, key):\n",
        "  if node is None:\n",
        "    return Node(key)\n",
        "  if key < node.key:\n",
        "    node.left = insert(node.left, key)\n",
        "  else:\n",
        "    node.right = insert(node.right, key)\n",
        "  return node\n",
        "\n",
        "\n",
        "def minValueNode(node):\n",
        "  current = node\n",
        "  while(current.left is not None):\n",
        "    current = current.left\n",
        "  return current\n",
        "\n",
        "\n",
        "def deleteNode(root, key):\n",
        "  if root is None:\n",
        "    return root\n",
        "  if key < root.key:\n",
        "    root.left = deleteNode(root.left, key)\n",
        "  elif key > root.key:\n",
        "    root.right = deleteNode(root.right, key) \n",
        "  else:\n",
        "    if root.left is None:\n",
        "      temp = root.right\n",
        "      root = None\n",
        "      return temp\n",
        "    elif root.right is None:\n",
        "      temp = root.left\n",
        "      root = None\n",
        "      return temp\n",
        "    temp = minValueNode(root.right)\n",
        "    root.key = temp.key\n",
        "    root.right = deleteNode(root.right, temp.key)\n",
        "  return  root\n",
        "\n",
        "\n",
        "# creating following Binary Search Tree\n",
        "\n",
        "#                   50                              \n",
        "#                /      \\                  \n",
        "#               30      70               \n",
        "#             /   \\    /   \\                         \n",
        "#            20   40  60   80 \n",
        "\n",
        "\n",
        "\n",
        "root = None\n",
        "root = insert(root, 50)\n",
        "root = insert(root, 30)\n",
        "root = insert(root, 20)\n",
        "root = insert(root, 40)\n",
        "root = insert(root, 70)\n",
        "root = insert(root, 60)\n",
        "root = insert(root, 80)\n",
        "\n",
        "print(\"Inorder traversal of the given tree\")\n",
        "inorder(root)\n",
        "\n",
        "print(\"\\nDelete 20\")\n",
        "root = deleteNode(root, 20)\n",
        "print(\"Inorder traversal of the modified tree\")\n",
        "inorder(root)\n",
        "\n",
        "print(\"\\nDelete 30\")\n",
        "root = deleteNode(root, 30)\n",
        "print(\"Inorder traversal of the modified tree\")\n",
        "inorder(root)\n",
        "\n",
        "print(\"\\nDelete 50\")\n",
        "root = deleteNode(root, 50)\n",
        "print(\"Inorder traversal of the modified tree\")\n",
        "inorder(root)"
      ],
      "metadata": {
        "colab": {
          "base_uri": "https://localhost:8080/"
        },
        "id": "UxxW25TD1BUv",
        "outputId": "28bfff69-93d2-4d01-e022-756dbc5931d9"
      },
      "execution_count": null,
      "outputs": [
        {
          "output_type": "stream",
          "name": "stdout",
          "text": [
            "Inorder traversal of the given tree\n",
            "20 30 40 50 60 70 80 \n",
            "Delete 20\n",
            "Inorder traversal of the modified tree\n",
            "30 40 50 60 70 80 \n",
            "Delete 30\n",
            "Inorder traversal of the modified tree\n",
            "40 50 60 70 80 \n",
            "Delete 50\n",
            "Inorder traversal of the modified tree\n",
            "40 60 70 80 "
          ]
        }
      ]
    },
    {
      "cell_type": "markdown",
      "source": [
        "**Time Complexity**\n",
        "\n",
        "The worst case time complexity of delete operation is O(h) where h is the height of the Binary Search Tree. In worst case, we may have to travel from the root to the deepest leaft node. The height of a skewed tree may become n and the time complexity of delete operation may become O(n)\n",
        "\n"
      ],
      "metadata": {
        "id": "ch2moD0A5gh5"
      }
    },
    {
      "cell_type": "markdown",
      "source": [
        "**Optimization to above code for two children case**\n",
        "In the above recursive code, we recursively call delete() for the successor. We can avoid recursive calls by keeping track of the parent node of  the successor so that we can simply remove the successor by making the child of a parent NULL. We know that the successor would always be a leaf node."
      ],
      "metadata": {
        "id": "G6zPopq66T3A"
      }
    },
    {
      "cell_type": "code",
      "source": [
        "# A Binary Tree Node\n",
        "\n",
        "# a class to make tree binary tree\n",
        "class Node:\n",
        "  def __init__(self, key):\n",
        "    self.key = key\n",
        "    self.left = None\n",
        "    self.right = None\n",
        "\n",
        "\n",
        "# a function to do inorder traversal of Binary Search Tree\n",
        "def inorder(root):\n",
        "  if root is not None:\n",
        "    inorder(root.left)\n",
        "    print(root.key, end=\" \")\n",
        "    inorder(root.right)\n",
        "\n",
        "\n",
        "# a function to insert a new node with given key in Binary Search Tree\n",
        "def insert(node, key):\n",
        "  if node is None:\n",
        "    return Node(key)\n",
        "  if key < node.key:\n",
        "    node.left = insert(node.left, key)\n",
        "  else:\n",
        "    node.right = insert(node.right, key)\n",
        "  return node\n",
        "\n",
        "\n",
        "def deleteNode(root, key):\n",
        "  if root is None:\n",
        "    return root\n",
        "  if key < root.key:\n",
        "    root.left = deleteNode(root.left, key)\n",
        "    return root\n",
        "  if root.left is None and root.right is None:\n",
        "    return None\n",
        "  if root.left is None:\n",
        "    temp = root.right\n",
        "    root = None\n",
        "    return temp\n",
        "  elif root.right is None:\n",
        "    temp = root.left\n",
        "    root = None\n",
        "    return temp\n",
        "  succParent = root\n",
        "  succ = root.right\n",
        "\n",
        "  while succ.left != None:\n",
        "    succParent = succ\n",
        "    succ = succ.left\n",
        "  if succParent != root:\n",
        "    succParent.left = succ.right\n",
        "  else:\n",
        "    succParent.right = succ.right\n",
        "  root.key = succ.key\n",
        "  return root\n",
        "\n",
        "\n",
        "# creating following Binary Search Tree\n",
        "\n",
        "#                   50                              \n",
        "#                /      \\                  \n",
        "#               30      70               \n",
        "#             /   \\    /   \\                         \n",
        "#            20   40  60   80 \n",
        "\n",
        "\n",
        "\n",
        "root = None\n",
        "root = insert(root, 50)\n",
        "root = insert(root, 30)\n",
        "root = insert(root, 20)\n",
        "root = insert(root, 40)\n",
        "root = insert(root, 70)\n",
        "root = insert(root, 60)\n",
        "root = insert(root, 80)\n",
        "\n",
        "print(\"Inorder traversal of the given tree\")\n",
        "inorder(root)\n",
        "\n",
        "print(\"\\nDelete 20\")\n",
        "root = deleteNode(root, 20)\n",
        "print(\"Inorder traversal of the modified tree\")\n",
        "inorder(root)\n",
        "\n",
        "print(\"\\nDelete 30\")\n",
        "root = deleteNode(root, 30)\n",
        "print(\"Inorder traversal of the modified tree\")\n",
        "inorder(root)\n",
        "\n",
        "print(\"\\nDelete 50\")\n",
        "root = deleteNode(root, 50)\n",
        "print(\"Inorder traversal of the modified tree\")\n",
        "inorder(root)"
      ],
      "metadata": {
        "colab": {
          "base_uri": "https://localhost:8080/"
        },
        "id": "J4dW52UJ6WJo",
        "outputId": "282cc5de-d8d2-479d-ce03-3cbd81eab087"
      },
      "execution_count": null,
      "outputs": [
        {
          "output_type": "stream",
          "name": "stdout",
          "text": [
            "Inorder traversal of the given tree\n",
            "20 30 40 50 60 70 80 \n",
            "Delete 20\n",
            "Inorder traversal of the modified tree\n",
            "30 40 50 60 70 80 \n",
            "Delete 30\n",
            "Inorder traversal of the modified tree\n",
            "40 50 60 70 80 \n",
            "Delete 50\n",
            "Inorder traversal of the modified tree\n",
            "40 60 70 80 "
          ]
        }
      ]
    },
    {
      "cell_type": "markdown",
      "source": [
        "###**Heap Data Structure**"
      ],
      "metadata": {
        "id": "EuZJ5RtQ7pHQ"
      }
    },
    {
      "cell_type": "markdown",
      "source": [
        "A **Heap** is a special **Tree-based data structure** in which the tree is **a complete binary Tree**. Generally Heaps can be of two types:\n",
        "\n",
        "1. **Max-Heap**: In a Max-Heap the key present at the root node must be greatest among the keys present at all of it's children. The same property must be recursively true for all sub-trees in that Binary Tree.\n",
        "2. **Min-Heap**: In a Min-Heap the key present at the root node must be minimum among the keys present at all of it's children. The same property must be recursively ture for all sub-trees in the Binary Tree."
      ],
      "metadata": {
        "id": "LMCWshc6DUTk"
      }
    },
    {
      "cell_type": "code",
      "source": [
        "# Heap Data Structure\n",
        "\n",
        "\n",
        "# - Min Heap\n",
        "\n",
        "#                10\n",
        "#             /      \\\n",
        "#            15       30\n",
        "#           /  \\     /  \\ \n",
        "#         40   50  100   40\n",
        "\n",
        "# At the root node must be minimum among the keys present at all of it's children.\n",
        "\n",
        "\n",
        "# - Max Heap\n",
        "\n",
        "#                100\n",
        "#             /      \\\n",
        "#            40       50\n",
        "#           /  \\     /  \\ \n",
        "#         10   15   50   40\n",
        "\n",
        "# At the root node must be greatest among the keys present at all of it's children.  \n",
        "\n"
      ],
      "metadata": {
        "id": "iQLB7_hfEWY1"
      },
      "execution_count": null,
      "outputs": []
    },
    {
      "cell_type": "markdown",
      "source": [
        "**Binary Heap**"
      ],
      "metadata": {
        "id": "M3FqV3ncFasF"
      }
    },
    {
      "cell_type": "markdown",
      "source": [
        "A **Binary Heap** is a **Binary Tree** with following properties.\n",
        "1. It's a complete tree (All levels are completely filled except possibly the last level and the last level has all keys as left as possible). This property of Binary Heap makes them suitable to be stored in an array.\n",
        "2. A Binary Heap is either **Min Heap or Max Heap.** In a Min Binary Heap, the key at root must be minimum among all keys present in Binary Heap. The same property must be recursively true for all nodes in Binary Tree. Max Binary Heap is similar to MinHeap."
      ],
      "metadata": {
        "id": "ihJbbIH5_H1I"
      }
    },
    {
      "cell_type": "code",
      "source": [
        "# Examples of Min Heap\n",
        "\n",
        "\n",
        "#                10\n",
        "#             /      \\\n",
        "#            20      100\n",
        "#           /      \n",
        "#         30    \n",
        "\n",
        "\n",
        "#                10\n",
        "#             /      \\\n",
        "#            15       30\n",
        "#           /  \\     /  \\ \n",
        "#         40   50  100   40\n",
        "         \n"
      ],
      "metadata": {
        "id": "ehGB3gtFAH4X"
      },
      "execution_count": null,
      "outputs": []
    },
    {
      "cell_type": "markdown",
      "source": [
        "**How is Binary Heap represented?**\n",
        "\n",
        "A Binary Heap is a complete Binary Tree. A binary heap is typically represented as an array.\n",
        "\n",
        "- The root element will be at Arr[0].\n",
        "- Below table shows indexes of other nodes for the i<sup>th</sup> node, i.e., Arr[i]:\n",
        "\n",
        "\n",
        "\n",
        "<table>\n",
        "  <tr>\n",
        "    <td>&nbsp;Arr[(i-1)/2]&nbsp;   Returns the parent node</td>\n",
        "  </tr>\n",
        "  <tr> \n",
        "    <td>&nbsp;Arr[(2*i)+1]&nbsp;   Returns the left child node</td>\n",
        "  </tr>\n",
        "  <tr>\n",
        "    <td>&nbsp;Arr[(2*i)+2]&nbsp;   Returns the  right child node</td>\n",
        "  </tr>\n",
        "</table> "
      ],
      "metadata": {
        "id": "Mk9B_zs6Afvv"
      }
    },
    {
      "cell_type": "markdown",
      "source": [
        "The traversal method use to achieve Array representation is **Level Order**\n",
        "\n",
        "\n",
        "\n",
        "                                                        1 (0)\n",
        "                                                    /         \\\n",
        "                                                  3(1)        6(2)\n",
        "                                                /     \\      /\n",
        "                                              5(3)   9(4)  8(5)   \n",
        "\n",
        "\n",
        "<table>\n",
        "  <tr>\n",
        "    <td bgcolor=\"#DCDCDC\">1</td>\n",
        "    <td bgcolor=\"#DCDCDC\">3</td>\n",
        "    <td bgcolor=\"#DCDCDC\">6</td>\n",
        "    <td bgcolor=\"#DCDCDC\">5</td>    \n",
        "    <td bgcolor=\"#DCDCDC\">9</td>\n",
        "    <td bgcolor=\"#DCDCDC\">8</td> \n",
        "  </tr>      \n",
        "  <tr>\n",
        "    <td>0</td>\n",
        "    <td>1</td>\n",
        "    <td>2</td>\n",
        "    <td>3</td>    \n",
        "    <td>4</td>\n",
        "    <td>5</td> \n",
        "  </tr> \n",
        "</table>    "
      ],
      "metadata": {
        "id": "npXvwJ257u0o"
      }
    },
    {
      "cell_type": "markdown",
      "source": [
        "**Applications of Heaps**\n",
        "\n",
        "1. **Heap Sort**: Heap sort uses Binary Heap to sort an array in O(nLogn) time.\n",
        "2. **Priority Queue**: Priority queues can be efficiently implemented using Binary Heap because it supports insert(), delete() and extractmax(), decreaseKey() operations in O(Logn) time. Binomoial Heap and Fibonacci Heap are variations of Binary Heap. These variations perform union also efficiently.\n",
        "3. **Graph Algorithms**: The priority queues are especially used in Graph Algorithms like Gijkstra's Shortest Path and Prim's Minimum Spanning Tree.\n",
        "4. Many **problems can be efficiently solved** using Heaps. \n"
      ],
      "metadata": {
        "id": "9k65GWQUDeb6"
      }
    },
    {
      "cell_type": "markdown",
      "source": [
        "**Create a Heap**\n",
        "\n",
        "A heap is created by using python's inbuilt library named heapq. tThis library has the relevant fuctions to carry out various operations on heap data structure. Below is a list of these fuctions.\n",
        "\n",
        "- **heapify** This function converts a regular list to a heap. in the resulting heap the **smallest element gets pushed to the index position 0.** But **rest** of the data elements **are not necessarily sorted**.\n",
        "- **heappush**  This function **adds** an element to the heap without altering the current heap.\n",
        "- **heappop** This function **returns the smallest data** element from the heap.\n",
        "- **heapreplace** This function **replaces the smallest data element with a new value** supplied in the function.\n",
        "\n"
      ],
      "metadata": {
        "id": "xyJY6aqhBjO9"
      }
    },
    {
      "cell_type": "markdown",
      "source": [
        "**Creating a Heap**\n",
        "\n",
        "A heap is create by simply using a list of  elemetns with the heapify function. in the below example we supply a list of elemnts and the heapify function rearrages the elemtns bringing the smallest elemnt to the first position."
      ],
      "metadata": {
        "id": "eESqtEsAC9Yt"
      }
    },
    {
      "cell_type": "code",
      "source": [
        "from heapq import heapify\n",
        "\n",
        "H = [6, 9, 5, 8, 3, 1]\n",
        "\n",
        "\n",
        "# it is likely that \n",
        "\n",
        "#                 1\n",
        "#             /      \\\n",
        "#            3        5\n",
        "#           /  \\     /  \n",
        "#          8    9    6\n",
        "\n",
        "# the root node is always smaller than (or at least equal) children nodes\n",
        "# left child is always smaller than (or at least equal) right child\n",
        "\n",
        "\n",
        "# use heapify to rearrange the elements \n",
        "heapify(H)\n",
        "print(H)   # the smallest element gets pushed to the index position 0 (the first index)"
      ],
      "metadata": {
        "colab": {
          "base_uri": "https://localhost:8080/"
        },
        "id": "hgQQQFtODMa9",
        "outputId": "11864186-f46a-4322-b598-996a39036282"
      },
      "execution_count": null,
      "outputs": [
        {
          "output_type": "stream",
          "name": "stdout",
          "text": [
            "[1, 3, 5, 8, 9, 6]\n"
          ]
        }
      ]
    },
    {
      "cell_type": "markdown",
      "source": [
        "**Insertiong into Heap**\n",
        "\n",
        "**Inserting** a data element to a heap **always adds the element at the last index.** But you can apply heapify function again to bring the newly added element to hte first index only if it smallest in value. In the below example we insert hte number 8."
      ],
      "metadata": {
        "id": "1g2LDJ4LDs7d"
      }
    },
    {
      "cell_type": "code",
      "source": [
        "from heapq import heapify, heappush\n",
        "\n",
        "H = [6, 9, 5, 8, 3, 1]\n",
        "\n",
        "# convert to a heap\n",
        "heapify(H)\n",
        "print(H)\n",
        "\n",
        "\n",
        "# it is likely that \n",
        "\n",
        "#                 1\n",
        "#             /      \\\n",
        "#            3        5\n",
        "#           /  \\     /  \n",
        "#          8    9    6\n",
        "\n",
        "\n",
        "# add a new element\n",
        "heappush(H, 4)\n",
        "print(H)\n",
        "\n",
        "\n",
        "# it is likely that \n",
        "\n",
        "#                 1\n",
        "#             /      \\\n",
        "#            3        4\n",
        "#           /  \\     /  \\\n",
        "#          8    9   6    5\n",
        "\n",
        "\n",
        "# add another element\n",
        "heappush(H, 2)\n",
        "print(H)\n",
        "\n",
        "# it is likely that \n",
        "\n",
        "#                 1\n",
        "#             /      \\\n",
        "#            2        4\n",
        "#           /  \\     /  \\\n",
        "#          3    9   6    5\n",
        "#         / \n",
        "#        8"
      ],
      "metadata": {
        "colab": {
          "base_uri": "https://localhost:8080/"
        },
        "id": "n8zTHc8aEJN1",
        "outputId": "11e9ba88-25e8-4bc4-f4f8-6b66a01049c3"
      },
      "execution_count": null,
      "outputs": [
        {
          "output_type": "stream",
          "name": "stdout",
          "text": [
            "[1, 3, 5, 8, 9, 6]\n",
            "[1, 3, 4, 8, 9, 6, 5]\n",
            "[1, 2, 4, 3, 9, 6, 5, 8]\n"
          ]
        }
      ]
    },
    {
      "cell_type": "markdown",
      "source": [
        "**Removing from Heap**\n",
        "\n",
        "You can remove the element at first index by using this function. In the below example the fuction will always **remove the element at the index position 1**.\n",
        "\n"
      ],
      "metadata": {
        "id": "IebzsEd4IFhW"
      }
    },
    {
      "cell_type": "code",
      "source": [
        "from heapq import heapify, heappop\n",
        "\n",
        "H = [6, 9, 5, 8, 3, 1]\n",
        "\n",
        "\n",
        "heapify(H)\n",
        "print(H)\n",
        "\n",
        "# it is likely that \n",
        "\n",
        "#                 1\n",
        "#             /      \\\n",
        "#            3        5\n",
        "#           /  \\     /  \n",
        "#          8    9    6 \n",
        "\n",
        "\n",
        "# remove an element from the heap\n",
        "heappop(H)\n",
        "print(H)\n",
        "\n",
        "# it is likely that \n",
        "\n",
        "#                 3\n",
        "#             /      \\\n",
        "#            6        5\n",
        "#           /  \\      \n",
        "#          8    9    "
      ],
      "metadata": {
        "colab": {
          "base_uri": "https://localhost:8080/"
        },
        "id": "ApB261C3IcZe",
        "outputId": "a69e52f2-c988-4f84-d6e3-c03d3a004b2a"
      },
      "execution_count": null,
      "outputs": [
        {
          "output_type": "stream",
          "name": "stdout",
          "text": [
            "[1, 3, 5, 8, 9, 6]\n",
            "[3, 6, 5, 8, 9]\n"
          ]
        }
      ]
    },
    {
      "cell_type": "markdown",
      "source": [
        "**Replacing in a Heap**\n",
        "\n",
        "The heap replace function always removes the smallest elemtn of the heap and inserts the new incoming elemnt at some place not fixed by any order"
      ],
      "metadata": {
        "id": "kX-qxElPJCYf"
      }
    },
    {
      "cell_type": "code",
      "source": [
        "from heapq import heapify, heapreplace\n",
        "\n",
        "\n",
        "H = [6, 9, 5, 8, 3, 1]\n",
        "\n",
        "\n",
        "heapify(H)\n",
        "print(H)\n",
        "\n",
        "# it is likely that \n",
        "\n",
        "#                 1\n",
        "#             /      \\\n",
        "#            3        5\n",
        "#           /  \\     /  \n",
        "#          8    9    6 \n",
        "\n",
        "\n",
        "# repalce the smallest element with a new element \n",
        "heapreplace(H, 4)\n",
        "print(H)\n",
        "\n",
        "# it is likely that \n",
        "\n",
        "#                 3\n",
        "#             /      \\\n",
        "#            4        5\n",
        "#           /  \\     /\n",
        "#          8    9   6\n",
        "\n",
        "# replace again\n",
        "heapreplace(H, 7)\n",
        "print(H)\n",
        "\n",
        "# it is likely that \n",
        "\n",
        "#                 4\n",
        "#             /      \\\n",
        "#            7        5\n",
        "#           /  \\     /\n",
        "#          8    9   6\n",
        "\n",
        "# repalce with an exist element in heap\n",
        "heapreplace(H, 5)\n",
        "print(H)\n",
        "\n",
        "# it is likely that \n",
        "\n",
        "#                 5\n",
        "#             /      \\\n",
        "#            7        5\n",
        "#           /  \\     /\n",
        "#          8    9   6\n"
      ],
      "metadata": {
        "colab": {
          "base_uri": "https://localhost:8080/"
        },
        "id": "jTO5g7s-JBrF",
        "outputId": "bc008c43-48d0-4001-f6a2-25a472c98db4"
      },
      "execution_count": null,
      "outputs": [
        {
          "output_type": "stream",
          "name": "stdout",
          "text": [
            "[1, 3, 5, 8, 9, 6]\n",
            "[3, 4, 5, 8, 9, 6]\n",
            "[4, 7, 5, 8, 9, 6]\n",
            "[5, 7, 5, 8, 9, 6]\n"
          ]
        }
      ]
    },
    {
      "cell_type": "markdown",
      "source": [
        "##<center><b>Graph</b></center>"
      ],
      "metadata": {
        "id": "sktxQA9fCuIj"
      }
    },
    {
      "cell_type": "markdown",
      "source": [
        "**Graph**\n",
        "\n",
        "**Graphs** are used to represent many real-life applicaitions like:\n",
        "- networks\n",
        "- transportation \n",
        "- paths of a city\n",
        "- social network connections\n",
        "\n",
        "A graph is a set of connected nodes where each node is called a **Vertex** and the connection between two of them is called an **Edge**\n",
        "\n",
        "This can represent, for example, connections on a social network, where each Vertex represents a person and the Edges represent connections.\n",
        "\n",
        "\n"
      ],
      "metadata": {
        "id": "gXCISn4gEG6B"
      }
    },
    {
      "cell_type": "markdown",
      "source": [
        "A **Graph** is a pictorial representation of a set of objects where some pairs of objects are connected by links. The interconnected objects are represented by points termed as vertices, and the links that connect the vertices are called edges. "
      ],
      "metadata": {
        "id": "ICk1dVfwFfyK"
      }
    },
    {
      "cell_type": "markdown",
      "source": [
        "A graph ca n be easily presented using the python dictionary data types. We represent the vertices as the keys of the dictionary and the connection between the vertices also called edges as the values in the dictionary.\n",
        "\n",
        "\n"
      ],
      "metadata": {
        "id": "6Pu72ECgGIvz"
      }
    },
    {
      "cell_type": "code",
      "source": [
        "# graph\n",
        "\n",
        "#     a o--------o b\n",
        "#       |        |\n",
        "#       |        |\n",
        "#       |        |\n",
        "#       |        |\n",
        "#       o--------o--------o \n",
        "#       c        d        e"
      ],
      "metadata": {
        "id": "MDVZ_p0GGZqJ"
      },
      "execution_count": null,
      "outputs": []
    },
    {
      "cell_type": "markdown",
      "source": [
        "In the above graph, \n",
        "\n",
        "> Vertex = {a, b, c, d, e}\n",
        "\n",
        "\n",
        "> Edge = {ab, ac, bd, cd, de}"
      ],
      "metadata": {
        "id": "229Nkx66HGva"
      }
    },
    {
      "cell_type": "code",
      "source": [
        "# Create the dictionary with graph elements \n",
        "\n",
        "graph = {\n",
        "    'a': ['b', 'c'],               # node 'a' are connect with node 'b' and node 'c'\n",
        "    'b': ['a', 'd'],\n",
        "    'c': ['a', 'd'],\n",
        "    'd':['e'],\n",
        "    'e':['d']\n",
        "}\n",
        "\n",
        "\n",
        "print(graph)"
      ],
      "metadata": {
        "colab": {
          "base_uri": "https://localhost:8080/"
        },
        "id": "5b2jVyM6Hq7f",
        "outputId": "a3ecc7ee-63e3-4059-c9bf-07aab8f5a588"
      },
      "execution_count": null,
      "outputs": [
        {
          "output_type": "stream",
          "name": "stdout",
          "text": [
            "{'a': ['b', 'c'], 'b': ['a', 'd'], 'c': ['a', 'd'], 'd': ['e'], 'e': ['d']}\n"
          ]
        }
      ]
    },
    {
      "cell_type": "markdown",
      "source": [
        "**Display graph vertices**\n",
        "\n",
        "To display the graph vertices we simply find the keys of the graph dictionary. We use the keys() method."
      ],
      "metadata": {
        "id": "PqkC0kFgId9h"
      }
    },
    {
      "cell_type": "code",
      "source": [
        "class graph:\n",
        "  def __init__(self, gdict=None):\n",
        "    if gdict is None:\n",
        "      gdict = []\n",
        "    self.gdict = gdict\n",
        "\n",
        "  # get the keys of the dictionary  \n",
        "  def getVertices(self):\n",
        "    return list(self.gdict.keys())\n",
        "\n",
        "\n",
        "# create the dictionary with graph elements\n",
        "graph_elements = {\n",
        "    'a': ['b', 'c'],              \n",
        "    'b': ['a', 'd'],\n",
        "    'c': ['a', 'd'],\n",
        "    'd':['e'],\n",
        "    'e':['d']\n",
        "}\n",
        "\n",
        "\n",
        "g = graph(graph_elements)\n",
        "print(g.getVertices())"
      ],
      "metadata": {
        "colab": {
          "base_uri": "https://localhost:8080/"
        },
        "id": "YSqh1HW9Io5T",
        "outputId": "021ad256-965d-4206-9569-003b25e0216e"
      },
      "execution_count": null,
      "outputs": [
        {
          "output_type": "stream",
          "name": "stdout",
          "text": [
            "['a', 'b', 'c', 'd', 'e']\n"
          ]
        }
      ]
    },
    {
      "cell_type": "markdown",
      "source": [
        "**Display graph edges**\n",
        "\n",
        "Finding hte graph edges is little tricker than the vertices as we have to find each of the pairs of vertices which have an edge in between them. So we create an empty list of edges than iterate through the edge values associated with each of the vertices. A list is formed containing the distinct group of edges found from the vertices.\n",
        "\n"
      ],
      "metadata": {
        "id": "DT_rFVmpJXmy"
      }
    },
    {
      "cell_type": "code",
      "source": [
        "class graph:\n",
        "  def __init__(self, gdict=None):\n",
        "    if gdict is None:\n",
        "      gdict = []\n",
        "    self.gdict = gdict\n",
        "\n",
        "  def edges(self):\n",
        "    return self.findedges()\n",
        "\n",
        "  # Find the distinct list of edges\n",
        "  def findedges(self):\n",
        "    edgename = []\n",
        "    for vrtx in self.gdict:\n",
        "      for nxtvrtx in self.gdict[vrtx]:\n",
        "        if {nxtvrtx, vrtx} not in edgename:\n",
        "          edgename.append({vrtx, nxtvrtx})\n",
        "    return edgename\n",
        "\n",
        "\n",
        "# create the dictionary with graph elements\n",
        "graph_elements = {\n",
        "    'a': ['b', 'c'],              \n",
        "    'b': ['a', 'd'],\n",
        "    'c': ['a', 'd'],\n",
        "    'd':['e'],\n",
        "    'e':['d']\n",
        "}    \n",
        "\n",
        "\n",
        "g = graph(graph_elements)\n",
        "print(g.edges())"
      ],
      "metadata": {
        "colab": {
          "base_uri": "https://localhost:8080/"
        },
        "id": "1Erp1o5OJ0C6",
        "outputId": "66b82d9f-af5b-40cf-d775-812ba087b2a9"
      },
      "execution_count": null,
      "outputs": [
        {
          "output_type": "stream",
          "name": "stdout",
          "text": [
            "[{'b', 'a'}, {'a', 'c'}, {'b', 'd'}, {'d', 'c'}, {'d', 'e'}]\n"
          ]
        }
      ]
    },
    {
      "cell_type": "markdown",
      "source": [
        "**Adding a vertex**\n",
        "\n",
        "Adding a vertex is straight forward wher ewe add another additional key to the graph dictionary."
      ],
      "metadata": {
        "id": "6dDsTBPBMcxr"
      }
    },
    {
      "cell_type": "code",
      "source": [
        "class graph:\n",
        "  def __init__(self, gdict=None):\n",
        "    if gdict is None:\n",
        "      gdict = []\n",
        "    self.gdict = gdict\n",
        "\n",
        "  def getVertices(self):\n",
        "    return list(self.gdict.keys())\n",
        "\n",
        "  def addVertex(self, vrtx):\n",
        "    if vrtx not in self.gdict:\n",
        "      self.gdict[vrtx] = [] \n",
        "\n",
        "\n",
        "# create the dictionary with graph elements\n",
        "graph_elements = {\n",
        "    'a': ['b', 'c'],              \n",
        "    'b': ['a', 'd'],\n",
        "    'c': ['a', 'd'],\n",
        "    'd':['e'],\n",
        "    'e':['d']\n",
        "} \n",
        "\n",
        "\n",
        "g = graph(graph_elements)\n",
        "g.addVertex(\"f\")\n",
        "print(g.getVertices())       "
      ],
      "metadata": {
        "colab": {
          "base_uri": "https://localhost:8080/"
        },
        "id": "AIFVcTuXMsna",
        "outputId": "b16bca94-4f36-4e25-b9da-617683f6b9ac"
      },
      "execution_count": null,
      "outputs": [
        {
          "output_type": "stream",
          "name": "stdout",
          "text": [
            "['a', 'b', 'c', 'd', 'e', 'f']\n"
          ]
        }
      ]
    },
    {
      "cell_type": "markdown",
      "source": [
        "**Adding an edge**\n",
        "\n",
        "Adding an ede to an existing graph involves treating the new vertex as a tuple and validating if the edge is already present. if not hten the edge is added."
      ],
      "metadata": {
        "id": "uuI8QB7qNRBT"
      }
    },
    {
      "cell_type": "code",
      "source": [
        "class graph:\n",
        "  def __init__(self, gdict=None):\n",
        "    if gdict is None:\n",
        "      gdict = []\n",
        "    self.gdict = gdict\n",
        "\n",
        "  def edges(self):\n",
        "    return self.findedges()\n",
        "\n",
        "  # add the new edge\n",
        "  def AddEdge(self, edge):\n",
        "    edge = set(edge)\n",
        "    (vrtx1, vrtx2) = tuple(edge)\n",
        "    if vrtx1 in self.gdict:\n",
        "      self.gdict[vrtx1].append(vrtx2)\n",
        "    else:\n",
        "      self.gdict[vrtx1] = [vrtx2]\n",
        "\n",
        "   # list the edge names\n",
        "  def findedges(self):\n",
        "    edgename = []   \n",
        "    for vrtx in self.gdict:\n",
        "      for nxtvrtx in self.gdict[vrtx]:\n",
        "        if {nxtvrtx, vrtx} not in edgename:\n",
        "          edgename.append({vrtx, nxtvrtx})\n",
        "    return edgename\n",
        "        \n",
        "\n",
        "# create the dictionary with graph elements\n",
        "graph_elements = {\n",
        "    'a': ['b', 'c'],              \n",
        "    'b': ['a', 'd'],\n",
        "    'c': ['a', 'd'],\n",
        "    'd':['e'],\n",
        "    'e':['d']\n",
        "} \n",
        "\n",
        "\n",
        "g = graph(graph_elements)\n",
        "g.AddEdge({'a', 'd'})\n",
        "g.AddEdge({'b', 'c'})\n",
        "print(g.edges())"
      ],
      "metadata": {
        "colab": {
          "base_uri": "https://localhost:8080/"
        },
        "id": "59bCe8kDNhaK",
        "outputId": "6e973c84-b55c-4331-ff8a-d4f82d51d478"
      },
      "execution_count": null,
      "outputs": [
        {
          "output_type": "stream",
          "name": "stdout",
          "text": [
            "[{'b', 'a'}, {'a', 'c'}, {'a', 'd'}, {'b', 'd'}, {'b', 'c'}, {'d', 'c'}, {'d', 'e'}]\n"
          ]
        }
      ]
    },
    {
      "cell_type": "code",
      "source": [
        "# graph\n",
        "\n",
        "# an original graph\n",
        "\n",
        "#     a o--------o b\n",
        "#       |        |\n",
        "#       |        |\n",
        "#       |        |\n",
        "#       |        |\n",
        "#       o--------o--------o \n",
        "#       c        d        e\n",
        "\n",
        "\n",
        "# after adding ad, bc \n",
        "\n",
        "#     a o--------o b\n",
        "#       | .   .  |\n",
        "#       |   ..   |\n",
        "#       |  .  .  |\n",
        "#       | .     .|\n",
        "#       o--------o--------o \n",
        "#       c        d        e\n"
      ],
      "metadata": {
        "id": "nSjky7hZPH0T"
      },
      "execution_count": null,
      "outputs": []
    },
    {
      "cell_type": "markdown",
      "source": [
        "**Graph in Python**\n",
        "\n",
        "A graph can be represented using a square matrix, where each element represents the edges: 0 indicates no edge, while 1 indicates and edge. The rows and columns represent the vertices.\n",
        "\n",
        "\n",
        "**For example:**\n",
        "\n",
        "<table>\n",
        "  <tr>\n",
        "    <th></th>\n",
        "    <th bgcolor=\"#F0FFF0\">a</th>\n",
        "    <th bgcolor=\"#F0FFF0\">b</th>\n",
        "    <th bgcolor=\"#F0FFF0\">c</th>\n",
        "  </tr> \n",
        "  <tr>\n",
        "    <th bgcolor=\"#F0FFF0\">a</th>\n",
        "    <td>0</td>\n",
        "    <td>1</td>\n",
        "    <td>1</td>\n",
        "   </tr> \n",
        "   <tr>\n",
        "    <th bgcolor=\"#F0FFF0\">b</th>\n",
        "    <td>1</td>\n",
        "    <td>0</td>\n",
        "    <td>0</td>\n",
        "   </tr> \n",
        "  <tr>\n",
        "    <th bgcolor=\"#F0FFF0\">c</th>\n",
        "    <td>1</td>\n",
        "    <td>0</td>\n",
        "    <td>0</td>\n",
        "   </tr> \n",
        " </table> \n",
        "\n",
        "The matrix above represents a graph with 3 vertices(that's why it's a 3 x 3 matrix).\n",
        "\n",
        "The 1s represent the edges. There are 2 edges: the 1st vertex is connected with the 2nd and 3rd.\n",
        "\n",
        "There are four 1s in the matrix, because if A is connected with B, the B is connected to A.\n",
        "\n",
        "This type of matrix is called an **adjacency matrix**, because it shows if the corresponding vertices are adjacent of not"
      ],
      "metadata": {
        "id": "ra6ukiCFUHik"
      }
    },
    {
      "cell_type": "code",
      "source": [
        "# a graph may look like this\n",
        "\n",
        "#     b o\n",
        "#       │        \n",
        "#       |        \n",
        "#       |        \n",
        "#       o—————————o\n",
        "#       a         c       \n",
        "\n",
        "#        (or)\n",
        "\n",
        "\n",
        "#       b        c\n",
        "#       o       o \n",
        "#       |      ∕\n",
        "#       |    ∕  \n",
        "#       |  ∕    \n",
        "#       |∕      \n",
        "#       o   \n",
        "#       a     "
      ],
      "metadata": {
        "id": "Xz-sPebLWSA8"
      },
      "execution_count": null,
      "outputs": []
    },
    {
      "cell_type": "markdown",
      "source": [
        "**Graph in Python**\n",
        "\n",
        "Let's implement the **Graph** class:\n",
        "\n",
        "> class Graph():\n",
        "\n",
        ">> def \\_\\_init\\_\\_(self, size):\n",
        "\n",
        ">>> self.adj = [[0] * size for i in range(size)]\n",
        "\n",
        ">>> self.size = size\n",
        "\n",
        ">> def add_edge(self, orig, dest):\n",
        "\n",
        ">>> if orig > self.size or dest > self.size or orig <  0 or dest < 0:\n",
        "\n",
        ">>>> print(\"Invalid Edge\")\n",
        "\n",
        ">>> else:\n",
        "\n",
        ">>>> self.adj[orig-1][dest-1] = 1\n",
        "\n",
        ">>>> self.adj[dest-1][orig-1] = 1\n",
        "\n",
        ">> def remove_edge(self, orig, dest):\n",
        "\n",
        ">>> if orig > self.size or dest > self.size or orig < 0 or dest < 0:\n",
        "\n",
        ">>>> print(\"Invalid Edge\")\n",
        "\n",
        ">>> else:\n",
        "\n",
        ">>>> self.adj[orig-1][dest-1] = 0\n",
        "\n",
        ">>>> self.adj[dest-1][orig-1] = 0\n",
        "\n",
        ">> def display(self):\n",
        "\n",
        ">>> for row in self.adj:\n",
        "\n",
        ">>>> print()\n",
        "\n",
        ">>>> for val in row:\n",
        "\n",
        ">>>>> print('{:4}'.format(val),end=\"\")\n",
        "\n",
        "\n",
        "We store the matrix in a two-dimensional list, called **adj**.\n",
        "\n",
        "The \\_\\_init\\_\\_ method creates the **adj** matrix with the given size (number of vertices) and initializes all values to zeros.\n",
        "\n",
        "The **add_edge()** method is used to add an edge by setting the corresponding values to 1. \n",
        "\n",
        "Similarly, the **remove_edge()** method sets the values to 0.\n",
        "\n"
      ],
      "metadata": {
        "id": "6FesGYY9Y9Bl"
      }
    },
    {
      "cell_type": "code",
      "source": [
        "class Graph():\n",
        "  def __init__(self, size):\n",
        "    self.adj = [[0] * size for i in range(size)]\n",
        "    self.size = size\n",
        "\n",
        "  def add_edge(self, orig, dest):\n",
        "    if orig > self.size or dest > self.size or orig < 0 or dest < 0:\n",
        "      print(\"Invalid Edge\")\n",
        "    else:\n",
        "      self.adj[orig-1][dest-1] = 1\n",
        "      self.adj[dest-1][orig-1] = 1\n",
        "\n",
        "  def remove_edge(self, orig, dest):\n",
        "    if orig > self.size or dest > self.size or orig < 0 or dest < 0:\n",
        "      print(\"Invalid Edge\")\n",
        "    else:\n",
        "      self.adj[orig-1][dest-1] = 0\n",
        "      self.adj[dest-1][orig-1] = 0\n",
        "\n",
        "  def display(self):\n",
        "    for row in self.adj:\n",
        "      print()\n",
        "      for val in row:\n",
        "        print('{:4}'.format(val), end=\"\")\n",
        "\n",
        "\n",
        "G = Graph(4)\n",
        "G.add_edge(1, 3)\n",
        "G.add_edge(3, 4)\n",
        "G.add_edge(2, 4)\n",
        "G.display()"
      ],
      "metadata": {
        "colab": {
          "base_uri": "https://localhost:8080/"
        },
        "id": "SYwdk_LIZBWj",
        "outputId": "8e3c8c00-fc59-4f8a-c9b2-6a56d0c11d49"
      },
      "execution_count": null,
      "outputs": [
        {
          "output_type": "stream",
          "name": "stdout",
          "text": [
            "\n",
            "   0   0   1   0\n",
            "   0   0   0   1\n",
            "   1   0   0   1\n",
            "   0   1   1   0"
          ]
        }
      ]
    },
    {
      "cell_type": "code",
      "source": [
        "# a graph may look like this\n",
        "\n",
        "\n",
        "# add edge 13\n",
        "\n",
        "#       o—————————o\n",
        "#       1         3    \n",
        "\n",
        "\n",
        "# add edge 34\n",
        "\n",
        "#                 4  \n",
        "#                 o  \n",
        "#                 |\n",
        "#                 |\n",
        "#                 |\n",
        "#       o—————————o\n",
        "#       1         3    \n",
        "\n",
        "\n",
        "# add edge 24\n",
        "\n",
        "#       2         4  \n",
        "#       o—————————o  \n",
        "#                 |\n",
        "#                 |\n",
        "#                 |\n",
        "#       o—————————o\n",
        "#       1         3    "
      ],
      "metadata": {
        "id": "otARgT0RZjvT"
      },
      "execution_count": null,
      "outputs": []
    },
    {
      "cell_type": "markdown",
      "source": [
        "A **graph** is a data structure that consists of the following **two components**:\n",
        "1. A finite set of **vertices** also called as nodes.\n",
        "2. A finite set of ordered pair of the form (u, v) called as **edge**. \n",
        "\n",
        "**The pair is ordered** because (u, v) is not the same as (v, u) in case of a directed graph (di-graph). The pair of the form (u, v) indicates that there is an edge from vertex u to vertex v. The edges may contain weight, value ,cost.\n",
        "\n",
        "\n",
        "**Graphs are used to represent many real-life applications.** \n",
        "\n",
        "Graphs are used to represent nextworks. The networks may include paths in a city or telephone netweork or circuit network. Graphs are also used in social networks linke linkedin, Facebook. For example, in Facebook, each person is represented with a vertex(or node). Each node is a structure and contains information like person id, name, gender, and locale"
      ],
      "metadata": {
        "id": "kurfsM1wNt32"
      }
    },
    {
      "cell_type": "code",
      "source": [
        "# Following is an example of an undirected graph with 5 vertices. \n",
        "\n",
        "#       0        1\n",
        "#       o————————o\n",
        "#       |      ∕ | \\ \n",
        "#       |    ∕   |  >o 2\n",
        "#       |  ∕     | /   \n",
        "#       o————————o\n",
        "#       4        3"
      ],
      "metadata": {
        "id": "Xblb6zp3N3wX"
      },
      "execution_count": null,
      "outputs": []
    },
    {
      "cell_type": "markdown",
      "source": [
        "The following two are the most comonly used representations of a graph. \n",
        "\n",
        "1. Adjacency Matrix\n",
        "2. Adjacency List\n",
        "\n",
        "There are other representations also like, Incidence Matrix and Incidence List. The choice of graph representation is situation-specific. It totally depends on the type of operations to be performed and ease of use.\n",
        "\n",
        "\n"
      ],
      "metadata": {
        "id": "N5Lb5RkUS4kl"
      }
    },
    {
      "cell_type": "markdown",
      "source": [
        "**Adjacency Matrix**\n",
        "\n",
        "Adjacency Matrix is a 2D array of size V x V where V is the number of vertices in graph. Let the 2 D array be adj[][], a slot adj[i][j] = 1 indicates that there is an edge from vertex i to vertex j. Adjacency matrix for undirected graph is always symmetric Adjacency Matix is also used to represent weighted graphs. If adj[i][j] = w, then there is an edge from vertex i to vertex j with weight w. \n",
        "\n",
        "The adjacency matrix for the above example graph is \n",
        "\n",
        "<table>\n",
        "  <tr>\n",
        "    <th></th>\n",
        "    <th bgcolor=\"#F0FFF0\">0</th>\n",
        "    <th bgcolor=\"#F0FFF0\">1</th>\n",
        "    <th bgcolor=\"#F0FFF0\">2</th>\n",
        "    <th bgcolor=\"#F0FFF0\">3</th>\n",
        "    <th bgcolor=\"#F0FFF0\">4</th>\n",
        "  </tr> \n",
        "  <tr>\n",
        "    <th bgcolor=\"#F0FFF0\">0</th>\n",
        "    <td>0</td>\n",
        "    <td>1</td>\n",
        "    <td>0</td>\n",
        "    <td>0</td>\n",
        "    <td>1</td>\n",
        "   </tr> \n",
        "   <tr>\n",
        "    <th bgcolor=\"#F0FFF0\">1</th>\n",
        "    <td>1</td>\n",
        "    <td>0</td>\n",
        "    <td>1</td>\n",
        "    <td>1</td>\n",
        "    <td>1</td>\n",
        "   </tr> \n",
        "  <tr>\n",
        "    <th bgcolor=\"#F0FFF0\">2</th>\n",
        "    <td>0</td>\n",
        "    <td>1</td>\n",
        "    <td>0</td>\n",
        "    <td>1</td>\n",
        "    <td>0</td>\n",
        "   </tr> \n",
        "   <tr>\n",
        "    <th bgcolor=\"#F0FFF0\">3</th>\n",
        "    <td>0</td>\n",
        "    <td>1</td>\n",
        "    <td>1</td>\n",
        "    <td>0</td>\n",
        "    <td>1</td>\n",
        "   </tr> \n",
        "   <tr>\n",
        "    <th bgcolor=\"#F0FFF0\">4</th>\n",
        "    <td>1</td>\n",
        "    <td>1</td>\n",
        "    <td>0</td>\n",
        "    <td>1</td>\n",
        "    <td>0</td>\n",
        "   </tr> \n",
        " </table>  \n",
        "\n",
        "Pros: Representation is easier to implement and follow. Removing an edge takes O(1) time. Queries like whether there is an edge from vertex 'u' to vertex 'v' are efficient and coan be done O(1)\n",
        "\n",
        "Cons: Consumes more space O(v<sup>2</sup>). Even if the graph is sparse (contains less number of edges), it consumes the same space. Adding a vertex is O(v<sup>2</sup>) tim. Computing all neighbors of a vertex take O(v) timee (Not efficient)"
      ],
      "metadata": {
        "id": "BQgyIAT5TUgF"
      }
    },
    {
      "cell_type": "markdown",
      "source": [
        "**Adjacency List**\n",
        "\n",
        "An array of list is used. the size of the array is equal to the number of vertices. Let the array be an array[]. An entry array[i] represents the list of vertices adjacent to the ith vertex. this representation can also be used to represent a weighted graph. The weights of edges can be represented as lists of pairs. Following is the adjacency list representation of the above graph.\n",
        "\n",
        "<table>\n",
        "  <tr>\n",
        "    <th bgcolor=\"#F0FFF0\"><center>0</center></th>\n",
        "    <th bgcolor=\"#FAF0E6\"><center></center></th>\n",
        "    <th>---></th>\n",
        "    <th bgcolor=\"#F0FFF0\"><center>1</center></th>\n",
        "    <th bgcolor=\"#FAF0E6\"><center></center></th>\n",
        "    <th>---></th>\n",
        "    <th bgcolor=\"#F0FFF0\"><center>4</center></th>\n",
        "    <th bgcolor=\"#FAF0E6\"><center>/</center></th>\n",
        "  </tr>\n",
        "  <tr>\n",
        "    <th bgcolor=\"#F0FFF0\"><center>1</center></th>\n",
        "    <th bgcolor=\"#FAF0E6\"><center></center></th>\n",
        "    <th>---></th>\n",
        "    <th bgcolor=\"#F0FFF0\"><center>0</center></th>\n",
        "    <th bgcolor=\"#FAF0E6\"><center></center></th>\n",
        "    <th>---></th>\n",
        "    <th bgcolor=\"#F0FFF0\"><center>4</center></th>\n",
        "    <th bgcolor=\"#FAF0E6\"><center></center></th>\n",
        "    <th>---></th>\n",
        "    <th bgcolor=\"#F0FFF0\"><center>2</center></th>\n",
        "    <th bgcolor=\"#FAF0E6\"><center></center></th>\n",
        "    <th>---></th>\n",
        "    <th bgcolor=\"#F0FFF0\"><center>3</center></th>\n",
        "    <th bgcolor=\"#FAF0E6\"><center>/</center></th>\n",
        "  </tr>\n",
        "  </tr>\n",
        "    <tr>\n",
        "    <th bgcolor=\"#F0FFF0\"><center>2</center></th>\n",
        "    <th bgcolor=\"#FAF0E6\"><center></center></th>\n",
        "    <th>---></th>\n",
        "    <th bgcolor=\"#F0FFF0\"><center>1</center></th>\n",
        "    <th bgcolor=\"#FAF0E6\"><center></center></th>\n",
        "    <th>---></th>\n",
        "    <th bgcolor=\"#F0FFF0\"><center>3</center></th>\n",
        "    <th bgcolor=\"#FAF0E6\">/<center></center></th>\n",
        "  </tr>\n",
        "  </tr>\n",
        "    <tr>\n",
        "    <th bgcolor=\"#F0FFF0\"><center>3</center></th>\n",
        "    <th bgcolor=\"#FAF0E6\"><center></center></th>\n",
        "    <th>---></th>\n",
        "    <th bgcolor=\"#F0FFF0\"><center>1</center></th>\n",
        "    <th bgcolor=\"#FAF0E6\"><center></center></th>\n",
        "    <th>---></th>\n",
        "    <th bgcolor=\"#F0FFF0\"><center>4</center></th>\n",
        "    <th bgcolor=\"#FAF0E6\"><center></center></th>\n",
        "    <th>---></th>\n",
        "    <th bgcolor=\"#F0FFF0\">2<center></center></th>\n",
        "    <th bgcolor=\"#FAF0E6\"><center>/</center></th>\n",
        "  </tr>\n",
        "  </tr>\n",
        "    <tr>\n",
        "    <th bgcolor=\"#F0FFF0\"><center>4</center></th>\n",
        "    <th bgcolor=\"#FAF0E6\"><center></center></th>\n",
        "    <th>---></th>\n",
        "    <th bgcolor=\"#F0FFF0\"><center>3</center></th>\n",
        "    <th bgcolor=\"#FAF0E6\"><center></center></th>\n",
        "    <th>---></th>\n",
        "    <th bgcolor=\"#F0FFF0\"><center>0</center></th>\n",
        "    <th bgcolor=\"#FAF0E6\"><center></center></th>\n",
        "    <th>---></th>\n",
        "    <th bgcolor=\"#F0FFF0\"><center>1</center></th>\n",
        "    <th bgcolor=\"#FAF0E6\"><center>/</center></th>\n",
        "  </tr>\n",
        "</table>"
      ],
      "metadata": {
        "id": "dV72tqT-Rhl9"
      }
    },
    {
      "cell_type": "code",
      "source": [
        "# A class to represent the adjacency list of the node\n",
        "class AdjNode:\n",
        "  def __init__(self, data):\n",
        "    self.vertex = data\n",
        "    self.next = None\n",
        "\n",
        "# A class to represent a graph.\n",
        "# A graph is the list of the adjacency lists. \n",
        "# size of the array will be the no. of the vertices \"V\"\n",
        "class Graph:\n",
        "  def __init__(self, vertices):\n",
        "    self.V = vertices\n",
        "    self.graph = [None]*self.V\n",
        "\n",
        "  # function to add an edge in an undirected graph\n",
        "  def add_edge(self, src, dest):\n",
        "    node = AdjNode(dest)\n",
        "    node.next = self.graph[src]\n",
        "    self.graph[src] = node\n",
        "\n",
        "    # adding the source node to the destination as it is the undirected graph\n",
        "    node = AdjNode(src)\n",
        "    node.next = self.graph[dest]\n",
        "    self.graph[dest] = node\n",
        "\n",
        "  #functionn to print the graph\n",
        "  def print_graph(self):\n",
        "    for i in range(self.V):\n",
        "      print(\"Adjacency list of vertex {}\\n head\".format(i), end=\"\")\n",
        "      temp = self.graph[i]\n",
        "      while temp:\n",
        "        print(\" -> {}\".format(temp.vertex), end=\"\")\n",
        "        temp = temp.next\n",
        "      print(\" \\n\")          \n",
        "\n",
        "\n",
        "# driver program to the above graph class\n",
        "if __name__ == \"__main__\":\n",
        "  V = 5\n",
        "  graph = Graph(V)\n",
        "  graph.add_edge(0, 1)\n",
        "  graph.add_edge(0, 4)\n",
        "  graph.add_edge(1, 2)\n",
        "  graph.add_edge(1, 3)\n",
        "  graph.add_edge(1, 4)\n",
        "  graph.add_edge(2, 3)\n",
        "  graph.add_edge(3, 4)\n",
        "\n",
        "  graph.print_graph()"
      ],
      "metadata": {
        "colab": {
          "base_uri": "https://localhost:8080/"
        },
        "id": "iiFU6DLTYMou",
        "outputId": "3d1d3861-a063-4653-9f36-7301d0bf5c08"
      },
      "execution_count": null,
      "outputs": [
        {
          "output_type": "stream",
          "name": "stdout",
          "text": [
            "Adjacency list of vertex 0\n",
            " head -> 4 -> 1 \n",
            "\n",
            "Adjacency list of vertex 1\n",
            " head -> 4 -> 3 -> 2 -> 0 \n",
            "\n",
            "Adjacency list of vertex 2\n",
            " head -> 3 -> 1 \n",
            "\n",
            "Adjacency list of vertex 3\n",
            " head -> 4 -> 2 -> 1 \n",
            "\n",
            "Adjacency list of vertex 4\n",
            " head -> 3 -> 1 -> 0 \n",
            "\n"
          ]
        }
      ]
    },
    {
      "cell_type": "markdown",
      "source": [
        "**Pros**: Saves space O(|V|+|E|). In the worst case, there can be C(V, 2) number of edges i na graph thus consuming O(V<sup>2</sup>) space. Adding a vertex is easier. Computing all neighbors of a vertex takes optimal time.\n",
        "\n",
        "**Cons**: Queries like whether there is an edge from vertex u to vertex v are not efficient and can be done O(V).\n",
        "\n",
        "In real-life problems, graphs are sparse(|E|<<|V|<sup>2</sup>). That's why adjacency lists Data structure is commonly used for storing graphs. Adjacency matrix will enforce (|V|<sup>2</sup>) bound on time ocmplexity for such algorithms."
      ],
      "metadata": {
        "id": "_T9w0Db6atXo"
      }
    },
    {
      "cell_type": "markdown",
      "source": [
        "###**Detect Cycle in a Directed Graph**"
      ],
      "metadata": {
        "id": "aaLZvYOiF0zV"
      }
    },
    {
      "cell_type": "markdown",
      "source": [
        "Given a directed graph, check whether the graph contains a cycle or not. Your fuction should return ture if the given graph contains at least one cycle, else return false.\n",
        "\n",
        "**Example**\n",
        "\n",
        "Ex1.\n",
        "\n",
        "> 0 --> 1, 0 --> 2, 1 --> 2, 2 --> 0, 2 --> 3, 3 --> 3\n",
        "\n",
        "> A graph has circles (0 --> 2, 2 --> 0 and 3 --> 3)\n",
        "\n",
        "Ex2.\n",
        "\n",
        "> 0 --> 1, 0 --> 2, 1 --> 2, 2 --> 3\n",
        "\n",
        "> A graph has no circle\n",
        "\n",
        "\n",
        "**Solution**\n",
        "\n",
        "- Using Depth Frist Search or DFS\n",
        "- Approach: Depth First Traversal can be used to detect a cycle in a Graph only if there is a black edge present in the graph. A back edge is an edge that is from a node to itself (self-loop) or one of its ancestors in the tree produced by DFS. In the following graph, there are 3 back edges, marked with a cross sign. We can observe that these 3 back edges indicate 3 cycles present in the graph.\n",
        "- For a disconnected graph, get the DFS forest as output. To detect cycle, check for cycle in individual trees by checking back edges. To detect a back edge, keep track of vertices currently in the recursion stack of function for DFS traversal. If a vertex is reached that is already in the recursion stack, then there is a cycle in the tree. The edge taht connects the current vertex to the vertex in the recursion stack is a back edge. Use **recStack[]** array to keep track of vertices in the recursion stack.\n",
        "\n",
        "\n",
        "**Algorithm**\n",
        "\n",
        "1. Create the graph using the given number of edges and vertices.\n",
        "2. Create a recursive fuction that initializes the current index or vertex, visited and recursion stack.\n",
        "3. Mark the current node as visited and also mark the index in recursion stack.\n",
        "4. Find all the vertices which ar enot visited and are adjacent to the current node. Recursively call the fuction for those vertices, If the recursive function returns true, return true.\n",
        "5. If the adjacent vertices are already marked in the recursion stack then return true.\n",
        "6. Create a wrapper class, that calls the recursive function for all the vertices and if any function returns true return true. Else if for all vertices the fuction returns false return false."
      ],
      "metadata": {
        "id": "E-gmPFojcRd-"
      }
    },
    {
      "cell_type": "code",
      "source": [
        "# program to detect cycle in a graph\n",
        "\n",
        "from collections import defaultdict\n",
        "\n",
        "class Graph():\n",
        "  def __init__(self, vertices):\n",
        "    self.graph = defaultdict(list)\n",
        "    self.V = vertices\n",
        "\n",
        "  def addEdge(self, u, v):\n",
        "    self.graph[u].append(v)\n",
        "\n",
        "  def isCyclicUtil(self, v, visited, recStack):\n",
        "\n",
        "    # Mark current node ad visited and adds to recursion stack\n",
        "    visited[v] = True\n",
        "    recStack[v] = True\n",
        "\n",
        "    # Recur for all neighbors if any neighbor is visited- \n",
        "    # and in recStack then graph is cyclic\n",
        "    for neighbor in self.graph[v]:\n",
        "      if visited[neighbor] == False:\n",
        "        if self.isCyclicUtil(neighbor, visited, recStack) == True:\n",
        "          return True\n",
        "      elif recStack[neighbor] == True:\n",
        "        return True\n",
        "\n",
        "    # The node needs to be popped from recursion stack before function ends\n",
        "    recStack[v] = False\n",
        "    return False      \n",
        "\n",
        "    # Returns true if graph is cyclic else false\n",
        "  def isCyclic(self):  \n",
        "    visited = [False] * (self.V + 1)\n",
        "    recStack = [False] * (self.V + 1)\n",
        "    for node in range(self.V):\n",
        "      if visited[node] == False:\n",
        "        if self.isCyclicUtil(node, visited, recStack) == True:\n",
        "          return True\n",
        "    return False        \n",
        "\n",
        "\n",
        "g = Graph(4)\n",
        "g.addEdge(0, 1)\n",
        "g.addEdge(0, 2)\n",
        "g.addEdge(1, 2)\n",
        "g.addEdge(2, 0)\n",
        "g.addEdge(2, 3)\n",
        "g.addEdge(3, 3)\n",
        "\n",
        "\n",
        "if g.isCyclic() == 1:\n",
        "  print(\"Graph has a cycle\")\n",
        "else:\n",
        "  print(\"Graph has no cycle\")  "
      ],
      "metadata": {
        "colab": {
          "base_uri": "https://localhost:8080/"
        },
        "id": "hTAbeMmZnVQB",
        "outputId": "108a8ec1-e529-4a8d-ba32-7485cfb25d60"
      },
      "execution_count": null,
      "outputs": [
        {
          "output_type": "stream",
          "name": "stdout",
          "text": [
            "Graph has a cycle\n"
          ]
        }
      ]
    },
    {
      "cell_type": "markdown",
      "source": [
        "###**Disjoint Set (Or Union-Find) Detect Cycle in an Undirected Graph**"
      ],
      "metadata": {
        "id": "6jDPSfCCwfER"
      }
    },
    {
      "cell_type": "markdown",
      "source": [
        "A **disjoint-set data structure** is a data structure that keeps track of a set of elements partitioned into a number of disjoint (non-overlapping) subsets. A **union-find algorithm** is an algorithm that performs two useful operations on such a data structure:\n",
        "\n",
        "- **Find:** Determine which subset a particular element is in. This can be used for determinining if two elements are in the same subset.\n",
        "- **Union:** Join two subsets into a single subset. Here first we have to chekc if the two subsets belong to same set. If no, then we cannot perform union."
      ],
      "metadata": {
        "id": "f4B7BpLOsx16"
      }
    },
    {
      "cell_type": "markdown",
      "source": [
        "In this post, we will discuss the application of Disjoint Set Data Structure. The application is to check whether a given graph contains a cycle or not.\n",
        "\n",
        "Union-Find Algorithm can be sued to check whether an undirected graph contains cycle or not. \n",
        "\n",
        "We can keep track of the subsets in a 1D array, let's call it parent[]. Let us consider the following graph:\n",
        "\n"
      ],
      "metadata": {
        "id": "XJBMELG-ttYQ"
      }
    },
    {
      "cell_type": "code",
      "source": [
        "#       0        1\n",
        "#       o————————o \n",
        "#       |      ∕\n",
        "#       |    ∕  \n",
        "#       |  ∕    \n",
        "#       |∕      \n",
        "#       o   \n",
        "#       2     \n",
        "\n",
        "# for each edge, make subsets using both the vertices of the edge. \n",
        "# If both the vertices are in the same subset, a cycle is found.\n",
        "\n"
      ],
      "metadata": {
        "id": "C-3fYl84ubga"
      },
      "execution_count": null,
      "outputs": []
    },
    {
      "cell_type": "markdown",
      "source": [
        "Initially, all slots of parent array are initialized to -1 (means there is only one item in every subset).\n",
        "\n",
        "<table>\n",
        "  <tr>\n",
        "    <th>0</th>\n",
        "    <th>1</th>\n",
        "    <th>2</th>\n",
        "  </tr>\n",
        "  <tr>\n",
        "    <td>-1</td>\n",
        "    <td>-1</td>\n",
        "    <td>-1</td>\n",
        "  </tr>\n",
        "</table>\n",
        "\n",
        "Now, process all edges one by one.\n",
        "\n",
        "Edge 0-1: Find the subsets in which vertices 0 and 1 are. Since they are in different subsets, we take the union of them. For taking the union, either make node 0 as parent of node 1 or vice-versa.\n",
        "\n",
        "<table>\n",
        "  <tr>\n",
        "    <th>0</th>\n",
        "    <th>1</th>\n",
        "    <th>2</th>\n",
        "  </tr>\n",
        "  <tr>\n",
        "    <td>1</td>\n",
        "    <td>-1</td>\n",
        "    <td>-1</td>\n",
        "  </tr>\n",
        "</table>\n",
        "\n",
        "> 1 is made parent of 0 (1 is now representative of subset {0, 1})\n",
        "\n",
        "Edge 1-2: is in subset 1 and 2 is in subset 2. So, take union.\n",
        "\n",
        "<table>\n",
        "  <tr>\n",
        "    <th>0</th>\n",
        "    <th>1</th>\n",
        "    <th>2</th>\n",
        "  </tr>\n",
        "  <tr>\n",
        "    <td>1</td>\n",
        "    <td>2</td>\n",
        "    <td>-1</td>\n",
        "  </tr>\n",
        "</table>\n",
        "\n",
        "> 2 is made parent of 1 (2 is now representative of subset {0, 1, 2})\n",
        "\n",
        "Edge 0-2: 0 is in subset 2 and 2 is also in subset 2. Hence, including this edge forms a cycle.\n",
        "\n",
        "How sebset of 0 is the same as 2?\n",
        "\n",
        "0 -> 1 -> 2 \n",
        "\n",
        "> 1 is parent of 0 and 2 is parent of 1"
      ],
      "metadata": {
        "id": "6h1kzECVu8k4"
      }
    },
    {
      "cell_type": "code",
      "source": [
        "from collections import defaultdict\n",
        "\n",
        "# class represents a undirected graph using adjacency list representation\n",
        "class Graph:\n",
        "\n",
        "  def __init__(self, vertices):\n",
        "    self.V = vertices\n",
        "    self.graph = defaultdict(list)\n",
        "\n",
        "  # fuction to add an edge to graph\n",
        "  def addEdge(self, u, v):\n",
        "    self.graph[u].append(v)\n",
        "  \n",
        "  # fuction to find the subset of an element i \n",
        "  def find_parent(self, parent, i):\n",
        "    if parent[i] == -1:\n",
        "      return i\n",
        "    if parent[i] != -1:\n",
        "      return self.find_parent(parent, parent[i])\n",
        "\n",
        "  # function to do union of two subsets \n",
        "  def union(self, parent, x, y):\n",
        "    parent[x] = y    \n",
        "  \n",
        "  # fuction to chekc whether a given graph contains cycle or not\n",
        "  def isCyclic(self):\n",
        "\n",
        "    # allocate memory from creating V subsets and -\n",
        "    # initialize all subsets as single element sets\n",
        "    parent = [-1] * (self.V)\n",
        "\n",
        "    # iterate through all edges of graph, find subset of -\n",
        "    # both vertices of every edge, if both subsets the are same, -\n",
        "    # then there is cycle in graph.\n",
        "    for i in self.graph:\n",
        "      for j in self.graph[i]:\n",
        "        x = self.find_parent(parent, i)\n",
        "        y = self.find_parent(parent, j)\n",
        "        if x == y:\n",
        "          return True\n",
        "        self.union(parent, x, y)\n",
        "\n",
        "\n",
        "# create a graph given in the above diagram\n",
        "g = Graph(3)\n",
        "g.addEdge(0, 1)\n",
        "g.addEdge(1, 2)\n",
        "g.addEdge(2, 0) \n",
        "\n",
        "if g.isCyclic():\n",
        "  print(\"Graph contains cycle\")\n",
        "else:\n",
        "  print(\"Graph does not contain cycle\")"
      ],
      "metadata": {
        "colab": {
          "base_uri": "https://localhost:8080/"
        },
        "id": "KXMUF-SIwb1Q",
        "outputId": "c5d51cd6-45ee-498b-ae86-072525d33d83"
      },
      "execution_count": null,
      "outputs": [
        {
          "output_type": "stream",
          "name": "stdout",
          "text": [
            "Graph contains cycle\n"
          ]
        }
      ]
    },
    {
      "cell_type": "markdown",
      "source": [
        "**Note**\n",
        "\n",
        "the implementation of union() and find() is naive and takes O(n) time in the worst case. These methods can be improved to O(Logn) using Union by Rank or Height. We will soon be discussing Union by Rank in a seperate post."
      ],
      "metadata": {
        "id": "fS8d6qvFzRWR"
      }
    },
    {
      "cell_type": "markdown",
      "source": [
        "###**Union Find Algorithm (Union By Rank and Path Compression)**"
      ],
      "metadata": {
        "id": "UUvuiZbiFf6a"
      }
    },
    {
      "cell_type": "markdown",
      "source": [
        "In the previous, we introduced union find algorithm and used it to detect cycle in a graph. We used following union() and find() operations for subsets.\n",
        "\n"
      ],
      "metadata": {
        "id": "N4_jBIVisfdQ"
      }
    },
    {
      "cell_type": "code",
      "source": [
        "# Navie implementation of find \n",
        "def find(parent, i):\n",
        "  if (parent[i] == -1):\n",
        "    return i\n",
        "  return find(parent, parent[i])\n",
        "\n",
        "\n",
        "# Navie implementation of union()\n",
        "def Union(parent, x, y):\n",
        "  xset = find(parent, x)\n",
        "  yset = find(parent, y)\n",
        "  parent[xset] = yset\n",
        "  "
      ],
      "metadata": {
        "id": "higiPbcnz9wZ"
      },
      "execution_count": null,
      "outputs": []
    },
    {
      "cell_type": "markdown",
      "source": [
        "The above union() and find() are naive and the worst case time comlexity is linear. The trees created to represent subsets can be skewed and can become like a linked list. Following is an example worst case scenario.\n",
        "\n"
      ],
      "metadata": {
        "id": "lxm6lB6_0adD"
      }
    },
    {
      "cell_type": "code",
      "source": [
        "# Let there be 4 elements 0, 1, 2, 3\n",
        "\n",
        "# Initially,  all elements are single element subsets.\n",
        "\n",
        "#    0  1  2  3\n",
        "\n",
        "\n",
        "# Do union(0, 1)\n",
        "\n",
        "#       1  2  3\n",
        "#      /\n",
        "#    0\n",
        "\n",
        "\n",
        "# Do union(1, 2)\n",
        "\n",
        "#          2  3\n",
        "#         /\n",
        "#       1\n",
        "#      /\n",
        "#    0\n",
        "\n",
        "\n",
        "# Do union(2, 3)\n",
        "\n",
        "#             3\n",
        "#            /\n",
        "#          2\n",
        "#         /\n",
        "#       1\n",
        "#      /\n",
        "#    0"
      ],
      "metadata": {
        "id": "uqwZdJOF0pNJ"
      },
      "execution_count": null,
      "outputs": []
    },
    {
      "cell_type": "markdown",
      "source": [
        "The above operations can be optimized to O(Log n) in worst case. The idea is to always attach smaller depth tree under the root of the deeper tree. This technique is called **union by rank.** The term rank is preferred instead of height because if path compression technique (we have discussed it below) is used, then rank is not always equal to height. Also, size (in place of height) of trees can also be used as rank. Using size as rank also yields worst case time complexity as O(Logn)."
      ],
      "metadata": {
        "id": "DgXX32LL1gEB"
      }
    },
    {
      "cell_type": "code",
      "source": [
        "# Let us see the above example with union by rank.\n",
        "# Initially, all elements are single element subsets.\n",
        "\n",
        "#    0  1  2  3\n",
        "\n",
        "\n",
        "# Do union(0, 1)\n",
        "\n",
        "#       1  2  3\n",
        "#      /\n",
        "#    0\n",
        "\n",
        "\n",
        "# Do union(1, 2)\n",
        "\n",
        "#       1     3\n",
        "#     /   \\\n",
        "#    0     2\n",
        "\n",
        "\n",
        "# Do union(2, 3)\n",
        "\n",
        "#       1     \n",
        "#     / | \\\n",
        "#    0  2  3"
      ],
      "metadata": {
        "id": "78uryi_52EYR"
      },
      "execution_count": null,
      "outputs": []
    },
    {
      "cell_type": "markdown",
      "source": [
        "The second optimization to naive method is **Path Compression.** The idea is to flatten the tree when find() is called. When find() is called for an element x, root of the tree is returned. The find() operation traverses up from x to find root. The idea of path compression is to make the found root as parent of x so that we don't have to traverse all intermediate nodes again. If x is root of a subtree, then path(to root) from all nodes under x also compresses.\n",
        "\n"
      ],
      "metadata": {
        "id": "b024DIan2wby"
      }
    },
    {
      "cell_type": "code",
      "source": [
        "# Let the subset {0, 1,..., 9} be represented as below and -\n",
        "# find() is called for element 3.\n",
        "\n",
        "\n",
        "#                     9\n",
        "#                 /   |   \\\n",
        "#                4    5    6 \n",
        "#               /        /   \\\n",
        "#              0        7     8\n",
        "#            / \n",
        "#           3\n",
        "#         /  \\\n",
        "#        1    2\n",
        "\n",
        "\n",
        "# When find() is called for 3, we traverse up and find 9 as representative of -\n",
        "# this subset. With path compression, we also make 3 and 0 as the child of 9\n",
        "# so that when find() is called next time for 0, 1, 2 or 3,  \n",
        "# the path to root is reduced.\n",
        "\n",
        "#              -------9------\n",
        "#             /  /  /  \\     \\\n",
        "#            0  4  5    6     3\n",
        "#                      / \\   / \\\n",
        "#                     7   8 1   2"
      ],
      "metadata": {
        "id": "cG-0PrIU3Rjp"
      },
      "execution_count": null,
      "outputs": []
    },
    {
      "cell_type": "markdown",
      "source": [
        "The two techniques complement each other. The  time complexity of each operation becomes even smaller than O(Logn). "
      ],
      "metadata": {
        "id": "XyNDLtqT5RtS"
      }
    },
    {
      "cell_type": "code",
      "source": [
        "from collections import defaultdict\n",
        "\n",
        "\n",
        "class Graph:\n",
        "  def __init__(self, num_of_v):\n",
        "    self.num_of_v = num_of_v\n",
        "    self.edges = defaultdict(list)\n",
        "\n",
        "  # graph is represented as an array of edges\n",
        "  def add_edge(self, u, v):\n",
        "    self.edges[u].append(v)\n",
        "\n",
        "    \n",
        "class Subset:\n",
        "  def __init__(self, parent, rank):\n",
        "    self.parent = parent\n",
        "    self.rank = rank\n",
        "\n",
        "\n",
        "# function to find set of an element node (uses path compression technique)\n",
        "def find(subsets, node):\n",
        "  if subsets[node].parent != node:\n",
        "    subsets[node].parent = find(subsets, subsets[node].parent)\n",
        "  return subsets[node].parent\n",
        "\n",
        "\n",
        "# function that does union of two sets of u and v (uses union by rank)\n",
        "def union(subsets, u, v):\n",
        "\n",
        "  # attach smaller rank tree under root of high rank tree (union by rank)\n",
        "  if subsets[u].rank > subsets[v].rank:\n",
        "    subsets[v].parent = u\n",
        "  elif subsets[v].rank > subsets[u].rank:\n",
        "    subsets[u].parent = v\n",
        "\n",
        "  # if ranks are the same, then make one as root and increment its rank by one\n",
        "  else: \n",
        "    subsets[v].parent = u\n",
        "    subsets[u].rank += 1\n",
        "\n",
        "\n",
        "# the main function to chek whether a given graph contains cycle or not\n",
        "def isCycle(graph):\n",
        "\n",
        "  # allocate memeory for creating sets \n",
        "  subsets = []\n",
        "\n",
        "  for u in range(graph.num_of_v):\n",
        "    subsets.append( Subset(u, 0))\n",
        "\n",
        "  # iterate through all edges of graph, find sets of both vertices of -\n",
        "  # every edge, if sets are the same, then there is cycle in graph.\n",
        "  for u in graph.edges:\n",
        "    u_rep = find(subsets, u)\n",
        "\n",
        "    for v in graph.edges[u]:\n",
        "      v_rep = find(subsets, v)\n",
        "\n",
        "      if u_rep == v_rep:\n",
        "        return True\n",
        "      else:\n",
        "        union(subsets, u_rep, v_rep)\n",
        "\n",
        "\n",
        "# Driver code\n",
        "g = Graph(3)\n",
        "g.add_edge(0, 1)\n",
        "g.add_edge(1, 2)\n",
        "g.add_edge(0, 2)\n",
        "\n",
        "if isCycle(g):\n",
        "  print(\"Graph contains cycle\")\n",
        "else:\n",
        "  print(\"Graph does not contain cycle\")"
      ],
      "metadata": {
        "colab": {
          "base_uri": "https://localhost:8080/"
        },
        "id": "MclI8cJo5kFC",
        "outputId": "c865fc69-edfd-49ea-a011-55bf4fc2322c"
      },
      "execution_count": null,
      "outputs": [
        {
          "output_type": "stream",
          "name": "stdout",
          "text": [
            "Graph contains cycle\n"
          ]
        }
      ]
    },
    {
      "cell_type": "markdown",
      "source": [
        "###**Kruskal's Minimum Spanning Tree Algorithm**\n",
        "\n"
      ],
      "metadata": {
        "id": "_PKD6KzJwbfw"
      }
    },
    {
      "cell_type": "markdown",
      "source": [
        "**What is a Spanning Tree?**\n",
        "\n",
        "A spanning tree is a subset to a connected graph G, where all the edges are connected, i.e, we can traverse to any edge from a particular edge with or without intermediates. Also, a spanning tree must not have any cycle in it. Thus we can say that if there are n vertices in a connected graph then the no of edges that a spanning tree may have is n-1.\n",
        "\n"
      ],
      "metadata": {
        "id": "p2h2XZE8wl3v"
      }
    },
    {
      "cell_type": "markdown",
      "source": [
        "**What is Minimum Spanning Tree?**\n",
        "\n",
        "Given a connected an underected graph, a spanning tree of that graph is a subgraph that is a tree and connects all the vertices together. A single graph can have many different spanning trees. A minimum spanning tree (MST) or minimum weight spanning tree for a weighted , connected, undirected graph is a spanning tree with a weight less than or equal to the weight of every other spanning tree. The weight of a spanning tree is the sum of weights given to each edge of the spanning tree. \n",
        "\n",
        "How many edges does a minimum spanning tree has?\n",
        "\n",
        "A minimum spanning tree has (V-1) edges where V is the number of vertices in the given graph. \n"
      ],
      "metadata": {
        "id": "ZGLJka09zEkJ"
      }
    },
    {
      "cell_type": "markdown",
      "source": [
        "Below are the steps for finding MST using Kruskal's Algorithm\n",
        "\n",
        "1. Sort all the edges in non-decreasing order of their weight.\n",
        "2. Pick th smalllest edge. Check if it forms a cycle with the spanning tree formed so far. If cycle is not formed, include this edge. Else, discad it.\n",
        "3. Repeat step 2. until there are (V-1) edges in the spanning tree.\n",
        "\n"
      ],
      "metadata": {
        "id": "c24EoC580Kcx"
      }
    },
    {
      "cell_type": "markdown",
      "source": [
        "Step 2. uses the Union-Find algorithm to detect cycles.  \n",
        "\n",
        "The algorithm is a Greedy algorithm. The greedy Choice is to pick the smallest weight edge that does not cause a cycle in the MST constructed so far. Let us understand it with an example: Consider the below input graph."
      ],
      "metadata": {
        "id": "NvBwqUvL03UJ"
      }
    },
    {
      "cell_type": "code",
      "source": [
        "# Following is an example of an undirected graph with 5 vertices. \n",
        "\n",
        "#           (8)      (7)\n",
        "#       1————————2————————3\n",
        "#  (4) /|(11) (2)| \\__(14)|\\ (9)\n",
        "#     0 |  ______8    |__ | 4\n",
        "#  (8) \\| / (7)  |   (4) \\|/ (10)  \n",
        "#       7————————6————————5\n",
        "#          (1)      (2)"
      ],
      "metadata": {
        "id": "EFkF5XhywTKX"
      },
      "execution_count": null,
      "outputs": []
    },
    {
      "cell_type": "markdown",
      "source": [
        "The graph contains 9 vertices and 14 edges. So, the minimum spanning tree formed will be having (9-1) = 8 edges.\n",
        "\n",
        "After sorting:\n",
        "\n",
        "<table>\n",
        "  <tr>\n",
        "    <th>Weight</th>\n",
        "    <th>Src</th>\n",
        "    <th>Dest</th>\n",
        "  </tr>\n",
        "  <tr>\n",
        "    <td>1</td>\n",
        "    <td>7</td>\n",
        "    <td>6</td>\n",
        "  </tr>\n",
        "  <tr>\n",
        "    <td>2</td>\n",
        "    <td>8</td>\n",
        "    <td>2</td>\n",
        "  </tr>\n",
        "  <tr>\n",
        "    <td>2</td>\n",
        "    <td>6</td>\n",
        "    <td>5</td>\n",
        "  </tr>\n",
        "  <tr>\n",
        "    <td>4</td>\n",
        "    <td>0</td>\n",
        "    <td>1</td>\n",
        "  </tr>\n",
        "  <tr>\n",
        "    <td>4</td>\n",
        "    <td>2</td>\n",
        "    <td>5</td>\n",
        "  </tr>\n",
        "  <tr>\n",
        "    <td>6</td>\n",
        "    <td>8</td>\n",
        "    <td>6</td>\n",
        "  </tr>    \n",
        "  <tr>\n",
        "    <td>7</td>\n",
        "    <td>2</td>\n",
        "    <td>3</td>\n",
        "  </tr>\n",
        "  <tr>\n",
        "    <td>7</td>\n",
        "    <td>7</td>\n",
        "    <td>8</td>\n",
        "  </tr>\n",
        "  <tr>\n",
        "    <td>8</td>\n",
        "    <td>0</td>\n",
        "    <td>7</td>\n",
        "  </tr>\n",
        "  <tr>\n",
        "    <td>8</td>\n",
        "    <td>1</td>\n",
        "    <td>2</td>\n",
        "  </tr>\n",
        "  <tr>\n",
        "    <td>9</td>\n",
        "    <td>3</td>\n",
        "    <td>4</td>\n",
        "  </tr>\n",
        "  <tr>\n",
        "    <td>10</td>\n",
        "    <td>5</td>\n",
        "    <td>4</td>\n",
        "  </tr> \n",
        "  <tr>\n",
        "    <td>11</td>\n",
        "    <td>1</td>\n",
        "    <td>7</td>\n",
        "  </tr>\n",
        "  <tr>\n",
        "    <td>14</td>\n",
        "    <td>3</td>\n",
        "    <td>5</td>\n",
        "  </tr>\n",
        "</table>  "
      ],
      "metadata": {
        "id": "wpDZ6H4L1nFQ"
      }
    },
    {
      "cell_type": "code",
      "source": [
        "# Now pick all edges one by one from the sorted list of edges.\n",
        "\n",
        "\n",
        "# 1. Pick edge 7-6: No cycle is formed, include it.\n",
        "\n",
        "#       7————————6\n",
        "#          (1)     \n",
        "\n",
        "# 2. Pick edge 8-2: NO cyecle is formed, include it.\n",
        "\n",
        "#                2 \n",
        "#             (2)| \n",
        "#                8    \n",
        "#  \n",
        "#       7————————6\n",
        "#          (1)     \n",
        "\n",
        "# 3. Pick edge 6-5: No cyecle is formed, include it.\n",
        "\n",
        "#                2\n",
        "#             (2)| \n",
        "#                8\n",
        "# \n",
        "#       7————————6————————5\n",
        "#          (1)      (2)\n",
        "\n",
        "# 4. Pick edge 0-1: No cycle is formed, include it\n",
        "\n",
        "#       1        2\n",
        "#  (4) /      (2)| \n",
        "#     0          8 \n",
        "#\n",
        "#       7————————6————————5\n",
        "#          (1)      (2)\n",
        "\n",
        "\n",
        "# 5. Pick edge 2-5: No cycle is formed, include it.\n",
        "\n",
        "#       1        2\n",
        "#  (4) /      (2)| \\__\n",
        "#     0          8    |__\n",
        "#                    (4) \\\n",
        "#       7————————6————————5\n",
        "#          (1)      (2)\n",
        "\n",
        "# 6. Pick edge 8-6: Since including this edge results in the cycle, discard it.\n",
        "# 7. Pick edge 2-3: No cycle is formed, include it.\n",
        "\n",
        "#                    (7)\n",
        "#       1        2————————3\n",
        "#  (4) /      (2)| \\__\n",
        "#     0          8    |_\n",
        "#                    (4) \\\n",
        "#       7————————6————————5\n",
        "#          (1)      (2)\n",
        "\n",
        "# 8. Pick edge 7-8: Since including this edge results in the cycle, discard it.\n",
        "# 9. Pick edge 0-7: No cycle is formed, include it.\n",
        "\n",
        "#                    (7)\n",
        "#       1        2————————3\n",
        "#  (4) /      (2)| \\__\n",
        "#     0          8    |__\n",
        "#  (8) \\             (4) \\\n",
        "#       7————————6————————5\n",
        "#          (1)      (2)\n",
        "\n",
        "# 10. Pick edge 1-2: Since including this edge results in the cycle, discad it.\n",
        "# 11. Pick edge 3-4: No cycle is formed, include it.\n",
        "\n",
        "#                    (7)\n",
        "#       1        2————————3\n",
        "#  (4) /      (2)| \\__     \\ (9)\n",
        "#     0          8    |__   4\n",
        "#  (8) \\             (4) \\\n",
        "#       7————————6————————5\n",
        "#          (1)      (2)\n",
        "\n",
        "# Since the number of edges included equals  (V-1), the alorithm stops here."
      ],
      "metadata": {
        "id": "JRpgt2x1349a"
      },
      "execution_count": null,
      "outputs": []
    },
    {
      "cell_type": "code",
      "source": [
        "from collections import defaultdict\n",
        "\n",
        "class Graph:\n",
        "  def __init__(self, vertices):\n",
        "    self.V = vertices\n",
        "    self.graph = []\n",
        "  \n",
        "  # a function to add an edge to graph\n",
        "  def addEdge(self, u, v, w):\n",
        "    self.graph.append([u, v, w])\n",
        "\n",
        "  # A function to find set of an element i\n",
        "  def find(self, parent, i):\n",
        "    if parent[i] == i:\n",
        "      return i\n",
        "    return self.find(parent, parent[i])\n",
        "\n",
        "  # A function that does union of two sets of x and y\n",
        "  def union(self, parent, rank, x, y):\n",
        "    xroot = self.find(parent, x)\n",
        "    yroot = self.find(parent, y)\n",
        "\n",
        "    # Attach smaller rank tree under root of high rank tree (Union by Rank)\n",
        "    if rank[xroot] < rank[yroot]:\n",
        "      parent[xroot] = yroot\n",
        "    elif rank[xroot] > rank[yroot]:\n",
        "      parent[yroot] = xroot\n",
        "    # if ranks are the same, then make one as root and increment its rank by one\n",
        "    else:\n",
        "      parent[yroot] = xroot\n",
        "      rank[xroot] += 1  \n",
        "  \n",
        "  # the main fuction to construc MST using Kruskal's algorithm\n",
        "  def KruskalMST(self):\n",
        "    result = []\n",
        "    # an index variable, iused for sorted edges\n",
        "    i = 0\n",
        "    # an index variable, used for result[]\n",
        "    e = 0\n",
        "    # step 1: sort all the edges in non-decreasing order to their weight.\n",
        "    # if we are not allowed to change the given graph, we can create a copy of graph.\n",
        "    self.graph = sorted(self.graph, key=lambda item: item[2])\n",
        "    \n",
        "    parent = []\n",
        "    rank = []\n",
        "\n",
        "    # create V subsets with single elements\n",
        "    for node in range(self.V):\n",
        "      parent.append(node)\n",
        "      rank.append(0)\n",
        "    \n",
        "    # number of edges to be taken is equal to V-1\n",
        "    while e < self.V - 1:\n",
        "      # Step 2: Pick the smallest edge and increment the index for next interation\n",
        "      u, v, w = self.graph[i]\n",
        "      i = i + 1\n",
        "      x = self.find(parent, u)\n",
        "      y = self.find(parent, v)\n",
        "\n",
        "      # if including this edge doesn't cause cycle, include it in result and -\n",
        "      # increment the index of result for next edge\n",
        "      if x != y:\n",
        "        e = e + 1 \n",
        "        result.append([u, v, w])\n",
        "        self.union(parent, rank, x, y)\n",
        "      # else discard the edge\n",
        "\n",
        "    minimumCost = 0\n",
        "    print(\"Edges in the constructed MST\")\n",
        "    for u, v, weight in result:\n",
        "      minimumCost += weight\n",
        "      print(\"%d -- %d == %d\" % (u, v, weight))\n",
        "    print(\"Minimum Spanning Tree\", minimumCost)\n",
        "\n",
        "\n",
        "# Driver code\n",
        "g = Graph(4)\n",
        "g.addEdge(0, 1, 10)\n",
        "g.addEdge(0, 2, 6)\n",
        "g.addEdge(0, 3, 5)\n",
        "g.addEdge(1, 3, 15)\n",
        "g.addEdge(2, 3, 4)\n",
        "\n",
        "# Function call\n",
        "g.KruskalMST()\n",
        "\n",
        "      \n"
      ],
      "metadata": {
        "colab": {
          "base_uri": "https://localhost:8080/"
        },
        "id": "f1CXJKGY8OKK",
        "outputId": "d4d71cb8-55b9-40e5-bcf4-c19f5f5cac51"
      },
      "execution_count": null,
      "outputs": [
        {
          "output_type": "stream",
          "name": "stdout",
          "text": [
            "Edges in the constructed MST\n",
            "2 -- 3 == 4\n",
            "0 -- 3 == 5\n",
            "0 -- 1 == 10\n",
            "Minimum Spanning Tree 19\n"
          ]
        }
      ]
    },
    {
      "cell_type": "code",
      "source": [
        "# a graph may look like this\n",
        "\n",
        "#        (6)        (10)\n",
        "#      2————————0————————————— 1\n",
        "#       \\       |            ∕\n",
        "#        \\   (5)|          ∕\n",
        "#         \\     |        ∕\n",
        "#      (4) \\    |      ∕  (15)\n",
        "#           \\   |    ∕\n",
        "#            \\  |  ∕\n",
        "#             \\ |∕\n",
        "#               3"
      ],
      "metadata": {
        "id": "Z6YbglaKBcaz"
      },
      "execution_count": null,
      "outputs": []
    },
    {
      "cell_type": "markdown",
      "source": [
        "**Time complexity** \n",
        "\n",
        "O(ElogE) or O(ElogV). Sorting of edes takes O(ELogE) time. After sorting, we iterate through all edges and apply the find-union algorithm. The find and union operations can take at most O(LogV) time. So overall complexity is O(ElogE + ElogV) time. The value of E can be at most O(V<sup>2</sup>), so O(LogV) is O(LogE) the same. Therefore, the overall time complexity is O(ElogE) or O(ELogV)"
      ],
      "metadata": {
        "id": "ktp4arUcE0qq"
      }
    },
    {
      "cell_type": "markdown",
      "source": [
        "###**Prim's Minimum Spanning Tree**"
      ],
      "metadata": {
        "id": "m2vA5mF0GUHK"
      }
    },
    {
      "cell_type": "markdown",
      "source": [
        "Prim's algorithm is also a Greedy algorithm. It starts wiht an empty spanning tree. The idea is to amintain two sets of vertices. the first set contains the vertices already included in the MST, the other set contains the vertices not yet included. At every step, it considers all the edges that connect the two sets and picks the minimum weight edge from these edges. After picking the edge, it moves the other endpoint of the edge to the set containing MST.\n",
        "\n",
        "A group of edges that connects two sets of vertices in a graph is called cut in graph theory. So, at every step of Prim's algorithm, we find a cut (of two sets, one contains the vertices already included in MST and the other contains the rest of the vertices), pick the minimum weight edge from the cut, and include this vertex to MST Set (the set that contains already included vertices).\n",
        "\n"
      ],
      "metadata": {
        "id": "S6aRaOPCGkbk"
      }
    },
    {
      "cell_type": "markdown",
      "source": [
        "**How does Prim's Algorithm Work?**\n",
        "\n",
        "The idea behid Prim's algorithm is simple, a spanning tree means all vertices must be connected. So the two disjoint subsets (discussed above) of vertices must be connected to make a Spanning Tree. And they must be connected with the minimum weight edge to make it a Minimum Spanning tree."
      ],
      "metadata": {
        "id": "Q4G-cxeYJ1Pk"
      }
    },
    {
      "cell_type": "markdown",
      "source": [
        "**Algorithm**\n",
        "\n",
        "1. Create a set mstSet the keeps track of vertices already included in MST.\n",
        "2. Assign a key value to all verices in the input graph. INitialize all key values as INFINITE. Assign the key value as 0 for the first vertex so that it is picked first.\n",
        "3. Whie mstSet doesn't include all verices.\n",
        " \n",
        " a. Pick a vertex u which is not there in mstSet and has a minimum key value\n",
        " b. include u to mstSet.\n",
        " c. Update key value of all adjacent vertices of u. To update the key vlaues, iterate through all adjacent vertices. For every adjacent vertex v, if the weight of edge u-v is less than the previous key value of v, update htekey value as the weight of u-v.\n",
        "\n",
        "the idea of using key values is to pick the minimum weight edge from cut. The key values are used only for vertices that are nto yet included in MST, the key value for these vertices included in MST."
      ],
      "metadata": {
        "id": "lPYFetxLKU00"
      }
    },
    {
      "cell_type": "code",
      "source": [
        "# Following is an example of an undirected graph with 5 vertices. \n",
        "\n",
        "#           (8)      (7)\n",
        "#       1————————2————————3\n",
        "#  (4) /|(11) (2)| \\__(14)|\\ (9)\n",
        "#     0 |  ______8    |__ | 4\n",
        "#  (8) \\| / (7)  |(6) (4)\\|/ (10)  \n",
        "#       7————————6————————5\n",
        "#          (1)      (2)"
      ],
      "metadata": {
        "id": "7KkBthfQLkcr"
      },
      "execution_count": null,
      "outputs": []
    },
    {
      "cell_type": "markdown",
      "source": [
        "The set mstSet is initially empty and keys assigned to vertices are {0, INF, INF, INF, INF, INF, INF, INF} where INF indicates infinite. Now pick the vertex with the minimum key value. The vertex 0 is picked, included it in mstSet. So mstSetbecomes {0}. After including to mstSet, update key values of adjacent vertices. Adjacent vertices of 0 are 1 and 7. The key values of 1 and 7 are updated as 4 and 8. Following subgraph shows vertices and their key values, only the vertices with finite key values are shown. "
      ],
      "metadata": {
        "id": "fIQE0bALLj2T"
      }
    },
    {
      "cell_type": "code",
      "source": [
        "# Pick the vertex with minimum key value and not already included in MST (not in mstSET).\n",
        "\n",
        "#       1   \n",
        "#  (4) /     \n",
        "#     0  \n",
        "#  (8) \\    \n",
        "#       7 \n",
        "\n",
        "# The vertex 1 is picked and added to mst set. So mstSet now become{0 1}.\n",
        "# Update the key values of adjacent vertices of 1. the key value of vertex 2 becomes 8.\n",
        "\n",
        "#           (8)    \n",
        "#       1————————2\n",
        "#  (4) /\n",
        "#     0 \n",
        "#  (8) \\\n",
        "#       7\n",
        "\n",
        "# Pick the vertex with minimum key value and not already included in MST (not in mstSET).\n",
        "# We can either pick vertex 7 or vertex 2, let vertex 7 is picked. \n",
        "# So mestSet now become {0, 1, 7}. Update the key values of adjacent vertices of 7.\n",
        "# the key value of vertex 6 and 8 becomes finite (1 and 7 respectively).\n",
        "\n",
        "#           (8)    \n",
        "#       1————————2\n",
        "#  (4) /\n",
        "#     0    ______8  \n",
        "#  (8) \\  / (7)  \n",
        "#       7————————6\n",
        "#          (1)   \n",
        "\n",
        "# Pick the vertex with minimum kye value and not already included in MST(not in mstSET).\n",
        "# Vertex 6 is picked. So metSet now becomes {0, 1, 7, 6}. \n",
        "# Update the key values of adjacent vertices of 6.\n",
        "# The key value of vertex 5 and 8 are updated.\n",
        "\n",
        "#           (8)     \n",
        "#       1————————2\n",
        "#  (4) /\n",
        "#     0          8 \n",
        "#  (8) \\         |(6)  \n",
        "#       7————————6————————5\n",
        "#          (1)      (2)\n",
        "\n",
        "# we repeat the above steps until metSet includes all vertices of given graph.\n",
        "# Finally we get the following graph.\n",
        "\n",
        "#                    (7)\n",
        "#       1        2————————3\n",
        "#  (4) /      (2)| \\__     \\ (9)\n",
        "#     0          8    |__   4\n",
        "#  (8) \\             (4) \\\n",
        "#       7————————6————————5\n",
        "#          (1)      (2)\n"
      ],
      "metadata": {
        "id": "JgiXiXasMb6r"
      },
      "execution_count": null,
      "outputs": []
    },
    {
      "cell_type": "markdown",
      "source": [
        "**How to implement the above algorithm?**\n",
        "\n",
        "We use a boolean array mstSet[] to represnet the set of vertices included in MST. If a value mstSet[v] is true, then vertex v is included in MST, otherwise not. Array key[] is used to store key values of all vertices. Another array parent[] to store indexes of parent nodes in MST. The parent array is the output array whch is used ot show the constructed MST."
      ],
      "metadata": {
        "id": "aWSZvJAGPpzz"
      }
    },
    {
      "cell_type": "code",
      "source": [
        "# library for INT_MAX\n",
        "import sys \n",
        "\n",
        "class Graph():\n",
        "  def __init__(self, vertices):\n",
        "    self.V = vertices\n",
        "    self.graph = [[0 for column in range(vertices) for row in range(vertices)]]\n",
        "\n",
        "  # a function to print the constructed MST stored in parent[]\n",
        "  def printMST(self, parent):\n",
        "    print(\"Edge \\tWeight\")\n",
        "    for i in range(1, self.V):\n",
        "      print(parent[i], \"-\", i, \"\\t\", self.graph[i][parent[i]])\n",
        "  \n",
        "  # A fucntion to find the vertex with minimum distance value,\n",
        "  # from the set of vertices not yet included in shortest path tree\n",
        "  def minKey(self, key, mstSet):\n",
        "\n",
        "    # initialize min value\n",
        "    min = sys.maxsize\n",
        "\n",
        "    for v in range(self.V):\n",
        "      if key[v] < min and mstSet[v] == False:\n",
        "        min = key[v]\n",
        "        min_index = v\n",
        "    return min_index\n",
        "\n",
        "  # a function to construct and print MST for a graph\n",
        "  # represented using adjacency matrix representation\n",
        "  def primMST(self):\n",
        "\n",
        "    # key values used to pick minimum weight edge in cut\n",
        "    key = [sys.maxsize] * self.V\n",
        "    # array to store constructed MST\n",
        "    parent = [None] * self.V \n",
        "    # make key 0 so that this vertex is picked as girst vertex\n",
        "    key[0] = 0\n",
        "    mstSet = [False] * self.V\n",
        "    parent[0] = -1 # First node is always the root of \n",
        "\n",
        "    for cout in range(self.V):\n",
        "      # pick the minimum distance vertex from the set of vertices not yet processed\n",
        "      # u is always equal to src in fist iteration\n",
        "      u = self.minKey(key,  mstSet)\n",
        "\n",
        "      # put the minimum distance vertex in the shortest path tree\n",
        "      mstSet[u] = True\n",
        "\n",
        "      # update dist value of the adjacent vertices of the picked vertex -\n",
        "      # only if the current distance is greater than new distance and -\n",
        "      # the vertex is not in the shortest path tree\n",
        "      for v in range(self.V):\n",
        "\n",
        "        # graph[u][v] is non zero only for adjacent vertices of mstSet\n",
        "        # mstSet[v] is false for vertices not yet included in MST\n",
        "        # update the key only if graph[u][v] is smaller than key[v]\n",
        "        if self.graph[u][v] > 0 and mstSet[v] == False and key[v]:\n",
        "          key[v] = self.graph[u][v]\n",
        "          parent[v] = u\n",
        "\n",
        "    self.printMST(parent)\n",
        "  \n",
        "\n",
        "g = Graph(5)\n",
        "g.graph = [[0, 2, 0, 6, 0],\n",
        "           [2, 0, 3, 8, 5],\n",
        "           [0, 3, 0, 0, 7],\n",
        "           [6, 8, 0, 0, 9],\n",
        "           [0, 5, 7, 9, 0]]\n",
        "\n",
        "g.primMST()           "
      ],
      "metadata": {
        "colab": {
          "base_uri": "https://localhost:8080/"
        },
        "id": "P9a7awGYQVDL",
        "outputId": "480e25a3-563a-40c9-b44c-804627d50d5c"
      },
      "execution_count": null,
      "outputs": [
        {
          "output_type": "stream",
          "name": "stdout",
          "text": [
            "Edge \tWeight\n",
            "0 - 1 \t 2\n",
            "1 - 2 \t 3\n",
            "4 - 3 \t 9\n",
            "2 - 4 \t 7\n"
          ]
        }
      ]
    },
    {
      "cell_type": "markdown",
      "source": [
        "**Time Complexity**\n",
        "\n",
        "The time Complexity of the above program is O(V<sup>2</sup>). If the input graph is represented using adjacency list, then the time complexity of Prim's algorithm can be reduced to O(ElogV) with the help of a binary heap. In this implementation, we are always considering the spannig tree to start from the root of the graph, and this is the basic difference between Kruskal's Minimum Spanning Tree and Prim's Minimum Spanning tree."
      ],
      "metadata": {
        "id": "ksXb75HzUTVM"
      }
    },
    {
      "cell_type": "markdown",
      "source": [
        "###**Dijkstra's shortest path algorithm**"
      ],
      "metadata": {
        "id": "7DjST7FEFgh4"
      }
    },
    {
      "cell_type": "markdown",
      "source": [
        "Given a graph and a source vertex in the graph, find the shortest paths from the sorce to all vertices in the given graph.\n",
        "\n",
        "Dijkstra's algorithm is very similar to Prim's algorithm for minimum spanning tree. Like Prim's MST, we generate a SPT (shortest path tree) with a given source as a root. We maintain two sets, one set contains vertices included in the shortest-path tree, other set includes vertices not yet included in the shortest-path tree. At every step of the algorithm, we find a vertex that is in the other set (set of not yet included) and has a minimum distance for the source.\n",
        "\n",
        "Below are the detailed steps used in Dijkstra's algorithm to find the shortest path from a single source vertex to all toher vertices in the given graph."
      ],
      "metadata": {
        "id": "PIaU-aO1Ftdj"
      }
    },
    {
      "cell_type": "markdown",
      "source": [
        "**Algorithm**\n",
        "\n",
        "1. Create a set sptSet (shortest path tree set) that keeps track of vertices included in the shortest-path tree, i.e., whose minimum distance from the source is calculated and finalized. Initially, this set is empty.\n",
        "2. Assign a distance value to all vertices in the input graph. Initialize all distance values as INFINITE. Assign distance value as 0 for the source vertex so that it is picked first.\n",
        "3. While sptSet doesn't include all vertices.\n",
        "  a. Pick avertex u which is not there in sptSet and has a minimum distance value.\n",
        "  b. Include u to sptSet.\n",
        "  c. Update distance value of all adjacent vertices of u. To update the distance values, iterate through all adjacent vertices. For every adjacent vertex v, if the sum of distance value of u (from source) and weight of edge u-v, is less than the distance value of v, then update the distance value of v."
      ],
      "metadata": {
        "id": "dqahkqgxGj0p"
      }
    },
    {
      "cell_type": "code",
      "source": [
        "# a graph for the following example\n",
        "\n",
        "#           (8)      (7)\n",
        "#       1————————2————————3\n",
        "#  (4) /|(11) (2)| \\__(14)|\\ (9)\n",
        "#     0 |  ______8    |__ | 4\n",
        "#  (8) \\| / (7)  |(6) (4)\\|/ (10)  \n",
        "#       7————————6————————5\n",
        "#          (1)      (2)"
      ],
      "metadata": {
        "id": "wxHGfHZuHv37"
      },
      "execution_count": null,
      "outputs": []
    },
    {
      "cell_type": "markdown",
      "source": [
        "The set sptSet is initially empty and distances assigned to vertices are {0, INF, INF, INF, INF, INF, INF, INF} where INF indicates infinite. Now pick the vertex with a minimum distance value. The vertex 0 is picked, include it in sptSet. So sptSet becomes {0}. After including 0 to sptSet, update distance values of its adjacent vertices. Adjacent vertices of 0 are 1 and 7. The distance vlaues of 1 and 7 are updated as 4 and 8. \n"
      ],
      "metadata": {
        "id": "uH-o0z5UH6Cc"
      }
    },
    {
      "cell_type": "code",
      "source": [
        "# The following subgraph shows vertices and their distance values, -\n",
        "# only the vertices with finite distance vlaues are shown. \n",
        "\n",
        "#      (4)\n",
        "#       1   \n",
        "#      /     \n",
        "# (0) 0  \n",
        "#      \\    \n",
        "#       7 \n",
        "#      (8)\n",
        "\n",
        "\n",
        "# Pick the vertex with minimum distance value and not already included in SPT\n",
        "# (not in sptSET). The vertex 1 is picked and added to sptSet. So sptSet now - \n",
        "# become {0, 1}. Update the distance values of adjacent vertices of 1. \n",
        "# The distance value of vertex 2 become 12.\n",
        "\n",
        "#       (4)     (12)    \n",
        "#       1————————2\n",
        "#      /\n",
        "# (0) 0 \n",
        "#      \\\n",
        "#       7\n",
        "#      (8)\n",
        "\n",
        "\n",
        "# Pick the vertex with minimum distance value and not already included in SPT \n",
        "# (not in sptSET). Vertex 7 is picked. So sptSet now become {0, 1,7}. \n",
        "# Update the distance vlaues of adjacent vertices of 7. The distance value of -\n",
        "# vertex 6 and 8 become finite (15 and 9 respectively).\n",
        "\n",
        "#       (4)     (12)    \n",
        "#       1————————2\n",
        "#      /        (15)\n",
        "# (0) 0    ______8  \n",
        "#      \\  /      \n",
        "#       7————————6\n",
        "#      (8)      (9)\n",
        "\n",
        "\n",
        "# Pick the vertex with minimum distance value and not already included in SPT\n",
        "# (not in sptSET). Vertex 6 is picked. So sptSet now become {0, 1, 7, 6}.\n",
        "# Update the distance values of adjacent vertices of 6. The distance vlaue of-\n",
        "# vertex 5 and 8 are update.\n",
        "\n",
        "#       (4)     (12)    \n",
        "#       1————————2\n",
        "#      /        (15)\n",
        "# (0) 0          8  \n",
        "#      \\         |\n",
        "#       7————————6————————5\n",
        "#      (8)      (9)      (11)\n",
        "\n",
        "\n",
        "# We repeat the above steps until sptSet includes all vertices of the given graph.\n",
        "# Finally, we get the following Shortest Path Tree(SPT). \n",
        "\n",
        "#       (4)     (12)     (19)\n",
        "#       1————————2————————3\n",
        "#      /         | \n",
        "# (0) 0          8          4 (21)\n",
        "#      \\        (14)       /\n",
        "#       7————————6————————5\n",
        "#      (8)      (9)      (11)"
      ],
      "metadata": {
        "id": "4kN0gxkEI81M"
      },
      "execution_count": null,
      "outputs": []
    },
    {
      "cell_type": "markdown",
      "source": [
        "**How to implement the above algorithm?**\n",
        "\n",
        "We use a boolean array sptSet[] to represent the set of vertices included in SPT. If a value sptSet[v] is true, then vertex v is included in SPT, otherwise not, Array dist[] is used to store the shortest distance values of all vertices."
      ],
      "metadata": {
        "id": "WVbg_2ubNTNM"
      }
    },
    {
      "cell_type": "code",
      "source": [
        "# library for INT_MAX\n",
        "import sys\n",
        "\n",
        "class Graph():\n",
        "\n",
        "  def __init__(self, vertices):\n",
        "    self.V = vertices\n",
        "    self.graph = [[0 for column in range(vertices)] for row in range(vertices)]\n",
        "\n",
        "  def  printSolution(self, dist):\n",
        "    print(\"Vertex \\tDistance from Source\")\n",
        "    for node in range(self.V):\n",
        "      print(node, '\\t', dist[node])\n",
        "\n",
        "  # funciton to find the vertex with minimum distance value, - \n",
        "  # from the set of vertices not yet included in shortest path tree\n",
        "  def minDistance(self, dist, sptSet):\n",
        "\n",
        "    # initialize minimum distance for next node\n",
        "    min = sys.maxsize\n",
        "\n",
        "    # search not nearest vertex not in the shortest path tree\n",
        "    for u in range(self.V):\n",
        "      if dist[u] < min and sptSet[u] == False:\n",
        "        min = dist[u]\n",
        "        min_index = u\n",
        "\n",
        "    return min_index  \n",
        "  \n",
        "  # function that implements Dijkstra's single source shortest path algorithm - \n",
        "  # for a graph represented using adjacency matrix representation\n",
        "  def dijkstra(self, src):\n",
        "\n",
        "    dist = [sys.maxsize] * self.V\n",
        "    dist[src] = 0\n",
        "    sptSet = [False] * self.V\n",
        "\n",
        "    for cout in range(self.V):\n",
        "\n",
        "      # pick the minimum distance vertex from the set of vertices not yet processed.\n",
        "      # x is alwats equal to src in first iteration.\n",
        "      x = self.minDistance(dist, sptSet)\n",
        "\n",
        "      # Put the minimum distance vertex in the shortest path tree\n",
        "      sptSet[x] = True\n",
        "\n",
        "      # Update dist value of the adjacent vertices of the picked vertex only if-\n",
        "      # the current distance is greater than new distance and the vertex is not- \n",
        "      # in the shortest path tree\n",
        "      for y in range(self.V):\n",
        "        if self.graph[x][y] > 0 and sptSet[y] == False and \\\n",
        "        dist[y] > dist[x] + self.graph[x][y]:\n",
        "          dist[y] = dist[x] + self.graph[x][y]\n",
        "      \n",
        "    self.printSolution(dist)\n",
        "\n",
        "\n",
        "# driver program\n",
        "g = Graph(9)\n",
        "g.graph = [[0, 4, 0, 0, 0, 0, 0, 8, 0],\n",
        "           [4, 0, 8, 0, 0, 0, 0,11, 0],\n",
        "           [0, 8, 0, 7, 0, 4, 0, 0, 2],\n",
        "           [0, 0, 7, 0, 9,14, 0, 0, 0],\n",
        "           [0, 0, 0, 9, 0,10, 0, 0, 0],\n",
        "           [0, 0, 4,14,10, 0, 2, 0, 0],\n",
        "           [0, 0, 0, 0, 0, 2, 0, 1, 6],\n",
        "           [8,11, 0, 0, 0, 0, 1, 0, 7],\n",
        "           [0, 0, 2, 0, 0, 0, 6, 7, 0]]\n",
        "\n",
        "g.dijkstra(0)           "
      ],
      "metadata": {
        "colab": {
          "base_uri": "https://localhost:8080/"
        },
        "id": "STrYv6uvN1Rs",
        "outputId": "bd4a91db-47a6-4f02-99ff-62ece7e92e9e"
      },
      "execution_count": null,
      "outputs": [
        {
          "output_type": "stream",
          "name": "stdout",
          "text": [
            "Vertex \tDistance from Source\n",
            "0 \t 0\n",
            "1 \t 4\n",
            "2 \t 12\n",
            "3 \t 19\n",
            "4 \t 21\n",
            "5 \t 11\n",
            "6 \t 9\n",
            "7 \t 8\n",
            "8 \t 14\n"
          ]
        }
      ]
    },
    {
      "cell_type": "markdown",
      "source": [
        "**Notes.**\n",
        "\n",
        "1. The code calculates the shortest distance but doesn't calculate the path information we can create a parent array, update the parent array when distance is updated (like Prim's implementation) and use it to show the shortest path from source to different vertces.\n",
        "2. The code is for undirected graphs, the same Dijkstra fuction can be used for directed graphs also.\n",
        "3. The code finds the shortest distances from the source to all vertices. If we are interested only in the shortest distance from the source to a single target, we can break the for loop when the picked minimum distance vertex is equal to the target (Step 3a. of the algorithm).\n",
        "4. Time Complexity of the implementation is O(V<sup>2</sup>). If the input graph is represeted using adjacency list, it can be reduced to O(ElogV) with the help of a binary.\n",
        "5. Dijkstra's algorithm doesn't work for graphs with weight cycles. It may give correct results for a graph with negative edges but you must allow a vertex can be visited multiple times and the version will lose its fast time complexity. For    "
      ],
      "metadata": {
        "id": "K6m_HT5QXewO"
      }
    },
    {
      "cell_type": "markdown",
      "source": [
        "**Problem**\n",
        "\n",
        "**Balanced Parentheses**\n",
        "\n",
        "Parentheses are balanced, if all opening parentheses have their corresponding closing parentheses.\n",
        "\n",
        "Given an expression as input, we need to find out whether the parentheses are balanced or not \n",
        "\n",
        "For example\n",
        "\n",
        "> \"(x+y)*(z-2*(6))\" is balanced\n",
        "\n",
        "> while \"7-(3(2*9))4)(1 is not balanced.\n",
        "\n",
        "\n",
        "The problem can be solved using a **stack**. Push each opening patenthesis to the stack and pop the last inserted opening patenthesis whenever a closing parenthesis is encountedred. If the closing bracket does not correspond to the opening bracket, then stop and say that the brackets ate not balanced.\n",
        "\n",
        "Also, after checking all the parentheses, we need to check the stack to be empty -- if it's not empty, then the patentheses are not balanced.\n",
        "\n",
        "Implement the **balanced()** function to return **True** if the parentheses is the given expression are balanced, and **False** if not.\n",
        "\n",
        "**Sample Input:**\n",
        "\n",
        "(a()eee))\n",
        "\n",
        "**Sample Output:**\n",
        "\n",
        "False\n",
        "\n",
        "You can use a simple list for a stack. Use **list.insert(0,item)** to push on the stack, and **list.pop(0)** to pop the top item. You can access the top element of the stack using **list[0]**"
      ],
      "metadata": {
        "id": "-QITvJSWZvz9"
      }
    },
    {
      "cell_type": "code",
      "source": [
        "class Stack:\n",
        "  def __init__(self):\n",
        "    self.items = []\n",
        "\n",
        "  # fuction to check whether expression is balance or not    \n",
        "  def balance(self, items):\n",
        "\n",
        "    # iterate through each item. \n",
        "    for item in items:\n",
        "\n",
        "      # if item is a left-parenthesis then insert it at the first postion.\n",
        "      if item == '(':\n",
        "        self.items.insert(0,item) \n",
        "      else:\n",
        "\n",
        "        # if the list is not empty and an item is a right-parenthesis\n",
        "        # then pop the last item (left-parenthesis) out of the list. \n",
        "        if self.items != [] and item == ')':\n",
        "          self.items.pop()\n",
        "        else:\n",
        "          if self.items == [] and item == ')':\n",
        "             return False        \n",
        "\n",
        "    if self.items == []:\n",
        "      return True\n",
        "    return False\n",
        "      \n",
        "\n",
        "if __name__ == \"__main__\":\n",
        "\n",
        "  expr = input(\"Enter your expression : \")\n",
        "  s = Stack()\n",
        "  if s.balance(expr):\n",
        "    print(\"Balanced\")\n",
        "  else:\n",
        "    print(\"Not balanced\")"
      ],
      "metadata": {
        "colab": {
          "base_uri": "https://localhost:8080/"
        },
        "id": "Yb0_Qek9aDVH",
        "outputId": "c3fcaa2a-c580-4d93-daf6-9a5f52a9bfd7"
      },
      "execution_count": null,
      "outputs": [
        {
          "output_type": "stream",
          "name": "stdout",
          "text": [
            "Enter your expression : x^4 - 1 = (x^2 - 1)(x^2 + 1) = (x - 1)(x + 1)(x^2 + 1)\n",
            "Balanced\n"
          ]
        }
      ]
    },
    {
      "cell_type": "markdown",
      "source": [
        "#<b>Reference</b>"
      ],
      "metadata": {
        "id": "2ajrz62CJvnr"
      }
    },
    {
      "cell_type": "markdown",
      "source": [
        "Sololearn. *Python Data Structures.* https://www.sololearn.com/learning/1159\n",
        "\n",
        "Geeksforgeeks.(2022, August 10). *Data structures.* https://www.geeksforgeeks.org/data-structures/?ref=lbp\n",
        "\n",
        "Tutorialspoint. *Python Heaps.* https://www.tutorialspoint.com/python_data_structure/python_heaps.htm"
      ],
      "metadata": {
        "id": "2y3SxhiiJ4Qy"
      }
    }
  ]
}